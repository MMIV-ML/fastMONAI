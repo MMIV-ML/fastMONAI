{
 "cells": [
  {
   "cell_type": "markdown",
   "id": "e06e7968-124d-4778-806f-d4559264a095",
   "metadata": {},
   "source": [
    "# Spine segmentation training and evaluation "
   ]
  },
  {
   "cell_type": "raw",
   "id": "22342437",
   "metadata": {},
   "source": [
    "---\n",
    "skip_showdoc: true\n",
    "skip_exec: true\n",
    "---"
   ]
  },
  {
   "cell_type": "markdown",
   "id": "cc4ed2ef-0f21-425a-99c7-33d6803fb0a0",
   "metadata": {},
   "source": [
    "[![Google Colab](https://colab.research.google.com/assets/colab-badge.svg)](https://colab.research.google.com/github/MMIV-ML/fastMONAI/blob/master/research/spine/00-spine-segmentation-training-evaluation.ipynb)"
   ]
  },
  {
   "cell_type": "code",
   "execution_count": null,
   "id": "0aed7751-354c-4ce4-978d-163711557778",
   "metadata": {},
   "outputs": [
    {
     "name": "stdout",
     "output_type": "stream",
     "text": [
      "Running locally\n"
     ]
    }
   ],
   "source": [
    "#| hide\n",
    "#Install `fastMONAI` if notebook is running on Google Colab\n",
    "try:\n",
    "    import google.colab\n",
    "    %pip install fastMONAI\n",
    "    from fastMONAI.utils import print_colab_gpu_info\n",
    "    print_colab_gpu_info()\n",
    "except:\n",
    "    print('Running locally')"
   ]
  },
  {
   "cell_type": "code",
   "execution_count": null,
   "id": "8ad5460c-4eeb-4e42-be8a-1a307e381b5d",
   "metadata": {},
   "outputs": [],
   "source": [
    "# Import the necessary modules\n",
    "from fastMONAI.vision_all import *\n",
    "from monai.networks.nets import UNet\n",
    "from monai.apps import download_and_extract\n",
    "from huggingface_hub import snapshot_download"
   ]
  },
  {
   "cell_type": "code",
   "execution_count": null,
   "id": "9fe6e197-d4f9-451a-8566-2542f099e53f",
   "metadata": {},
   "outputs": [],
   "source": [
    "# Create a custom loss function using Tversky Focal Loss\n",
    "loss_func = CustomLoss(loss_func=TverskyFocalLoss(to_onehot_y=True, include_background=True, softmax=True))\n",
    "\n",
    "# Create a UNet model with the specified parameters\n",
    "model = UNet(spatial_dims=3, in_channels=1, out_channels=2, channels=(16, 32, 64, 128, 256), strides=(2, 2, 2, 2), num_res_units=2).model"
   ]
  },
  {
   "cell_type": "markdown",
   "id": "de0ad814-b180-44e1-85a2-0ac2049fd2a9",
   "metadata": {},
   "source": [
    "## Example of creating DataFrame for training"
   ]
  },
  {
   "cell_type": "code",
   "execution_count": null,
   "id": "6d7a12d6-521a-4ec5-92b9-167653010e45",
   "metadata": {},
   "outputs": [],
   "source": [
    "DATA_DIR = Path('../data')\n",
    "STUDY_DIR = download_example_spine_data(path=DATA_DIR)"
   ]
  },
  {
   "cell_type": "code",
   "execution_count": null,
   "id": "4c3610d9-bf24-4988-8c18-3af9acddc0a0",
   "metadata": {},
   "outputs": [
    {
     "data": {
      "text/html": [
       "<div>\n",
       "<style scoped>\n",
       "    .dataframe tbody tr th:only-of-type {\n",
       "        vertical-align: middle;\n",
       "    }\n",
       "\n",
       "    .dataframe tbody tr th {\n",
       "        vertical-align: top;\n",
       "    }\n",
       "\n",
       "    .dataframe thead th {\n",
       "        text-align: right;\n",
       "    }\n",
       "</style>\n",
       "<table border=\"1\" class=\"dataframe\">\n",
       "  <thead>\n",
       "    <tr style=\"text-align: right;\">\n",
       "      <th></th>\n",
       "      <th>t2_img_path</th>\n",
       "      <th>t2_mask_path</th>\n",
       "      <th>subject_id</th>\n",
       "      <th>is_val</th>\n",
       "    </tr>\n",
       "  </thead>\n",
       "  <tbody>\n",
       "    <tr>\n",
       "      <th>0</th>\n",
       "      <td>../data/example_data/img.nii.gz</td>\n",
       "      <td>../data/example_data/pred_mask.nii.gz</td>\n",
       "      <td>-1</td>\n",
       "      <td>False</td>\n",
       "    </tr>\n",
       "  </tbody>\n",
       "</table>\n",
       "</div>"
      ],
      "text/plain": [
       "                       t2_img_path                           t2_mask_path  \\\n",
       "0  ../data/example_data/img.nii.gz  ../data/example_data/pred_mask.nii.gz   \n",
       "\n",
       "   subject_id  is_val  \n",
       "0          -1   False  "
      ]
     },
     "execution_count": null,
     "metadata": {},
     "output_type": "execute_result"
    }
   ],
   "source": [
    "# Create a dictionary containing the example data\n",
    "example_data = {'t2_img_path':str(STUDY_DIR/'img.nii.gz'), 't2_mask_path':str(STUDY_DIR/'pred_mask.nii.gz'), 'subject_id':-1, 'is_val':False}\n",
    "\n",
    "# Create a DataFrame from the example data dictionary (remove [] if data > 1) \n",
    "df = pd.DataFrame([example_data])\n",
    "df"
   ]
  },
  {
   "cell_type": "markdown",
   "id": "ba47fc19-fd07-4041-9f27-5d2638f7eb37",
   "metadata": {},
   "source": [
    "<b> Skip to inference part of the notebook to reproduce the test results and export the trained models for inference on own data. </b>"
   ]
  },
  {
   "cell_type": "markdown",
   "id": "d8512dd8-fab1-4871-a0c2-b8e065c48fe2",
   "metadata": {},
   "source": [
    "## Train your own model "
   ]
  },
  {
   "cell_type": "code",
   "execution_count": null,
   "id": "f518f312-0a6b-4496-9fae-b0417dad4720",
   "metadata": {},
   "outputs": [],
   "source": [
    "# Set the data directory to the specified path relative to the working directory\n",
    "TRAIN_DATA_DIR = DATA_DIR/'ADD_PATH'"
   ]
  },
  {
   "cell_type": "code",
   "execution_count": null,
   "id": "7b3119c4-333d-44a3-b962-cd99889fc32f",
   "metadata": {},
   "outputs": [],
   "source": [
    "# Set the fold number\n",
    "fold = 0\n",
    "\n",
    "# Read the data from the specified CSV file\n",
    "df = pd.read_csv(TRAIN_DATA_DIR/'ADD_CSV_FILENAME')\n",
    "\n",
    "# Set the 'is_val' column to True for rows in the specified fold\n",
    "df.loc[df.fold == fold, 'is_val'] = True"
   ]
  },
  {
   "cell_type": "markdown",
   "id": "708129c0-0de5-4c9d-9891-47d36b515227",
   "metadata": {},
   "source": [
    "### Look at training data"
   ]
  },
  {
   "cell_type": "code",
   "execution_count": null,
   "id": "5ba737d7-2b7b-41ef-889d-d3523be5907e",
   "metadata": {},
   "outputs": [],
   "source": [
    "med_dataset = MedDataset(img_list=df.t2_img_path.tolist(), reorder=True, max_workers=12)"
   ]
  },
  {
   "cell_type": "code",
   "execution_count": null,
   "id": "739baaf1-ecb3-4e43-9ab5-bd7d5e4f02c9",
   "metadata": {},
   "outputs": [],
   "source": [
    "data_info_df = med_dataset.summary()"
   ]
  },
  {
   "cell_type": "code",
   "execution_count": null,
   "id": "8b70ff2e-fe93-46cb-981e-8540e49d0847",
   "metadata": {},
   "outputs": [
    {
     "data": {
      "text/plain": [
       "([4.4, 0.7813, 0.7812], True)"
      ]
     },
     "execution_count": null,
     "metadata": {},
     "output_type": "execute_result"
    }
   ],
   "source": [
    "# Get the suggested resampling and reordering values from the dataset\n",
    "resample, reorder = med_dataset.suggestion()\n",
    "resample, reorder"
   ]
  },
  {
   "cell_type": "code",
   "execution_count": null,
   "id": "d55779be-213e-4a39-b405-d0577186d09a",
   "metadata": {},
   "outputs": [
    {
     "data": {
      "text/plain": [
       "[17.0, 385.0, 385.0]"
      ]
     },
     "execution_count": null,
     "metadata": {},
     "output_type": "execute_result"
    }
   ],
   "source": [
    "# Get the largest image size from the dataset, using the specified resampling values\n",
    "img_size = med_dataset.get_largest_img_size(resample=resample)\n",
    "img_size"
   ]
  },
  {
   "cell_type": "code",
   "execution_count": null,
   "id": "c88a00a8-5cae-42cb-baa3-bc53f01a24a2",
   "metadata": {},
   "outputs": [],
   "source": [
    "size = [16,400,400]\n",
    "bs = 4"
   ]
  },
  {
   "cell_type": "markdown",
   "id": "8a46ea11-970b-4862-8d21-c8e720ed7ef9",
   "metadata": {},
   "source": [
    "### Create MedDataBlock and Learner"
   ]
  },
  {
   "cell_type": "code",
   "execution_count": null,
   "id": "db417648-4c43-48f6-b1f1-c943683f5e35",
   "metadata": {},
   "outputs": [],
   "source": [
    "# Create a list of transformations to apply to the images, with a probability of 0.5 for each transformation being applied\n",
    "item_tfms = [ZNormalization(), PadOrCrop(size), \n",
    "             RandomGamma(log_gamma=(-0.2,0.2), p=0.5), RandomAffine(scales=(0.9, 1.1), degrees=5, p=0.5), \n",
    "             RandomElasticDeformation(num_control_points=5, max_displacement=5.5, p=0.5)]"
   ]
  },
  {
   "cell_type": "code",
   "execution_count": null,
   "id": "e2e516a2-9b18-4ec5-a265-01a60aeb8f6b",
   "metadata": {},
   "outputs": [],
   "source": [
    "# Create a MedDataBlock with the specified blocks, splitter, and item transformations\n",
    "dblock = MedDataBlock(blocks=(ImageBlock(cls=MedImage), MedMaskBlock), \n",
    "                      splitter=ColSplitter('is_val'),\n",
    "                      get_x=ColReader('t2_img_path'),\n",
    "                      get_y=ColReader('t2_mask_path'),\n",
    "                      item_tfms=item_tfms,\n",
    "                      reorder=reorder,\n",
    "                      resample=resample) "
   ]
  },
  {
   "cell_type": "code",
   "execution_count": null,
   "id": "b1e00e8c-5973-4a6e-979e-4e267a52afca",
   "metadata": {},
   "outputs": [],
   "source": [
    "dls = dblock.dataloaders(df, bs=bs)"
   ]
  },
  {
   "cell_type": "code",
   "execution_count": null,
   "id": "07c7f219-f151-49d3-b2f9-f0fbfca7c5cd",
   "metadata": {},
   "outputs": [
    {
     "data": {
      "text/plain": [
       "(12, 3)"
      ]
     },
     "execution_count": null,
     "metadata": {},
     "output_type": "execute_result"
    }
   ],
   "source": [
    "# training and validation\n",
    "len(dls.train_ds.items), len(dls.valid_ds.items)"
   ]
  },
  {
   "cell_type": "code",
   "execution_count": null,
   "id": "cdb56350-43d7-4514-bb60-2e5f78bb7738",
   "metadata": {},
   "outputs": [
    {
     "data": {
      "image/png": "[encoded data removed]",
      "text/plain": [
       "<Figure size 360x360 with 4 Axes>"
      ]
     },
     "metadata": {
      "needs_background": "light"
     },
     "output_type": "display_data"
    }
   ],
   "source": [
    "dls.show_batch(unique=True, max_n=2, figsize=(5, 5)) "
   ]
  },
  {
   "cell_type": "code",
   "execution_count": null,
   "id": "0c807d6b-7349-4bca-8b92-e439cdef3b9a",
   "metadata": {},
   "outputs": [],
   "source": [
    "learn = Learner(dls, model, loss_func=loss_func, opt_func=ranger, metrics=[multi_dice_score])"
   ]
  },
  {
   "cell_type": "code",
   "execution_count": null,
   "id": "5dd5d682-82e5-4034-8872-63deedc9de5f",
   "metadata": {},
   "outputs": [
    {
     "data": {
      "text/html": [
       "\n",
       "<style>\n",
       "    /* Turns off some styling */\n",
       "    progress {\n",
       "        /* gets rid of default border in Firefox and Opera. */\n",
       "        border: none;\n",
       "        /* Needs to be in here for Safari polyfill so background images work as expected. */\n",
       "        background-size: auto;\n",
       "    }\n",
       "    progress:not([value]), progress:not([value])::-webkit-progress-bar {\n",
       "        background: repeating-linear-gradient(45deg, #7e7e7e, #7e7e7e 10px, #5c5c5c 10px, #5c5c5c 20px);\n",
       "    }\n",
       "    .progress-bar-interrupted, .progress-bar-interrupted::-webkit-progress-bar {\n",
       "        background: #F44336;\n",
       "    }\n",
       "</style>\n"
      ],
      "text/plain": [
       "<IPython.core.display.HTML object>"
      ]
     },
     "metadata": {},
     "output_type": "display_data"
    },
    {
     "data": {
      "text/html": [],
      "text/plain": [
       "<IPython.core.display.HTML object>"
      ]
     },
     "metadata": {},
     "output_type": "display_data"
    },
    {
     "data": {
      "text/plain": [
       "SuggestedLRs(valley=0.001737800776027143)"
      ]
     },
     "execution_count": null,
     "metadata": {},
     "output_type": "execute_result"
    },
    {
     "data": {
      "image/png": "[encoded data removed]",
      "text/plain": [
       "<Figure size 432x288 with 1 Axes>"
      ]
     },
     "metadata": {
      "needs_background": "light"
     },
     "output_type": "display_data"
    }
   ],
   "source": [
    "lr=learn.lr_find()\n",
    "lr "
   ]
  },
  {
   "cell_type": "code",
   "execution_count": null,
   "id": "9933d80e-e1a4-4ef7-9972-d28c99dafe74",
   "metadata": {},
   "outputs": [
    {
     "data": {
      "text/html": [
       "\n",
       "<style>\n",
       "    /* Turns off some styling */\n",
       "    progress {\n",
       "        /* gets rid of default border in Firefox and Opera. */\n",
       "        border: none;\n",
       "        /* Needs to be in here for Safari polyfill so background images work as expected. */\n",
       "        background-size: auto;\n",
       "    }\n",
       "    progress:not([value]), progress:not([value])::-webkit-progress-bar {\n",
       "        background: repeating-linear-gradient(45deg, #7e7e7e, #7e7e7e 10px, #5c5c5c 10px, #5c5c5c 20px);\n",
       "    }\n",
       "    .progress-bar-interrupted, .progress-bar-interrupted::-webkit-progress-bar {\n",
       "        background: #F44336;\n",
       "    }\n",
       "</style>\n"
      ],
      "text/plain": [
       "<IPython.core.display.HTML object>"
      ]
     },
     "metadata": {},
     "output_type": "display_data"
    },
    {
     "data": {
      "text/html": [
       "<table border=\"1\" class=\"dataframe\">\n",
       "  <thead>\n",
       "    <tr style=\"text-align: left;\">\n",
       "      <th>epoch</th>\n",
       "      <th>train_loss</th>\n",
       "      <th>valid_loss</th>\n",
       "      <th>multi_dice_score</th>\n",
       "      <th>time</th>\n",
       "    </tr>\n",
       "  </thead>\n",
       "  <tbody>\n",
       "    <tr>\n",
       "      <td>0</td>\n",
       "      <td>0.818289</td>\n",
       "      <td>0.819564</td>\n",
       "      <td>0.236113</td>\n",
       "      <td>00:08</td>\n",
       "    </tr>\n",
       "    <tr>\n",
       "      <td>1</td>\n",
       "      <td>0.815933</td>\n",
       "      <td>0.817203</td>\n",
       "      <td>0.265275</td>\n",
       "      <td>00:07</td>\n",
       "    </tr>\n",
       "    <tr>\n",
       "      <td>2</td>\n",
       "      <td>0.814552</td>\n",
       "      <td>0.805336</td>\n",
       "      <td>0.262486</td>\n",
       "      <td>00:07</td>\n",
       "    </tr>\n",
       "    <tr>\n",
       "      <td>3</td>\n",
       "      <td>0.807869</td>\n",
       "      <td>0.792286</td>\n",
       "      <td>0.314553</td>\n",
       "      <td>00:07</td>\n",
       "    </tr>\n",
       "    <tr>\n",
       "      <td>4</td>\n",
       "      <td>0.801700</td>\n",
       "      <td>0.773624</td>\n",
       "      <td>0.378785</td>\n",
       "      <td>00:08</td>\n",
       "    </tr>\n",
       "  </tbody>\n",
       "</table>"
      ],
      "text/plain": [
       "<IPython.core.display.HTML object>"
      ]
     },
     "metadata": {},
     "output_type": "display_data"
    }
   ],
   "source": [
    "learn.fit_flat_cos(5 ,lr)"
   ]
  },
  {
   "cell_type": "code",
   "execution_count": null,
   "id": "dd3ad535-7bfd-4524-a599-4e07036d2225",
   "metadata": {},
   "outputs": [],
   "source": [
    "learn.save('custom-model')"
   ]
  },
  {
   "cell_type": "code",
   "execution_count": null,
   "id": "6df5ba62-0677-4746-bf29-72625c0c06b5",
   "metadata": {},
   "outputs": [],
   "source": [
    "store_variables(pkl_fn='models/vars.pkl', size=size, reorder=reorder, resample=resample)"
   ]
  },
  {
   "cell_type": "markdown",
   "id": "6ba49424-09d5-4676-a8c3-e55f3a4d641a",
   "metadata": {},
   "source": [
    "## Inference on test data"
   ]
  },
  {
   "cell_type": "markdown",
   "id": "0b4a827d-7a7b-4ecf-8949-a5fddf16eb68",
   "metadata": {},
   "source": [
    "### Download trained weights"
   ]
  },
  {
   "cell_type": "code",
   "execution_count": null,
   "id": "6c4f1ac0-06df-4520-8e8e-5d468521a73a",
   "metadata": {},
   "outputs": [],
   "source": [
    "# Download the models from the study repository and cache them in the 'models' directory\n",
    "models_path = Path(snapshot_download(repo_id=\"skaliy/spine-segmentation\",  cache_dir='models'))\n",
    "\n",
    "# Create a list of the models' file paths\n",
    "model_list = ['/'.join((fn.parts[1:])) for fn in list(models_path.glob('*.pth'))]"
   ]
  },
  {
   "cell_type": "code",
   "execution_count": null,
   "id": "b991b2cb-0e06-41be-8028-cfee4e454f50",
   "metadata": {},
   "outputs": [
    {
     "data": {
      "text/plain": [
       "([16, 400, 400], True, [4.4, 0.78, 0.78])"
      ]
     },
     "execution_count": null,
     "metadata": {},
     "output_type": "execute_result"
    }
   ],
   "source": [
    "# Load the variables value from the specified file\n",
    "size, reorder, resample = load_variables(pkl_fn=models_path/'vars.pkl')\n",
    "size, reorder, resample"
   ]
  },
  {
   "cell_type": "markdown",
   "id": "be889557-8b62-48a6-9aa8-ca13219ab21b",
   "metadata": {},
   "source": [
    "### Download test data"
   ]
  },
  {
   "cell_type": "code",
   "execution_count": null,
   "id": "16a6ef76-e10b-46c6-84dd-535399c828fe",
   "metadata": {},
   "outputs": [],
   "source": [
    "df_test = download_spine_test_data(path=DATA_DIR)\n",
    "\n",
    "# Concatenate the original DataFrame and the test DataFrame\n",
    "df = pd.concat([df, df_test], ignore_index=True)\n",
    "df['is_test'].fillna(False, inplace=True)"
   ]
  },
  {
   "cell_type": "markdown",
   "id": "724a8967-7249-4195-9e0a-0a9028f2b2e9",
   "metadata": {},
   "source": [
    "### Create MedDataBlock and Learner"
   ]
  },
  {
   "cell_type": "code",
   "execution_count": null,
   "id": "c995ba1e-faab-48a8-9645-0237b63b883e",
   "metadata": {},
   "outputs": [],
   "source": [
    "# Create a MedDataBlock with the specified blocks, splitter, and item transformations\n",
    "dblock = MedDataBlock(blocks=(ImageBlock(cls=MedImage), MedMaskBlock), \n",
    "                      splitter=ColSplitter('is_test'),\n",
    "                      get_x=ColReader('t2_img_path'),\n",
    "                      get_y=ColReader('t2_mask_path'),\n",
    "                      item_tfms=[ZNormalization(), PadOrCrop(size)],\n",
    "                      reorder=reorder,\n",
    "                      resample=resample) "
   ]
  },
  {
   "cell_type": "code",
   "execution_count": null,
   "id": "6d1fe098-f1f2-4cfb-af61-670a965a9a2d",
   "metadata": {},
   "outputs": [],
   "source": [
    "dls = dblock.dataloaders(df, bs=4)"
   ]
  },
  {
   "cell_type": "code",
   "execution_count": null,
   "id": "7dd3adab-fe94-411a-aa68-d4fe74a3d8ce",
   "metadata": {},
   "outputs": [],
   "source": [
    "learn = Learner(dls, model, loss_func=loss_func, opt_func=ranger)"
   ]
  },
  {
   "cell_type": "markdown",
   "id": "baacd080-5641-425d-836f-a2a7771fc8d2",
   "metadata": {},
   "source": [
    "### Predict on test data and export learner "
   ]
  },
  {
   "cell_type": "code",
   "execution_count": null,
   "id": "580af84c-86f5-445e-9ac7-6952eda39469",
   "metadata": {},
   "outputs": [
    {
     "data": {
      "text/html": [
       "\n",
       "<style>\n",
       "    /* Turns off some styling */\n",
       "    progress {\n",
       "        /* gets rid of default border in Firefox and Opera. */\n",
       "        border: none;\n",
       "        /* Needs to be in here for Safari polyfill so background images work as expected. */\n",
       "        background-size: auto;\n",
       "    }\n",
       "    progress:not([value]), progress:not([value])::-webkit-progress-bar {\n",
       "        background: repeating-linear-gradient(45deg, #7e7e7e, #7e7e7e 10px, #5c5c5c 10px, #5c5c5c 20px);\n",
       "    }\n",
       "    .progress-bar-interrupted, .progress-bar-interrupted::-webkit-progress-bar {\n",
       "        background: #F44336;\n",
       "    }\n",
       "</style>\n"
      ],
      "text/plain": [
       "<IPython.core.display.HTML object>"
      ]
     },
     "metadata": {},
     "output_type": "display_data"
    },
    {
     "data": {
      "text/html": [],
      "text/plain": [
       "<IPython.core.display.HTML object>"
      ]
     },
     "metadata": {},
     "output_type": "display_data"
    },
    {
     "data": {
      "text/html": [
       "\n",
       "<style>\n",
       "    /* Turns off some styling */\n",
       "    progress {\n",
       "        /* gets rid of default border in Firefox and Opera. */\n",
       "        border: none;\n",
       "        /* Needs to be in here for Safari polyfill so background images work as expected. */\n",
       "        background-size: auto;\n",
       "    }\n",
       "    progress:not([value]), progress:not([value])::-webkit-progress-bar {\n",
       "        background: repeating-linear-gradient(45deg, #7e7e7e, #7e7e7e 10px, #5c5c5c 10px, #5c5c5c 20px);\n",
       "    }\n",
       "    .progress-bar-interrupted, .progress-bar-interrupted::-webkit-progress-bar {\n",
       "        background: #F44336;\n",
       "    }\n",
       "</style>\n"
      ],
      "text/plain": [
       "<IPython.core.display.HTML object>"
      ]
     },
     "metadata": {},
     "output_type": "display_data"
    },
    {
     "data": {
      "text/html": [],
      "text/plain": [
       "<IPython.core.display.HTML object>"
      ]
     },
     "metadata": {},
     "output_type": "display_data"
    },
    {
     "data": {
      "text/html": [
       "\n",
       "<style>\n",
       "    /* Turns off some styling */\n",
       "    progress {\n",
       "        /* gets rid of default border in Firefox and Opera. */\n",
       "        border: none;\n",
       "        /* Needs to be in here for Safari polyfill so background images work as expected. */\n",
       "        background-size: auto;\n",
       "    }\n",
       "    progress:not([value]), progress:not([value])::-webkit-progress-bar {\n",
       "        background: repeating-linear-gradient(45deg, #7e7e7e, #7e7e7e 10px, #5c5c5c 10px, #5c5c5c 20px);\n",
       "    }\n",
       "    .progress-bar-interrupted, .progress-bar-interrupted::-webkit-progress-bar {\n",
       "        background: #F44336;\n",
       "    }\n",
       "</style>\n"
      ],
      "text/plain": [
       "<IPython.core.display.HTML object>"
      ]
     },
     "metadata": {},
     "output_type": "display_data"
    },
    {
     "data": {
      "text/html": [],
      "text/plain": [
       "<IPython.core.display.HTML object>"
      ]
     },
     "metadata": {},
     "output_type": "display_data"
    }
   ],
   "source": [
    "n_folds = len(model_list)\n",
    "ensemble_acts = None\n",
    "\n",
    "for idx, fn in enumerate(model_list): \n",
    "    \n",
    "    # Load the model from the specified file\n",
    "    learn.load(str(fn).split('.')[0])\n",
    "    # Export the model\n",
    "    learn.export(f'models/{idx}_learner.pkl')\n",
    "    \n",
    "    # Get the model's predictions on the data\n",
    "    pred_acts, labels = learn.get_preds()\n",
    "        \n",
    "    # Add the predictions to the ensemble\n",
    "    ensemble_acts = pred_acts if ensemble_acts is None else ensemble_acts + pred_acts\n",
    "\n",
    "# Average the predictions of all the models in the ensemble\n",
    "ensemble_acts = ensemble_acts/n_folds"
   ]
  },
  {
   "cell_type": "code",
   "execution_count": null,
   "id": "24f95771-9f4a-4470-8b45-494e192b4ed6",
   "metadata": {},
   "outputs": [],
   "source": [
    "raw_preds,_ = batch_pred_to_multiclass_mask(ensemble_acts)\n",
    "post_preds = [torch.Tensor(pred_postprocess(pred)) for pred in raw_preds]"
   ]
  },
  {
   "cell_type": "code",
   "execution_count": null,
   "id": "400b37dc-dd0e-404a-9137-f748af5e39fc",
   "metadata": {},
   "outputs": [],
   "source": [
    "# Calculate the Dice score for the postprocessed masks\n",
    "post_dsc = calculate_dsc(post_preds, labels)\n",
    "\n",
    "# Calculate Hausdorff distance for the postprocessed masks\n",
    "post_haus = calculate_haus(post_preds, labels)"
   ]
  },
  {
   "cell_type": "code",
   "execution_count": null,
   "id": "b2a482e4-85ca-4b72-96bb-ecff43ed82ab",
   "metadata": {},
   "outputs": [
    {
     "name": "stdout",
     "output_type": "stream",
     "text": [
      "DSC: 0.8990 ± 0.0199\n",
      "Haus: 12.0519 ± 11.6195\n"
     ]
    }
   ],
   "source": [
    "print(f'DSC: {torch.mean(post_dsc):.4f} \\u00B1 {torch.std(post_dsc):.4f}')\n",
    "print(f'Haus: {torch.mean(post_haus):.4f} \\u00B1 {torch.std(post_haus):.4f}')"
   ]
  },
  {
   "cell_type": "code",
   "execution_count": null,
   "id": "7c37a610-d5c2-4dbf-9b2b-23107368761d",
   "metadata": {},
   "outputs": [],
   "source": [
    "df_test = df[1:].copy()\n",
    "df_test['postprocessed_ensemble_dsc'] = post_dsc\n",
    "df_test['postprocessed_ensemble_haus'] = post_haus\n",
    "df_test = df_test.sort_values('subject_id').reset_index(drop=True)"
   ]
  },
  {
   "cell_type": "code",
   "execution_count": null,
   "id": "2cb00290-3aff-4a5a-8120-2a3d619cda75",
   "metadata": {},
   "outputs": [
    {
     "data": {
      "text/html": [
       "<div>\n",
       "<style scoped>\n",
       "    .dataframe tbody tr th:only-of-type {\n",
       "        vertical-align: middle;\n",
       "    }\n",
       "\n",
       "    .dataframe tbody tr th {\n",
       "        vertical-align: top;\n",
       "    }\n",
       "\n",
       "    .dataframe thead th {\n",
       "        text-align: right;\n",
       "    }\n",
       "</style>\n",
       "<table border=\"1\" class=\"dataframe\">\n",
       "  <thead>\n",
       "    <tr style=\"text-align: right;\">\n",
       "      <th></th>\n",
       "      <th>t2_img_path</th>\n",
       "      <th>t2_mask_path</th>\n",
       "      <th>subject_id</th>\n",
       "      <th>is_val</th>\n",
       "      <th>is_test</th>\n",
       "      <th>postprocessed_ensemble_dsc</th>\n",
       "      <th>postprocessed_ensemble_haus</th>\n",
       "    </tr>\n",
       "  </thead>\n",
       "  <tbody>\n",
       "    <tr>\n",
       "      <th>0</th>\n",
       "      <td>../data/chengwen_chu_2015/img/Img_01.nii.gz</td>\n",
       "      <td>../data/chengwen_chu_2015/seg/Img_01.nii.gz</td>\n",
       "      <td>01</td>\n",
       "      <td>NaN</td>\n",
       "      <td>True</td>\n",
       "      <td>0.921241</td>\n",
       "      <td>6.708204</td>\n",
       "    </tr>\n",
       "    <tr>\n",
       "      <th>1</th>\n",
       "      <td>../data/chengwen_chu_2015/img/Img_02.nii.gz</td>\n",
       "      <td>../data/chengwen_chu_2015/seg/Img_02.nii.gz</td>\n",
       "      <td>02</td>\n",
       "      <td>NaN</td>\n",
       "      <td>True</td>\n",
       "      <td>0.917546</td>\n",
       "      <td>4.242640</td>\n",
       "    </tr>\n",
       "    <tr>\n",
       "      <th>2</th>\n",
       "      <td>../data/chengwen_chu_2015/img/Img_03.nii.gz</td>\n",
       "      <td>../data/chengwen_chu_2015/seg/Img_03.nii.gz</td>\n",
       "      <td>03</td>\n",
       "      <td>NaN</td>\n",
       "      <td>True</td>\n",
       "      <td>0.880941</td>\n",
       "      <td>35.468296</td>\n",
       "    </tr>\n",
       "    <tr>\n",
       "      <th>3</th>\n",
       "      <td>../data/chengwen_chu_2015/img/Img_04.nii.gz</td>\n",
       "      <td>../data/chengwen_chu_2015/seg/Img_04.nii.gz</td>\n",
       "      <td>04</td>\n",
       "      <td>NaN</td>\n",
       "      <td>True</td>\n",
       "      <td>0.877997</td>\n",
       "      <td>18.601076</td>\n",
       "    </tr>\n",
       "    <tr>\n",
       "      <th>4</th>\n",
       "      <td>../data/chengwen_chu_2015/img/Img_05.nii.gz</td>\n",
       "      <td>../data/chengwen_chu_2015/seg/Img_05.nii.gz</td>\n",
       "      <td>05</td>\n",
       "      <td>NaN</td>\n",
       "      <td>True</td>\n",
       "      <td>0.927981</td>\n",
       "      <td>7.071068</td>\n",
       "    </tr>\n",
       "    <tr>\n",
       "      <th>5</th>\n",
       "      <td>../data/chengwen_chu_2015/img/Img_06.nii.gz</td>\n",
       "      <td>../data/chengwen_chu_2015/seg/Img_06.nii.gz</td>\n",
       "      <td>06</td>\n",
       "      <td>NaN</td>\n",
       "      <td>True</td>\n",
       "      <td>0.913778</td>\n",
       "      <td>8.062258</td>\n",
       "    </tr>\n",
       "    <tr>\n",
       "      <th>6</th>\n",
       "      <td>../data/chengwen_chu_2015/img/Img_07.nii.gz</td>\n",
       "      <td>../data/chengwen_chu_2015/seg/Img_07.nii.gz</td>\n",
       "      <td>07</td>\n",
       "      <td>NaN</td>\n",
       "      <td>True</td>\n",
       "      <td>0.902101</td>\n",
       "      <td>5.000000</td>\n",
       "    </tr>\n",
       "    <tr>\n",
       "      <th>7</th>\n",
       "      <td>../data/chengwen_chu_2015/img/Img_08.nii.gz</td>\n",
       "      <td>../data/chengwen_chu_2015/seg/Img_08.nii.gz</td>\n",
       "      <td>08</td>\n",
       "      <td>NaN</td>\n",
       "      <td>True</td>\n",
       "      <td>0.922395</td>\n",
       "      <td>5.477226</td>\n",
       "    </tr>\n",
       "    <tr>\n",
       "      <th>8</th>\n",
       "      <td>../data/chengwen_chu_2015/img/Img_09.nii.gz</td>\n",
       "      <td>../data/chengwen_chu_2015/seg/Img_09.nii.gz</td>\n",
       "      <td>09</td>\n",
       "      <td>NaN</td>\n",
       "      <td>True</td>\n",
       "      <td>0.901496</td>\n",
       "      <td>8.660254</td>\n",
       "    </tr>\n",
       "    <tr>\n",
       "      <th>9</th>\n",
       "      <td>../data/chengwen_chu_2015/img/Img_10.nii.gz</td>\n",
       "      <td>../data/chengwen_chu_2015/seg/Img_10.nii.gz</td>\n",
       "      <td>10</td>\n",
       "      <td>NaN</td>\n",
       "      <td>True</td>\n",
       "      <td>0.909481</td>\n",
       "      <td>4.582576</td>\n",
       "    </tr>\n",
       "    <tr>\n",
       "      <th>10</th>\n",
       "      <td>../data/chengwen_chu_2015/img/Img_11.nii.gz</td>\n",
       "      <td>../data/chengwen_chu_2015/seg/Img_11.nii.gz</td>\n",
       "      <td>11</td>\n",
       "      <td>NaN</td>\n",
       "      <td>True</td>\n",
       "      <td>0.863644</td>\n",
       "      <td>10.246951</td>\n",
       "    </tr>\n",
       "    <tr>\n",
       "      <th>11</th>\n",
       "      <td>../data/chengwen_chu_2015/img/Img_12.nii.gz</td>\n",
       "      <td>../data/chengwen_chu_2015/seg/Img_12.nii.gz</td>\n",
       "      <td>12</td>\n",
       "      <td>NaN</td>\n",
       "      <td>True</td>\n",
       "      <td>0.911884</td>\n",
       "      <td>9.539392</td>\n",
       "    </tr>\n",
       "    <tr>\n",
       "      <th>12</th>\n",
       "      <td>../data/chengwen_chu_2015/img/Img_13.nii.gz</td>\n",
       "      <td>../data/chengwen_chu_2015/seg/Img_13.nii.gz</td>\n",
       "      <td>13</td>\n",
       "      <td>NaN</td>\n",
       "      <td>True</td>\n",
       "      <td>0.886437</td>\n",
       "      <td>9.055386</td>\n",
       "    </tr>\n",
       "    <tr>\n",
       "      <th>13</th>\n",
       "      <td>../data/chengwen_chu_2015/img/Img_14.nii.gz</td>\n",
       "      <td>../data/chengwen_chu_2015/seg/Img_14.nii.gz</td>\n",
       "      <td>14</td>\n",
       "      <td>NaN</td>\n",
       "      <td>True</td>\n",
       "      <td>0.897514</td>\n",
       "      <td>4.242640</td>\n",
       "    </tr>\n",
       "    <tr>\n",
       "      <th>14</th>\n",
       "      <td>../data/chengwen_chu_2015/img/Img_15.nii.gz</td>\n",
       "      <td>../data/chengwen_chu_2015/seg/Img_15.nii.gz</td>\n",
       "      <td>15</td>\n",
       "      <td>NaN</td>\n",
       "      <td>True</td>\n",
       "      <td>0.895565</td>\n",
       "      <td>41.109608</td>\n",
       "    </tr>\n",
       "    <tr>\n",
       "      <th>15</th>\n",
       "      <td>../data/chengwen_chu_2015/img/Img_16.nii.gz</td>\n",
       "      <td>../data/chengwen_chu_2015/seg/Img_16.nii.gz</td>\n",
       "      <td>16</td>\n",
       "      <td>NaN</td>\n",
       "      <td>True</td>\n",
       "      <td>0.882122</td>\n",
       "      <td>13.928389</td>\n",
       "    </tr>\n",
       "    <tr>\n",
       "      <th>16</th>\n",
       "      <td>../data/chengwen_chu_2015/img/Img_17.nii.gz</td>\n",
       "      <td>../data/chengwen_chu_2015/seg/Img_17.nii.gz</td>\n",
       "      <td>17</td>\n",
       "      <td>NaN</td>\n",
       "      <td>True</td>\n",
       "      <td>0.916272</td>\n",
       "      <td>3.162278</td>\n",
       "    </tr>\n",
       "    <tr>\n",
       "      <th>17</th>\n",
       "      <td>../data/chengwen_chu_2015/img/Img_18.nii.gz</td>\n",
       "      <td>../data/chengwen_chu_2015/seg/Img_18.nii.gz</td>\n",
       "      <td>18</td>\n",
       "      <td>NaN</td>\n",
       "      <td>True</td>\n",
       "      <td>0.911723</td>\n",
       "      <td>4.000000</td>\n",
       "    </tr>\n",
       "    <tr>\n",
       "      <th>18</th>\n",
       "      <td>../data/chengwen_chu_2015/img/Img_19.nii.gz</td>\n",
       "      <td>../data/chengwen_chu_2015/seg/Img_19.nii.gz</td>\n",
       "      <td>19</td>\n",
       "      <td>NaN</td>\n",
       "      <td>True</td>\n",
       "      <td>0.846137</td>\n",
       "      <td>42.047592</td>\n",
       "    </tr>\n",
       "    <tr>\n",
       "      <th>19</th>\n",
       "      <td>../data/chengwen_chu_2015/img/Img_20.nii.gz</td>\n",
       "      <td>../data/chengwen_chu_2015/seg/Img_20.nii.gz</td>\n",
       "      <td>20</td>\n",
       "      <td>NaN</td>\n",
       "      <td>True</td>\n",
       "      <td>0.905846</td>\n",
       "      <td>5.000000</td>\n",
       "    </tr>\n",
       "    <tr>\n",
       "      <th>20</th>\n",
       "      <td>../data/chengwen_chu_2015/img/Img_21.nii.gz</td>\n",
       "      <td>../data/chengwen_chu_2015/seg/Img_21.nii.gz</td>\n",
       "      <td>21</td>\n",
       "      <td>NaN</td>\n",
       "      <td>True</td>\n",
       "      <td>0.894044</td>\n",
       "      <td>6.403124</td>\n",
       "    </tr>\n",
       "    <tr>\n",
       "      <th>21</th>\n",
       "      <td>../data/chengwen_chu_2015/img/Img_22.nii.gz</td>\n",
       "      <td>../data/chengwen_chu_2015/seg/Img_22.nii.gz</td>\n",
       "      <td>22</td>\n",
       "      <td>NaN</td>\n",
       "      <td>True</td>\n",
       "      <td>0.886229</td>\n",
       "      <td>16.522711</td>\n",
       "    </tr>\n",
       "    <tr>\n",
       "      <th>22</th>\n",
       "      <td>../data/chengwen_chu_2015/img/Img_23.nii.gz</td>\n",
       "      <td>../data/chengwen_chu_2015/seg/Img_23.nii.gz</td>\n",
       "      <td>23</td>\n",
       "      <td>NaN</td>\n",
       "      <td>True</td>\n",
       "      <td>0.905326</td>\n",
       "      <td>8.062258</td>\n",
       "    </tr>\n",
       "  </tbody>\n",
       "</table>\n",
       "</div>"
      ],
      "text/plain": [
       "                                    t2_img_path  \\\n",
       "0   ../data/chengwen_chu_2015/img/Img_01.nii.gz   \n",
       "1   ../data/chengwen_chu_2015/img/Img_02.nii.gz   \n",
       "2   ../data/chengwen_chu_2015/img/Img_03.nii.gz   \n",
       "3   ../data/chengwen_chu_2015/img/Img_04.nii.gz   \n",
       "4   ../data/chengwen_chu_2015/img/Img_05.nii.gz   \n",
       "5   ../data/chengwen_chu_2015/img/Img_06.nii.gz   \n",
       "6   ../data/chengwen_chu_2015/img/Img_07.nii.gz   \n",
       "7   ../data/chengwen_chu_2015/img/Img_08.nii.gz   \n",
       "8   ../data/chengwen_chu_2015/img/Img_09.nii.gz   \n",
       "9   ../data/chengwen_chu_2015/img/Img_10.nii.gz   \n",
       "10  ../data/chengwen_chu_2015/img/Img_11.nii.gz   \n",
       "11  ../data/chengwen_chu_2015/img/Img_12.nii.gz   \n",
       "12  ../data/chengwen_chu_2015/img/Img_13.nii.gz   \n",
       "13  ../data/chengwen_chu_2015/img/Img_14.nii.gz   \n",
       "14  ../data/chengwen_chu_2015/img/Img_15.nii.gz   \n",
       "15  ../data/chengwen_chu_2015/img/Img_16.nii.gz   \n",
       "16  ../data/chengwen_chu_2015/img/Img_17.nii.gz   \n",
       "17  ../data/chengwen_chu_2015/img/Img_18.nii.gz   \n",
       "18  ../data/chengwen_chu_2015/img/Img_19.nii.gz   \n",
       "19  ../data/chengwen_chu_2015/img/Img_20.nii.gz   \n",
       "20  ../data/chengwen_chu_2015/img/Img_21.nii.gz   \n",
       "21  ../data/chengwen_chu_2015/img/Img_22.nii.gz   \n",
       "22  ../data/chengwen_chu_2015/img/Img_23.nii.gz   \n",
       "\n",
       "                                   t2_mask_path subject_id is_val  is_test  \\\n",
       "0   ../data/chengwen_chu_2015/seg/Img_01.nii.gz         01    NaN     True   \n",
       "1   ../data/chengwen_chu_2015/seg/Img_02.nii.gz         02    NaN     True   \n",
       "2   ../data/chengwen_chu_2015/seg/Img_03.nii.gz         03    NaN     True   \n",
       "3   ../data/chengwen_chu_2015/seg/Img_04.nii.gz         04    NaN     True   \n",
       "4   ../data/chengwen_chu_2015/seg/Img_05.nii.gz         05    NaN     True   \n",
       "5   ../data/chengwen_chu_2015/seg/Img_06.nii.gz         06    NaN     True   \n",
       "6   ../data/chengwen_chu_2015/seg/Img_07.nii.gz         07    NaN     True   \n",
       "7   ../data/chengwen_chu_2015/seg/Img_08.nii.gz         08    NaN     True   \n",
       "8   ../data/chengwen_chu_2015/seg/Img_09.nii.gz         09    NaN     True   \n",
       "9   ../data/chengwen_chu_2015/seg/Img_10.nii.gz         10    NaN     True   \n",
       "10  ../data/chengwen_chu_2015/seg/Img_11.nii.gz         11    NaN     True   \n",
       "11  ../data/chengwen_chu_2015/seg/Img_12.nii.gz         12    NaN     True   \n",
       "12  ../data/chengwen_chu_2015/seg/Img_13.nii.gz         13    NaN     True   \n",
       "13  ../data/chengwen_chu_2015/seg/Img_14.nii.gz         14    NaN     True   \n",
       "14  ../data/chengwen_chu_2015/seg/Img_15.nii.gz         15    NaN     True   \n",
       "15  ../data/chengwen_chu_2015/seg/Img_16.nii.gz         16    NaN     True   \n",
       "16  ../data/chengwen_chu_2015/seg/Img_17.nii.gz         17    NaN     True   \n",
       "17  ../data/chengwen_chu_2015/seg/Img_18.nii.gz         18    NaN     True   \n",
       "18  ../data/chengwen_chu_2015/seg/Img_19.nii.gz         19    NaN     True   \n",
       "19  ../data/chengwen_chu_2015/seg/Img_20.nii.gz         20    NaN     True   \n",
       "20  ../data/chengwen_chu_2015/seg/Img_21.nii.gz         21    NaN     True   \n",
       "21  ../data/chengwen_chu_2015/seg/Img_22.nii.gz         22    NaN     True   \n",
       "22  ../data/chengwen_chu_2015/seg/Img_23.nii.gz         23    NaN     True   \n",
       "\n",
       "    postprocessed_ensemble_dsc  postprocessed_ensemble_haus  \n",
       "0                     0.921241                     6.708204  \n",
       "1                     0.917546                     4.242640  \n",
       "2                     0.880941                    35.468296  \n",
       "3                     0.877997                    18.601076  \n",
       "4                     0.927981                     7.071068  \n",
       "5                     0.913778                     8.062258  \n",
       "6                     0.902101                     5.000000  \n",
       "7                     0.922395                     5.477226  \n",
       "8                     0.901496                     8.660254  \n",
       "9                     0.909481                     4.582576  \n",
       "10                    0.863644                    10.246951  \n",
       "11                    0.911884                     9.539392  \n",
       "12                    0.886437                     9.055386  \n",
       "13                    0.897514                     4.242640  \n",
       "14                    0.895565                    41.109608  \n",
       "15                    0.882122                    13.928389  \n",
       "16                    0.916272                     3.162278  \n",
       "17                    0.911723                     4.000000  \n",
       "18                    0.846137                    42.047592  \n",
       "19                    0.905846                     5.000000  \n",
       "20                    0.894044                     6.403124  \n",
       "21                    0.886229                    16.522711  \n",
       "22                    0.905326                     8.062258  "
      ]
     },
     "execution_count": null,
     "metadata": {},
     "output_type": "execute_result"
    }
   ],
   "source": [
    "df_test"
   ]
  },
  {
   "cell_type": "markdown",
   "id": "42d10455-a597-4780-90a7-0511ce333cef",
   "metadata": {},
   "source": [
    "<b> Run `01-spine-segmentation-inference.ipynb` for inference on your own data.</b> "
   ]
  }
 ],
 "metadata": {
  "kernelspec": {
   "display_name": "fastmonai",
   "language": "python",
   "name": "fastmonai"
  }
 },
 "nbformat": 4,
 "nbformat_minor": 5
}
