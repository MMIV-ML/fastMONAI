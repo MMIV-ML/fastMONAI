{
 "cells": [
  {
   "cell_type": "markdown",
   "id": "721c5f9c-2b2d-4788-ab42-18aaa507aa03",
   "metadata": {},
   "source": [
    "# Inference on custom data\n",
    "Last checked and validated with `fastMONAI` version `0.3.2`"
   ]
  },
  {
   "cell_type": "raw",
   "id": "16c09286-2a2a-4fd6-b4c9-b852298a0d26",
   "metadata": {},
   "source": [
    "---\n",
    "skip_showdoc: true\n",
    "skip_exec: true\n",
    "---"
   ]
  },
  {
   "cell_type": "markdown",
   "id": "20ee9e1d-44fd-4d3b-b2fe-3f4c3bb00423",
   "metadata": {},
   "source": [
    "[![Google Colab](https://colab.research.google.com/assets/colab-badge.svg)](https://colab.research.google.com/github/MMIV-ML/fastMONAI/blob/main/research/spine/01-spine-segmentation-inference.ipynb)"
   ]
  },
  {
   "cell_type": "code",
   "execution_count": null,
   "id": "f9b3692e-9f36-4e11-9531-cf01319629cf",
   "metadata": {
    "vscode": {
     "languageId": "python"
    }
   },
   "outputs": [],
   "source": [
    "#| hide\n",
    "#Install `fastMONAI` if notebook is running on Google Colab\n",
    "try:\n",
    "    import google.colab\n",
    "    %pip install fastMONAI\n",
    "    from fastMONAI.utils import print_colab_gpu_info\n",
    "    print_colab_gpu_info()\n",
    "except:\n",
    "    print('Running locally')"
   ]
  },
  {
   "cell_type": "code",
   "execution_count": null,
   "id": "6e715338-b7ab-48b0-ae93-b9e6e7a8b41f",
   "metadata": {
    "vscode": {
     "languageId": "python"
    }
   },
   "outputs": [],
   "source": [
    "from fastMONAI.vision_all import *\n",
    "from huggingface_hub import snapshot_download"
   ]
  },
  {
   "cell_type": "code",
   "execution_count": null,
   "id": "63abdd26-3675-4a5f-92c2-bcbeac715f97",
   "metadata": {
    "vscode": {
     "languageId": "python"
    }
   },
   "outputs": [],
   "source": [
    "#Example data\n",
    "DATA_DIR = Path('../data')\n",
    "STUDY_DIR = download_example_spine_data(path=DATA_DIR)"
   ]
  },
  {
   "cell_type": "code",
   "execution_count": null,
   "id": "ee18b809-f4f4-41f0-8ccf-bc78823b01de",
   "metadata": {
    "vscode": {
     "languageId": "python"
    }
   },
   "outputs": [],
   "source": [
    "# Download the models from the study repository and load exported learners \n",
    "models_path = Path(snapshot_download(repo_id=\"skaliy/spine-segmentation\",  cache_dir='models'))\n",
    "learner_list = list(models_path.glob('*learner.pkl'))\n",
    "loaded_learners = [load_learner(fn, cpu=True) for fn in learner_list]"
   ]
  },
  {
   "cell_type": "code",
   "execution_count": null,
   "id": "3f355069-4aca-4a7b-a72c-9524b5ba0ca8",
   "metadata": {
    "vscode": {
     "languageId": "python"
    }
   },
   "outputs": [
    {
     "data": {
      "text/plain": [
       "(True, [4.4, 0.78, 0.78])"
      ]
     },
     "execution_count": null,
     "metadata": {},
     "output_type": "execute_result"
    }
   ],
   "source": [
    "# Load variables\n",
    "vars_fn = models_path/'vars.pkl'\n",
    "_, reorder, resample = load_variables(pkl_fn=vars_fn)\n",
    "reorder, resample"
   ]
  },
  {
   "cell_type": "code",
   "execution_count": null,
   "id": "cebb3574-1b75-4199-8567-02d3eb4090ed",
   "metadata": {
    "vscode": {
     "languageId": "python"
    }
   },
   "outputs": [],
   "source": [
    "img_fn = STUDY_DIR/'img.nii.gz'\n",
    "save_fn = str(img_fn).replace(img_fn.stem, 'pred_' + img_fn.stem)"
   ]
  },
  {
   "cell_type": "code",
   "execution_count": null,
   "id": "d6c04682-ec28-4a43-a20e-c24463db25ef",
   "metadata": {
    "vscode": {
     "languageId": "python"
    }
   },
   "outputs": [
    {
     "data": {
      "text/html": [
       "\n",
       "<style>\n",
       "    /* Turns off some styling */\n",
       "    progress {\n",
       "        /* gets rid of default border in Firefox and Opera. */\n",
       "        border: none;\n",
       "        /* Needs to be in here for Safari polyfill so background images work as expected. */\n",
       "        background-size: auto;\n",
       "    }\n",
       "    progress:not([value]), progress:not([value])::-webkit-progress-bar {\n",
       "        background: repeating-linear-gradient(45deg, #7e7e7e, #7e7e7e 10px, #5c5c5c 10px, #5c5c5c 20px);\n",
       "    }\n",
       "    .progress-bar-interrupted, .progress-bar-interrupted::-webkit-progress-bar {\n",
       "        background: #F44336;\n",
       "    }\n",
       "</style>\n"
      ],
      "text/plain": [
       "<IPython.core.display.HTML object>"
      ]
     },
     "metadata": {},
     "output_type": "display_data"
    },
    {
     "data": {
      "text/html": [],
      "text/plain": [
       "<IPython.core.display.HTML object>"
      ]
     },
     "metadata": {},
     "output_type": "display_data"
    },
    {
     "data": {
      "text/html": [
       "\n",
       "<style>\n",
       "    /* Turns off some styling */\n",
       "    progress {\n",
       "        /* gets rid of default border in Firefox and Opera. */\n",
       "        border: none;\n",
       "        /* Needs to be in here for Safari polyfill so background images work as expected. */\n",
       "        background-size: auto;\n",
       "    }\n",
       "    progress:not([value]), progress:not([value])::-webkit-progress-bar {\n",
       "        background: repeating-linear-gradient(45deg, #7e7e7e, #7e7e7e 10px, #5c5c5c 10px, #5c5c5c 20px);\n",
       "    }\n",
       "    .progress-bar-interrupted, .progress-bar-interrupted::-webkit-progress-bar {\n",
       "        background: #F44336;\n",
       "    }\n",
       "</style>\n"
      ],
      "text/plain": [
       "<IPython.core.display.HTML object>"
      ]
     },
     "metadata": {},
     "output_type": "display_data"
    },
    {
     "data": {
      "text/html": [],
      "text/plain": [
       "<IPython.core.display.HTML object>"
      ]
     },
     "metadata": {},
     "output_type": "display_data"
    },
    {
     "data": {
      "text/html": [
       "\n",
       "<style>\n",
       "    /* Turns off some styling */\n",
       "    progress {\n",
       "        /* gets rid of default border in Firefox and Opera. */\n",
       "        border: none;\n",
       "        /* Needs to be in here for Safari polyfill so background images work as expected. */\n",
       "        background-size: auto;\n",
       "    }\n",
       "    progress:not([value]), progress:not([value])::-webkit-progress-bar {\n",
       "        background: repeating-linear-gradient(45deg, #7e7e7e, #7e7e7e 10px, #5c5c5c 10px, #5c5c5c 20px);\n",
       "    }\n",
       "    .progress-bar-interrupted, .progress-bar-interrupted::-webkit-progress-bar {\n",
       "        background: #F44336;\n",
       "    }\n",
       "</style>\n"
      ],
      "text/plain": [
       "<IPython.core.display.HTML object>"
      ]
     },
     "metadata": {},
     "output_type": "display_data"
    },
    {
     "data": {
      "text/html": [],
      "text/plain": [
       "<IPython.core.display.HTML object>"
      ]
     },
     "metadata": {},
     "output_type": "display_data"
    }
   ],
   "source": [
    "#pred_items\n",
    "org_img, input_img, org_size = med_img_reader(img_fn, reorder, resample, only_tensor=False)\n",
    "\n",
    "#Predict with ensemble\n",
    "mask_data = [inference(learner, reorder, resample, org_img=org_img, input_img=input_img, org_size=org_size).data for learner in loaded_learners]\n",
    "\n",
    "# Average the accumulated mask data\n",
    "mask_data = sum(mask_data)/len(loaded_learners)\n",
    "\n",
    "# Threshold the averaged mask data to create a binary mask\n",
    "mask_data = torch.where(mask_data > 0.5, 1., 0.)\n",
    "\n",
    "# Apply postprocessing to remove small objects from the binary mask\n",
    "mask_data = refine_binary_pred_mask(mask_data, remove_size=10437, percentage=0.2)\n",
    "\n",
    "# Set the data of the image object to the processed mask data and save the predicted mask\n",
    "org_img.set_data(mask_data)\n",
    "org_img.save(save_fn)"
   ]
  },
  {
   "cell_type": "code",
   "execution_count": null,
   "id": "96ca7d3a-f5e2-49db-bb3a-7944b4729ab3",
   "metadata": {
    "vscode": {
     "languageId": "python"
    }
   },
   "outputs": [],
   "source": [
    "from torchio import Subject, ScalarImage, LabelMap"
   ]
  },
  {
   "cell_type": "code",
   "execution_count": null,
   "id": "417d4d16-4ef3-40ad-a0c7-9edf38580750",
   "metadata": {
    "vscode": {
     "languageId": "python"
    }
   },
   "outputs": [],
   "source": [
    "subject = Subject(image=ScalarImage(img_fn), mask=LabelMap(save_fn))"
   ]
  },
  {
   "cell_type": "code",
   "execution_count": null,
   "id": "1565b859-a310-41d3-b783-0021b8422bc3",
   "metadata": {
    "vscode": {
     "languageId": "python"
    }
   },
   "outputs": [
    {
     "data": {
      "image/png": "[encoded data removed]",
      "text/plain": [
       "<Figure size 720x360 with 6 Axes>"
      ]
     },
     "metadata": {
      "needs_background": "light"
     },
     "output_type": "display_data"
    }
   ],
   "source": [
    "subject.plot(figsize=(10,5))"
   ]
  }
 ],
 "metadata": {
  "kernelspec": {
   "display_name": "fastmonai",
   "language": "python",
   "name": "fastmonai"
  }
 },
 "nbformat": 4,
 "nbformat_minor": 5
}
