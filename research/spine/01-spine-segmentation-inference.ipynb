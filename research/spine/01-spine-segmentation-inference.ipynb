{
 "cells": [
  {
   "cell_type": "markdown",
   "id": "721c5f9c-2b2d-4788-ab42-18aaa507aa03",
   "metadata": {},
   "source": [
    "# Inference on custom data"
   ]
  },
  {
   "cell_type": "raw",
   "id": "16c09286-2a2a-4fd6-b4c9-b852298a0d26",
   "metadata": {},
   "source": [
    "---\n",
    "skip_showdoc: true\n",
    "skip_exec: true\n",
    "---"
   ]
  },
  {
   "cell_type": "code",
   "execution_count": null,
   "id": "6e715338-b7ab-48b0-ae93-b9e6e7a8b41f",
   "metadata": {},
   "outputs": [],
   "source": [
    "from fastMONAI.vision_all import *\n",
    "from IPython.display import clear_output\n",
    "from huggingface_hub import snapshot_download"
   ]
  },
  {
   "cell_type": "code",
   "execution_count": null,
   "id": "63abdd26-3675-4a5f-92c2-bcbeac715f97",
   "metadata": {},
   "outputs": [],
   "source": [
    "#Example data\n",
    "DATA_DIR = Path('../data')\n",
    "STUDY_DIR = download_example_spine_data(path=DATA_DIR)"
   ]
  },
  {
   "cell_type": "code",
   "execution_count": null,
   "id": "ee18b809-f4f4-41f0-8ccf-bc78823b01de",
   "metadata": {},
   "outputs": [],
   "source": [
    "# Download the models from the study repository and load exported learners \n",
    "models_path = Path(snapshot_download(repo_id=\"skaliy/spine-segmentation\",  cache_dir='models'))\n",
    "learner_list = list(models_path.glob('*learner.pkl'))\n",
    "loaded_learners = [load_learner(fn, cpu=True) for fn in learner_list]"
   ]
  },
  {
   "cell_type": "code",
   "execution_count": null,
   "id": "3f355069-4aca-4a7b-a72c-9524b5ba0ca8",
   "metadata": {},
   "outputs": [
    {
     "data": {
      "text/plain": [
       "(True, [4.4, 0.78, 0.78])"
      ]
     },
     "execution_count": null,
     "metadata": {},
     "output_type": "execute_result"
    }
   ],
   "source": [
    "# Load variables\n",
    "vars_fn = models_path/'vars.pkl'\n",
    "_, reorder, resample = load_variables(pkl_fn=vars_fn)\n",
    "reorder, resample"
   ]
  },
  {
   "cell_type": "code",
   "execution_count": null,
   "id": "cebb3574-1b75-4199-8567-02d3eb4090ed",
   "metadata": {},
   "outputs": [],
   "source": [
    "fn = str(STUDY_DIR/'img.nii.gz')\n",
    "save_fn = fn.split('.nii')[0] + '_pred.nii.gz'"
   ]
  },
  {
   "cell_type": "code",
   "execution_count": null,
   "id": "a83873c1-ad10-4b24-9a26-204a9edac940",
   "metadata": {},
   "outputs": [
    {
     "data": {
      "text/html": [
       "\n",
       "<style>\n",
       "    /* Turns off some styling */\n",
       "    progress {\n",
       "        /* gets rid of default border in Firefox and Opera. */\n",
       "        border: none;\n",
       "        /* Needs to be in here for Safari polyfill so background images work as expected. */\n",
       "        background-size: auto;\n",
       "    }\n",
       "    progress:not([value]), progress:not([value])::-webkit-progress-bar {\n",
       "        background: repeating-linear-gradient(45deg, #7e7e7e, #7e7e7e 10px, #5c5c5c 10px, #5c5c5c 20px);\n",
       "    }\n",
       "    .progress-bar-interrupted, .progress-bar-interrupted::-webkit-progress-bar {\n",
       "        background: #F44336;\n",
       "    }\n",
       "</style>\n"
      ],
      "text/plain": [
       "<IPython.core.display.HTML object>"
      ]
     },
     "metadata": {},
     "output_type": "display_data"
    },
    {
     "data": {
      "text/html": [],
      "text/plain": [
       "<IPython.core.display.HTML object>"
      ]
     },
     "metadata": {},
     "output_type": "display_data"
    },
    {
     "data": {
      "text/html": [
       "\n",
       "<style>\n",
       "    /* Turns off some styling */\n",
       "    progress {\n",
       "        /* gets rid of default border in Firefox and Opera. */\n",
       "        border: none;\n",
       "        /* Needs to be in here for Safari polyfill so background images work as expected. */\n",
       "        background-size: auto;\n",
       "    }\n",
       "    progress:not([value]), progress:not([value])::-webkit-progress-bar {\n",
       "        background: repeating-linear-gradient(45deg, #7e7e7e, #7e7e7e 10px, #5c5c5c 10px, #5c5c5c 20px);\n",
       "    }\n",
       "    .progress-bar-interrupted, .progress-bar-interrupted::-webkit-progress-bar {\n",
       "        background: #F44336;\n",
       "    }\n",
       "</style>\n"
      ],
      "text/plain": [
       "<IPython.core.display.HTML object>"
      ]
     },
     "metadata": {},
     "output_type": "display_data"
    },
    {
     "data": {
      "text/html": [],
      "text/plain": [
       "<IPython.core.display.HTML object>"
      ]
     },
     "metadata": {},
     "output_type": "display_data"
    },
    {
     "data": {
      "text/html": [
       "\n",
       "<style>\n",
       "    /* Turns off some styling */\n",
       "    progress {\n",
       "        /* gets rid of default border in Firefox and Opera. */\n",
       "        border: none;\n",
       "        /* Needs to be in here for Safari polyfill so background images work as expected. */\n",
       "        background-size: auto;\n",
       "    }\n",
       "    progress:not([value]), progress:not([value])::-webkit-progress-bar {\n",
       "        background: repeating-linear-gradient(45deg, #7e7e7e, #7e7e7e 10px, #5c5c5c 10px, #5c5c5c 20px);\n",
       "    }\n",
       "    .progress-bar-interrupted, .progress-bar-interrupted::-webkit-progress-bar {\n",
       "        background: #F44336;\n",
       "    }\n",
       "</style>\n"
      ],
      "text/plain": [
       "<IPython.core.display.HTML object>"
      ]
     },
     "metadata": {},
     "output_type": "display_data"
    },
    {
     "data": {
      "text/html": [],
      "text/plain": [
       "<IPython.core.display.HTML object>"
      ]
     },
     "metadata": {},
     "output_type": "display_data"
    }
   ],
   "source": [
    "#Predict with ensemble\n",
    "mask_data = None\n",
    "\n",
    "for learner in loaded_learners:\n",
    "    mask = inference(learner, reorder, resample, fn)\n",
    "    \n",
    "    if mask_data is None: mask_data = torch.zeros_like(mask.data) ## Initialize a tensor of zeros for storing the mask data\n",
    "    else: mask_data += mask.data # Add the mask data to the accumulated mask data"
   ]
  },
  {
   "cell_type": "code",
   "execution_count": null,
   "id": "3e5ee060-ec64-4fb3-b7e4-890943d3fd91",
   "metadata": {},
   "outputs": [],
   "source": [
    "# Average the accumulated mask data\n",
    "mask_data /= len(loaded_learners)\n",
    "\n",
    "# Threshold the averaged mask data to create a binary mask\n",
    "mask_data = torch.where(mask_data > 0.5, 1., 0.)\n",
    "\n",
    "# Apply postprocessing to remove small objects from the binary mask\n",
    "mask_data = torch.Tensor(pred_postprocess(mask_data))\n",
    "\n",
    "# Set the data of the mask object to the processed mask data\n",
    "mask.set_data(mask_data)"
   ]
  },
  {
   "cell_type": "code",
   "execution_count": null,
   "id": "14cfec0b-7475-4e55-bea7-c4989f62f0cf",
   "metadata": {},
   "outputs": [
    {
     "data": {
      "image/png": "[encoded data removed]",
      "text/plain": [
       "<Figure size 720x360 with 3 Axes>"
      ]
     },
     "metadata": {
      "needs_background": "light"
     },
     "output_type": "display_data"
    }
   ],
   "source": [
    "mask.save(save_fn)\n",
    "mask.plot(figsize=(10,5))"
   ]
  }
 ],
 "metadata": {
  "kernelspec": {
   "display_name": "fastmonai",
   "language": "python",
   "name": "fastmonai"
  }
 },
 "nbformat": 4,
 "nbformat_minor": 5
}
