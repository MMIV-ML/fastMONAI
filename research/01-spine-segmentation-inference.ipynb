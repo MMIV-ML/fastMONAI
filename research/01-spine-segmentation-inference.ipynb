{
 "cells": [
  {
   "cell_type": "markdown",
   "id": "721c5f9c-2b2d-4788-ab42-18aaa507aa03",
   "metadata": {},
   "source": [
    "# Work in progress (latest update 17.11.22) "
   ]
  },
  {
   "cell_type": "code",
   "execution_count": null,
   "id": "6e715338-b7ab-48b0-ae93-b9e6e7a8b41f",
   "metadata": {},
   "outputs": [],
   "source": [
    "#all_skip\n",
    "from fastMONAI.vision_all import *\n",
    "from IPython.display import clear_output\n",
    "\n",
    "import torchio as tio\n",
    "import SimpleITK as sitk"
   ]
  },
  {
   "cell_type": "code",
   "execution_count": null,
   "id": "97a462a8-960c-4ac1-b9d0-b40d7b398b6b",
   "metadata": {},
   "outputs": [],
   "source": [
    "path = Path('../data')"
   ]
  },
  {
   "cell_type": "code",
   "execution_count": null,
   "id": "d0d9c92e-cf96-4c35-a693-2f4e723fca88",
   "metadata": {},
   "outputs": [],
   "source": [
    "def preprocess(o, reorder, resample): \n",
    "    org_metadata = {}\n",
    "    org_size = None\n",
    "    if reorder:\n",
    "        transform = tio.ToCanonical()\n",
    "        o = transform(o)\n",
    "        org_size = o.shape[1:]\n",
    "    \n",
    "    if resample and not all(np.isclose(o.spacing, resample)):\n",
    "            transform = tio.Resample(resample)\n",
    "            o = transform(o)\n",
    "            \n",
    "    return o, org_size"
   ]
  },
  {
   "cell_type": "code",
   "execution_count": null,
   "id": "ec28b222-de3d-4608-b3c8-01ba57303ae7",
   "metadata": {},
   "outputs": [],
   "source": [
    "def pred_postprocess(pred_mask, avg_disc=10437, percentage=0.2): \n",
    "    small_objects = avg_disc*percentage    \n",
    "    labeled_mask, ncomponents = label(pred_mask)\n",
    "    labeled_mask = remove_small_objects(np.array(labeled_mask), min_size=small_objects)\n",
    "\n",
    "    return torch.Tensor(np.where(labeled_mask>0, 1., 0.))"
   ]
  },
  {
   "cell_type": "code",
   "execution_count": null,
   "id": "6f677644-eeea-413c-8195-270b76c33bae",
   "metadata": {},
   "outputs": [],
   "source": [
    "def inference(learn_inf, reorder, resample, fn:str, save_path:(str,Path)=None): \n",
    "    '''\n",
    "    Predict on new data using exported model\n",
    "    '''         \n",
    "\n",
    "    org_img = tio.ScalarImage(fn)\n",
    "    \n",
    "    input_img = org_img \n",
    "    input_img, org_size= preprocess(input_img, reorder, resample)    \n",
    "    \n",
    "    \n",
    "    pred, *_ = learn_inf.predict(input_img.data);\n",
    "    \n",
    "    \n",
    "    pred_mask = do_pad_or_crop(pred.float(), input_img.shape[1:], padding_mode=0, mask_name=None)\n",
    "    input_img.set_data(pred_mask)\n",
    "    \n",
    "        \n",
    "    transform = tio.Resize(org_size, image_interpolation='nearest', label_interpolation='nearest')#(org_img)\n",
    "    input_img = transform(input_img)    \n",
    "\n",
    "    pir_itk = sitk.DICOMOrient(input_img.as_sitk(), ('').join(org_img.orientation))\n",
    "    pir_array = sitk.GetArrayFromImage(pir_itk).transpose()\n",
    "    \n",
    "    org_img.set_data(pir_array[None])\n",
    "    \n",
    "        \n",
    "    if save_path is not None:\n",
    "        save_fn = 'pred_' + Path(fn).parts[-1]\n",
    "        save_fn = Path(save_path)/save_fn\n",
    "        img.save(save_fn, )\n",
    "\n",
    "    return org_img"
   ]
  },
  {
   "cell_type": "code",
   "execution_count": null,
   "id": "3f355069-4aca-4a7b-a72c-9524b5ba0ca8",
   "metadata": {},
   "outputs": [
    {
     "data": {
      "text/plain": [
       "(True, [4.4, 0.78, 0.78])"
      ]
     },
     "execution_count": null,
     "metadata": {},
     "output_type": "execute_result"
    }
   ],
   "source": [
    "reorder, resample = load_variables(pkl_fn='models/vars.pkl')\n",
    "reorder, resample"
   ]
  },
  {
   "cell_type": "code",
   "execution_count": null,
   "id": "19d36418-0701-4d59-8ceb-bcac1ff1eebb",
   "metadata": {},
   "outputs": [],
   "source": [
    "models = [load_learner(f'models/{i}_learner.pkl', cpu=True) for i in range(3)]"
   ]
  },
  {
   "cell_type": "code",
   "execution_count": null,
   "id": "cebb3574-1b75-4199-8567-02d3eb4090ed",
   "metadata": {},
   "outputs": [],
   "source": [
    "fn = '../data/external_t2w_spine/img/Img_01.nii.gz'"
   ]
  },
  {
   "cell_type": "code",
   "execution_count": null,
   "id": "a8701fc3-485a-48cc-814e-6c32c23854f5",
   "metadata": {},
   "outputs": [],
   "source": [
    "save_folder = Path('../data/external_t2w_spine/preds')\n",
    "save_folder.mkdir(parents=True, exist_ok=True)"
   ]
  },
  {
   "cell_type": "code",
   "execution_count": null,
   "id": "c18bfc40-a38c-4c77-bd67-58aeecb44ecc",
   "metadata": {},
   "outputs": [
    {
     "data": {
      "text/html": [
       "\n",
       "<style>\n",
       "    /* Turns off some styling */\n",
       "    progress {\n",
       "        /* gets rid of default border in Firefox and Opera. */\n",
       "        border: none;\n",
       "        /* Needs to be in here for Safari polyfill so background images work as expected. */\n",
       "        background-size: auto;\n",
       "    }\n",
       "    progress:not([value]), progress:not([value])::-webkit-progress-bar {\n",
       "        background: repeating-linear-gradient(45deg, #7e7e7e, #7e7e7e 10px, #5c5c5c 10px, #5c5c5c 20px);\n",
       "    }\n",
       "    .progress-bar-interrupted, .progress-bar-interrupted::-webkit-progress-bar {\n",
       "        background: #F44336;\n",
       "    }\n",
       "</style>\n"
      ],
      "text/plain": [
       "<IPython.core.display.HTML object>"
      ]
     },
     "metadata": {},
     "output_type": "display_data"
    },
    {
     "data": {
      "text/html": [],
      "text/plain": [
       "<IPython.core.display.HTML object>"
      ]
     },
     "metadata": {},
     "output_type": "display_data"
    },
    {
     "data": {
      "text/html": [
       "\n",
       "<style>\n",
       "    /* Turns off some styling */\n",
       "    progress {\n",
       "        /* gets rid of default border in Firefox and Opera. */\n",
       "        border: none;\n",
       "        /* Needs to be in here for Safari polyfill so background images work as expected. */\n",
       "        background-size: auto;\n",
       "    }\n",
       "    progress:not([value]), progress:not([value])::-webkit-progress-bar {\n",
       "        background: repeating-linear-gradient(45deg, #7e7e7e, #7e7e7e 10px, #5c5c5c 10px, #5c5c5c 20px);\n",
       "    }\n",
       "    .progress-bar-interrupted, .progress-bar-interrupted::-webkit-progress-bar {\n",
       "        background: #F44336;\n",
       "    }\n",
       "</style>\n"
      ],
      "text/plain": [
       "<IPython.core.display.HTML object>"
      ]
     },
     "metadata": {},
     "output_type": "display_data"
    },
    {
     "data": {
      "text/html": [],
      "text/plain": [
       "<IPython.core.display.HTML object>"
      ]
     },
     "metadata": {},
     "output_type": "display_data"
    },
    {
     "data": {
      "text/html": [
       "\n",
       "<style>\n",
       "    /* Turns off some styling */\n",
       "    progress {\n",
       "        /* gets rid of default border in Firefox and Opera. */\n",
       "        border: none;\n",
       "        /* Needs to be in here for Safari polyfill so background images work as expected. */\n",
       "        background-size: auto;\n",
       "    }\n",
       "    progress:not([value]), progress:not([value])::-webkit-progress-bar {\n",
       "        background: repeating-linear-gradient(45deg, #7e7e7e, #7e7e7e 10px, #5c5c5c 10px, #5c5c5c 20px);\n",
       "    }\n",
       "    .progress-bar-interrupted, .progress-bar-interrupted::-webkit-progress-bar {\n",
       "        background: #F44336;\n",
       "    }\n",
       "</style>\n"
      ],
      "text/plain": [
       "<IPython.core.display.HTML object>"
      ]
     },
     "metadata": {},
     "output_type": "display_data"
    },
    {
     "data": {
      "text/html": [],
      "text/plain": [
       "<IPython.core.display.HTML object>"
      ]
     },
     "metadata": {},
     "output_type": "display_data"
    }
   ],
   "source": [
    "mask_data = None\n",
    "for idx, learner in enumerate(models):\n",
    "    mask = inference(learner, reorder, resample, fn)\n",
    "    if mask_data is None: \n",
    "        mask_data = mask.data\n",
    "        \n",
    "    else: \n",
    "        mask_data = mask_data + mask.data\n",
    "\n",
    "    if idx == 2: \n",
    "        mask_data = mask_data/3\n",
    "        mask_data = torch.where(mask_data>0.5, 1., 0.)\n",
    "        mask.set_data(mask_data)\n",
    "        mask.save(save_folder/'Img_01.nii.gz')"
   ]
  }
 ],
 "metadata": {
  "kernelspec": {
   "display_name": "fastmonai",
   "language": "python",
   "name": "fastmonai"
  }
 },
 "nbformat": 4,
 "nbformat_minor": 5
}
