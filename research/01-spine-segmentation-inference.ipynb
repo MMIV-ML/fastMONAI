{
 "cells": [
  {
   "cell_type": "markdown",
   "id": "721c5f9c-2b2d-4788-ab42-18aaa507aa03",
   "metadata": {},
   "source": [
    "# Work in progress"
   ]
  },
  {
   "cell_type": "code",
   "execution_count": null,
   "id": "6e715338-b7ab-48b0-ae93-b9e6e7a8b41f",
   "metadata": {},
   "outputs": [],
   "source": []
  }
 ],
 "metadata": {
  "kernelspec": {
   "display_name": "fastmonai",
   "language": "python",
   "name": "fastmonai"
  }
 },
 "nbformat": 4,
 "nbformat_minor": 5
}
