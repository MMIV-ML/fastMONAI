{
 "cells": [
  {
   "cell_type": "code",
   "execution_count": null,
   "id": "caf0d97d-d2a3-434b-8522-298913e36236",
   "metadata": {},
   "outputs": [],
   "source": [
    "#| default_exp research_utils"
   ]
  },
  {
   "cell_type": "code",
   "execution_count": null,
   "id": "01a3fec9-0aaa-469c-82ac-5b7dee04a9dc",
   "metadata": {},
   "outputs": [],
   "source": [
    "#| export\n",
    "import numpy as np\n",
    "from scipy.ndimage import label\n",
    "from skimage.morphology import remove_small_objects"
   ]
  },
  {
   "cell_type": "code",
   "execution_count": null,
   "id": "df94a8ff-cb25-48c4-be5c-a4a4d57fba63",
   "metadata": {},
   "outputs": [],
   "source": [
    "#| export\n",
    "def pred_postprocess(pred_mask, avg_disc=10437, percentage=0.2): \n",
    "    small_objects = avg_disc*percentage    \n",
    "    labeled_mask, ncomponents = label(pred_mask)\n",
    "    labeled_mask = remove_small_objects(labeled_mask, min_size=small_objects)\n",
    "    \n",
    "    return np.where(labeled_mask>0, 1., 0.)"
   ]
  }
 ],
 "metadata": {
  "kernelspec": {
   "display_name": "fastmonai",
   "language": "python",
   "name": "fastmonai"
  }
 },
 "nbformat": 4,
 "nbformat_minor": 5
}
