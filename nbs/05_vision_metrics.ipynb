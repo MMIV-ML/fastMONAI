{
 "cells": [
  {
   "cell_type": "code",
   "execution_count": null,
   "id": "bfe5e1e5",
   "metadata": {},
   "outputs": [],
   "source": [
    "#| default_exp vision_metrics"
   ]
  },
  {
   "cell_type": "code",
   "execution_count": null,
   "id": "8b6a83ac",
   "metadata": {},
   "outputs": [],
   "source": [
    "#| export\n",
    "import torch\n",
    "import numpy as np\n",
    "from monai.metrics import compute_meandice, compute_hausdorff_distance\n",
    "from fastMONAI.vision_data import pred_to_binary_mask, batch_pred_to_multiclass_mask"
   ]
  },
  {
   "cell_type": "markdown",
   "id": "4ee8f332-2afd-497d-92e7-94d431b1f396",
   "metadata": {},
   "source": [
    "# Vision metrics\n",
    ">"
   ]
  },
  {
   "cell_type": "code",
   "execution_count": null,
   "id": "d29bac9b-ff93-417c-af66-aafb07307b18",
   "metadata": {},
   "outputs": [],
   "source": [
    "#| export\n",
    "def calculate_dsc(pred, targ):\n",
    "    ''' MONAI `compute_meandice`'''\n",
    "\n",
    "    return torch.Tensor([compute_meandice(p[None], t[None]) for p, t in list(zip(pred,targ))])"
   ]
  },
  {
   "cell_type": "code",
   "execution_count": null,
   "id": "4f815b1d-ea53-4f65-a7f0-299ea54e872b",
   "metadata": {},
   "outputs": [],
   "source": [
    "#| export\n",
    "def calculate_haus(pred, targ):\n",
    "    ''' MONAI `compute_hausdorff_distance`'''\n",
    "\n",
    "    return torch.Tensor([compute_hausdorff_distance(p[None], t[None]) for p, t in list(zip(pred,targ))])"
   ]
  },
  {
   "cell_type": "code",
   "execution_count": null,
   "id": "e8761b52-4a3a-44ce-a406-410b4e8cce38",
   "metadata": {},
   "outputs": [],
   "source": [
    "#| export\n",
    "def binary_dice_score(act, # Activation tensor [B, C, W, H, D]\n",
    "                      targ # Target masks [B, C, W, H, D]\n",
    "                     ) -> torch.Tensor:\n",
    "    '''Calculate the mean Dice score for binary semantic segmentation tasks.'''\n",
    "\n",
    "    pred = pred_to_binary_mask(act)\n",
    "    dsc = calculate_dsc(pred.cpu(), targ.cpu())\n",
    "\n",
    "    return torch.mean(dsc)"
   ]
  },
  {
   "cell_type": "code",
   "execution_count": null,
   "id": "38308293-6ebf-4cbe-b8d3-95bba2ed650e",
   "metadata": {},
   "outputs": [],
   "source": [
    "#| export\n",
    "def multi_dice_score(act, # Activation values [B, C, W, H, D]\n",
    "                     targ # Target masks [B, C, W, H, D]\n",
    "                    ) -> torch.Tensor:\n",
    "    '''Calculate the mean Dice score for each class in multi-class semantic segmentation tasks.'''\n",
    "\n",
    "\n",
    "    pred, n_classes = batch_pred_to_multiclass_mask(act)\n",
    "    binary_dice_scores = []\n",
    "\n",
    "    for c in range(1, n_classes):\n",
    "        c_pred, c_targ = torch.where(pred==c, 1, 0), torch.where(targ==c, 1, 0)\n",
    "        dsc = calculate_dsc(c_pred, c_targ)\n",
    "        binary_dice_scores.append(np.nanmean(dsc)) #TODO update torch to get torch.nanmean() to work\n",
    "\n",
    "    return torch.Tensor(binary_dice_scores)"
   ]
  },
  {
   "cell_type": "code",
   "execution_count": null,
   "id": "a390762f-d1a9-4674-b099-2369769f4198",
   "metadata": {},
   "outputs": [],
   "source": [
    "#| export\n",
    "def binary_hausdorff_distance(act, # Activation tensor [B, C, W, H, D]\n",
    "                              targ # Target masks [B, C, W, H, D]\n",
    "                             ) -> torch.Tensor:\n",
    "    '''Calculate the mean Hausdorff distance for binary semantic segmentation tasks.'''\n",
    "\n",
    "    pred = pred_to_binary_mask(act)\n",
    "\n",
    "    haus = calculate_haus(pred.cpu(), targ.cpu())\n",
    "    return torch.mean(haus)"
   ]
  },
  {
   "cell_type": "code",
   "execution_count": null,
   "id": "ea94dea5",
   "metadata": {},
   "outputs": [],
   "source": [
    "#| export\n",
    "def multi_hausdorff_distance(act, # Activation tensor [B, C, W, H, D]\n",
    "                             targ # Target masks [B, C, W, H, D]\n",
    "                            ) -> torch.Tensor :\n",
    "    '''Calculate the mean Hausdorff distance for each class in multi-class semantic segmentation tasks.'''\n",
    "\n",
    "    pred, n_classes = batch_pred_to_multiclass_mask(act)\n",
    "    binary_haus = []\n",
    "\n",
    "    for c in range(1, n_classes):\n",
    "        c_pred, c_targ = torch.where(pred==c, 1, 0), torch.where(targ==c, 1, 0)\n",
    "        haus = calculate_haus(pred, targ)\n",
    "        binary_haus.append(np.nanmean(haus)) #TODO update torch to get torch.nanmean() to work\n",
    "\n",
    "    return torch.Tensor(binary_haus)"
   ]
  },
  {
   "cell_type": "code",
   "execution_count": null,
   "id": "b84e25bf-11f5-4806-9657-1353054428e4",
   "metadata": {},
   "outputs": [],
   "source": [
    "#| hide \n",
    "\n",
    "# Test Dice score and Hausdorff distance \n",
    "pred = torch.zeros((1,1,10,10,10))\n",
    "pred[:,:,:5, :5, :5] = 1\n",
    "\n",
    "targ = torch.zeros((1,1,10,10,10))\n",
    "targ[:,:,:5, :5, :5] = 1\n",
    "\n",
    "dsc = float(calculate_dsc(pred, targ)) \n",
    "haus = float(calculate_haus(pred,targ))\n",
    "\n",
    "assert dsc == 1.0\n",
    "assert haus == 0.0"
   ]
  }
 ],
 "metadata": {
  "kernelspec": {
   "display_name": "Python 3",
   "language": "python",
   "name": "python3"
  }
 },
 "nbformat": 4,
 "nbformat_minor": 5
}
