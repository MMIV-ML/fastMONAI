{
 "cells": [
  {
   "cell_type": "code",
   "execution_count": null,
   "metadata": {},
   "outputs": [],
   "source": [
    "#| default_exp vision_data"
   ]
  },
  {
   "cell_type": "code",
   "execution_count": null,
   "metadata": {},
   "outputs": [],
   "source": [
    "#| hide\n",
    "from nbdev.showdoc import *"
   ]
  },
  {
   "cell_type": "code",
   "execution_count": null,
   "metadata": {},
   "outputs": [],
   "source": [
    "#| export\n",
    "from fastai.data.all import *\n",
    "from fastai.vision.data import *\n",
    "from fastMONAI.vision_core import *"
   ]
  },
  {
   "cell_type": "markdown",
   "metadata": {},
   "source": [
    "# Vision data\n",
    ">"
   ]
  },
  {
   "cell_type": "markdown",
   "metadata": {},
   "source": [
    "## Prediction to mask"
   ]
  },
  {
   "cell_type": "code",
   "execution_count": null,
   "metadata": {},
   "outputs": [],
   "source": [
    "#| export\n",
    "def pred_to_multiclass_mask(pred:torch.Tensor # [C,W,H,D] activation tensor\n",
    "                           ) -> torch.Tensor:\n",
    "    '''Apply Softmax function on the predicted tensor to rescale the values in the range [0, 1] and sum to 1.\n",
    "    Then apply argmax to get the indices of the maximum value of all elements in the predicted Tensor.\n",
    "    Returns: Predicted mask.\n",
    "    '''\n",
    "    pred = pred.softmax(dim=0)\n",
    "    return pred.argmax(dim=0, keepdims=True)"
   ]
  },
  {
   "cell_type": "code",
   "execution_count": null,
   "metadata": {},
   "outputs": [],
   "source": [
    "#| export\n",
    "def batch_pred_to_multiclass_mask(pred:torch.Tensor # [B, C, W, H, D] batch of activations\n",
    "                                 ) -> (torch.Tensor, int):\n",
    "    '''Convert a batch of predicted activation tensors to masks.\n",
    "    Returns batch of predicted masks and number of classes.\n",
    "    '''\n",
    "\n",
    "    n_classes = pred.shape[1]\n",
    "    pred = [pred_to_multiclass_mask(p) for p in pred]\n",
    "\n",
    "    return torch.stack(pred), n_classes"
   ]
  },
  {
   "cell_type": "code",
   "execution_count": null,
   "metadata": {},
   "outputs": [],
   "source": [
    "#| export\n",
    "def pred_to_binary_mask(pred # [B, C, W, H, D] or [C, W, H, D] activation tensor\n",
    "                       ) -> torch.Tensor:\n",
    "    '''Apply Sigmoid function that squishes activations into a range between 0 and 1.\n",
    "    Then we classify all values greater than or equal to 0.5 to 1, and the values below 0.5 to 0.\n",
    "\n",
    "    Returns predicted binary mask(s).\n",
    "    '''\n",
    "\n",
    "    pred = torch.sigmoid(pred)\n",
    "    return torch.where(pred>=0.5, 1, 0)"
   ]
  },
  {
   "cell_type": "markdown",
   "metadata": {},
   "source": [
    "## `DataBlock` for vision -"
   ]
  },
  {
   "cell_type": "code",
   "execution_count": null,
   "metadata": {},
   "outputs": [],
   "source": [
    "#| export\n",
    "class MedDataBlock(DataBlock):\n",
    "    '''Container to quickly build dataloaders.'''\n",
    "\n",
    "    def __init__(self, blocks:list=None,dl_type:TfmdDL=None, getters:list=None, n_inp:int=None, item_tfms:list=None,\n",
    "                 batch_tfms:list=None, reorder:bool=False, resample:(int, list)=None, **kwargs):\n",
    "\n",
    "        super().__init__(blocks, dl_type, getters, n_inp, item_tfms, batch_tfms, **kwargs)\n",
    "        MedBase.item_preprocessing(resample,reorder)"
   ]
  },
  {
   "cell_type": "code",
   "execution_count": null,
   "metadata": {},
   "outputs": [
    {
     "data": {
      "text/markdown": [
       "---\n",
       "\n",
       "### MedDataBlock\n",
       "\n",
       ">      MedDataBlock (blocks:list=None, dl_type:fastai.data.core.TfmdDL=None,\n",
       ">                    getters:list=None, n_inp:int=None, item_tfms:list=None,\n",
       ">                    batch_tfms:list=None, reorder:bool=False,\n",
       ">                    resample:(<class'int'>,<class'list'>)=None, **kwargs)\n",
       "\n",
       "Container to quickly build dataloaders."
      ],
      "text/plain": [
       "<nbdev.showdoc.BasicMarkdownRenderer>"
      ]
     },
     "execution_count": null,
     "metadata": {},
     "output_type": "execute_result"
    }
   ],
   "source": [
    "show_doc(MedDataBlock, title_level=2)"
   ]
  },
  {
   "cell_type": "markdown",
   "metadata": {},
   "source": [
    "## `TransformBlock` for segmentation"
   ]
  },
  {
   "cell_type": "code",
   "execution_count": null,
   "metadata": {},
   "outputs": [],
   "source": [
    "#| export\n",
    "def MedMaskBlock():\n",
    "    return TransformBlock(type_tfms=MedMask.create)"
   ]
  },
  {
   "cell_type": "markdown",
   "metadata": {},
   "source": [
    "## `DataLoaders` for vision -"
   ]
  },
  {
   "cell_type": "code",
   "execution_count": null,
   "metadata": {},
   "outputs": [],
   "source": [
    "#| export\n",
    "class MedImageDataLoaders(DataLoaders):\n",
    "    '''Higher-level `MedDataBlock` API.'''\n",
    "\n",
    "    @classmethod\n",
    "    @delegates(DataLoaders.from_dblock)\n",
    "    def from_df(cls, df, valid_pct=0.2, seed=None, fn_col=0, folder=None, suff='', label_col=1, label_delim=None,\n",
    "                y_block=None, valid_col=None, item_tfms=None, batch_tfms=None, reorder=False, resample=None, **kwargs):\n",
    "        '''Create from DataFrame.'''\n",
    "\n",
    "        if y_block is None:\n",
    "            is_multi = (is_listy(label_col) and len(label_col) > 1) or label_delim is not None\n",
    "            y_block = MultiCategoryBlock if is_multi else CategoryBlock\n",
    "        splitter = RandomSplitter(valid_pct, seed=seed) if valid_col is None else ColSplitter(valid_col)\n",
    "\n",
    "\n",
    "        dblock = MedDataBlock(blocks=(ImageBlock(cls=MedImage), y_block), get_x=ColReader(fn_col, suff=suff),\n",
    "                              get_y=ColReader(label_col, label_delim=label_delim),\n",
    "                              splitter=splitter,\n",
    "                              item_tfms=item_tfms,\n",
    "                              reorder=reorder,\n",
    "                              resample=resample)\n",
    "\n",
    "        return cls.from_dblock(dblock, df, **kwargs)"
   ]
  },
  {
   "cell_type": "code",
   "execution_count": null,
   "metadata": {},
   "outputs": [
    {
     "data": {
      "text/markdown": [
       "---\n",
       "\n",
       "### MedImageDataLoaders\n",
       "\n",
       ">      MedImageDataLoaders (*loaders, path:'str|Path'='.', device=None)\n",
       "\n",
       "Higher-level `MedDataBlock` API."
      ],
      "text/plain": [
       "<nbdev.showdoc.BasicMarkdownRenderer>"
      ]
     },
     "execution_count": null,
     "metadata": {},
     "output_type": "execute_result"
    }
   ],
   "source": [
    "show_doc(MedImageDataLoaders, title_level=2)"
   ]
  },
  {
   "cell_type": "code",
   "execution_count": null,
   "metadata": {},
   "outputs": [
    {
     "data": {
      "text/markdown": [
       "---\n",
       "\n",
       "### MedImageDataLoaders.from_df\n",
       "\n",
       ">      MedImageDataLoaders.from_df (df, valid_pct=0.2, seed=None, fn_col=0,\n",
       ">                                   folder=None, suff='', label_col=1,\n",
       ">                                   label_delim=None, y_block=None,\n",
       ">                                   valid_col=None, item_tfms=None,\n",
       ">                                   batch_tfms=None, reorder=False,\n",
       ">                                   resample=None, path:'str|Path'='.',\n",
       ">                                   bs:'int'=64, val_bs:'int'=None,\n",
       ">                                   shuffle:'bool'=True, device=None)\n",
       "\n",
       "Create from DataFrame.\n",
       "\n",
       "|    | **Type** | **Default** | **Details** |\n",
       "| -- | -------- | ----------- | ----------- |\n",
       "| df |  |  |  |\n",
       "| valid_pct | float | 0.2 |  |\n",
       "| seed | NoneType | None |  |\n",
       "| fn_col | int | 0 |  |\n",
       "| folder | NoneType | None |  |\n",
       "| suff | str |  |  |\n",
       "| label_col | int | 1 |  |\n",
       "| label_delim | NoneType | None |  |\n",
       "| y_block | NoneType | None |  |\n",
       "| valid_col | NoneType | None |  |\n",
       "| item_tfms | NoneType | None |  |\n",
       "| batch_tfms | NoneType | None |  |\n",
       "| reorder | bool | False |  |\n",
       "| resample | NoneType | None |  |\n",
       "| path | str \\| Path | . | Path to put in `DataLoaders` passed to `DataLoaders.from_dblock` |\n",
       "| bs | int | 64 | Size of batch passed to `DataLoaders.from_dblock` |\n",
       "| val_bs | int | None | Size of batch for validation `DataLoader` passed to `DataLoaders.from_dblock` |\n",
       "| shuffle | bool | True | Whether to shuffle data passed to `DataLoaders.from_dblock` |\n",
       "| device | NoneType | None | Device to put `DataLoaders` passed to `DataLoaders.from_dblock` |"
      ],
      "text/plain": [
       "<nbdev.showdoc.BasicMarkdownRenderer>"
      ]
     },
     "execution_count": null,
     "metadata": {},
     "output_type": "execute_result"
    }
   ],
   "source": [
    "show_doc(MedImageDataLoaders.from_df, title_level=3)"
   ]
  },
  {
   "cell_type": "markdown",
   "metadata": {},
   "source": [
    "## Show methods - "
   ]
  },
  {
   "cell_type": "markdown",
   "metadata": {},
   "source": [
    "###  Show batch of images - "
   ]
  },
  {
   "cell_type": "code",
   "execution_count": null,
   "metadata": {},
   "outputs": [],
   "source": [
    "#| export\n",
    "@typedispatch\n",
    "def show_batch(x:MedImage, y, samples, ctxs=None, max_n=6, nrows=None, ncols=None, figsize=None, channel=0, indices=None, anatomical_plane=0, **kwargs):\n",
    "    '''Showing a batch of samples for classification and regression tasks.'''\n",
    "\n",
    "    if ctxs is None: ctxs = get_grid(min(len(samples), max_n), nrows=nrows, ncols=ncols, figsize=figsize)\n",
    "    n = 1 if y is None else 2\n",
    "    for i in range(n):\n",
    "        ctxs = [b.show(ctx=c, channel=channel, indices=indices, anatomical_plane=anatomical_plane, **kwargs) for b,c,_ in zip(samples.itemgot(i),ctxs,range(max_n))]\n",
    "\n",
    "    plt.tight_layout()\n",
    "    return ctxs"
   ]
  },
  {
   "cell_type": "code",
   "execution_count": null,
   "metadata": {},
   "outputs": [],
   "source": [
    "#| export\n",
    "@typedispatch\n",
    "def show_batch(x:MedImage, y:MedMask, samples, ctxs=None, max_n=6, nrows=None, ncols=None, figsize=None, channel=0, indices=None, anatomical_plane=0, **kwargs):\n",
    "    '''Showing a batch of decoded segmentation samples.'''\n",
    "\n",
    "    nrows, ncols = min(len(samples), max_n), x.shape[1] + 1\n",
    "    imgs = []\n",
    "\n",
    "    fig,axs = subplots(nrows, ncols, figsize=figsize, **kwargs)\n",
    "    axs = axs.flatten()\n",
    "\n",
    "    for img, mask in list(zip(x,y)):\n",
    "        im_channels = [MedImage(c_img[None]) for c_img in img]\n",
    "        im_channels.append(MedMask(mask))\n",
    "        imgs.extend(im_channels)\n",
    "\n",
    "    ctxs = [im.show(ax=ax, indices=indices, anatomical_plane=anatomical_plane) for im, ax in zip(imgs, axs)]\n",
    "    plt.tight_layout()\n",
    "\n",
    "    return ctxs"
   ]
  },
  {
   "cell_type": "markdown",
   "metadata": {},
   "source": [
    "### Show results - "
   ]
  },
  {
   "cell_type": "code",
   "execution_count": null,
   "metadata": {},
   "outputs": [],
   "source": [
    "#| export \n",
    "@typedispatch\n",
    "def show_results(x:MedImage, y:torch.Tensor, samples, outs, ctxs=None, max_n=6, nrows=None, ncols=None, figsize=None, channel=0, indices=None, anatomical_plane=0, **kwargs):\n",
    "    '''Showing samples and their corresponding predictions for regression tasks.'''\n",
    "\n",
    "    if ctxs is None: ctxs = get_grid(min(len(samples), max_n), nrows=nrows, ncols=ncols, figsize=figsize)\n",
    "\n",
    "    for i in range(len(samples[0])):\n",
    "        ctxs = [b.show(ctx=c, channel=channel, indices=indices, anatomical_plane=anatomical_plane, **kwargs) for b,c,_ in zip(samples.itemgot(i),ctxs,range(max_n))]\n",
    "    for i in range(len(outs[0])):\n",
    "        ctxs = [b.show(ctx=c, **kwargs) for b,c,_ in zip(outs.itemgot(i),ctxs,range(max_n))]\n",
    "    return ctxs"
   ]
  },
  {
   "cell_type": "code",
   "execution_count": null,
   "metadata": {},
   "outputs": [],
   "source": [
    "#| export\n",
    "@typedispatch\n",
    "def show_results(x:MedImage, y:TensorCategory, samples, outs, ctxs=None, max_n=6, nrows=None, ncols=None, figsize=None, channel=0, indices=None, anatomical_plane=0, **kwargs):\n",
    "    '''Showing samples and their corresponding predictions for classification tasks.'''\n",
    "\n",
    "    if ctxs is None: ctxs = get_grid(min(len(samples), max_n), nrows=nrows, ncols=ncols, figsize=figsize)\n",
    "    for i in range(2):\n",
    "        ctxs = [b.show(ctx=c, channel=channel, indices=indices, anatomical_plane=anatomical_plane, **kwargs) for b,c,_ in zip(samples.itemgot(i),ctxs,range(max_n))]\n",
    "    ctxs = [r.show(ctx=c, color='green' if b==r else 'red', **kwargs) for b,r,c,_ in zip(samples.itemgot(1),outs.itemgot(0),ctxs,range(max_n))]\n",
    "    return ctxs"
   ]
  },
  {
   "cell_type": "code",
   "execution_count": null,
   "metadata": {},
   "outputs": [],
   "source": [
    "#| export\n",
    "@typedispatch\n",
    "def show_results(x:MedImage, y:MedMask, samples, outs, ctxs=None, max_n=6, nrows=None, ncols=1, figsize=None, channel=0, indices=None, anatomical_plane=0, **kwargs):\n",
    "    ''' Showing decoded samples and their corresponding predictions for segmentation tasks.'''\n",
    "\n",
    "    if ctxs is None: ctxs = get_grid(min(len(samples), max_n), nrows=nrows, ncols=ncols, figsize=figsize, double=True, title='Target/Prediction')\n",
    "    for i in range(2):\n",
    "        ctxs[::2] = [b.show(ctx=c, channel=channel, indices=indices, anatomical_plane=anatomical_plane, **kwargs) for b,c,_ in zip(samples.itemgot(i),ctxs[::2],range(2*max_n))]\n",
    "    for o in [samples,outs]:\n",
    "        ctxs[1::2] = [b.show(ctx=c, channel=channel, indices=indices, anatomical_plane=anatomical_plane, **kwargs) for b,c,_ in zip(o.itemgot(0),ctxs[1::2],range(2*max_n))]\n",
    "    return ctxs"
   ]
  },
  {
   "cell_type": "markdown",
   "metadata": {},
   "source": [
    "### Show top losses - "
   ]
  },
  {
   "cell_type": "code",
   "execution_count": null,
   "metadata": {},
   "outputs": [],
   "source": [
    "#| export\n",
    "@typedispatch\n",
    "def plot_top_losses(x: MedImage, y, samples, outs, raws, losses, nrows=None, ncols=None, figsize=None, channel=0, indices=None, anatomical_plane=0, **kwargs):\n",
    "    '''Show images in top_losses along with their prediction, actual, loss, and probability of actual class.'''\n",
    "\n",
    "    title = 'Prediction/Actual/Loss' if type(y) == torch.Tensor else 'Prediction/Actual/Loss/Probability'\n",
    "    axs = get_grid(len(samples), nrows=nrows, ncols=ncols, figsize=figsize, title=title)\n",
    "    for ax,s,o,r,l in zip(axs, samples, outs, raws, losses):\n",
    "        s[0].show(ctx=ax, channel=channel, indices=indices, anatomical_plane=anatomical_plane, **kwargs)\n",
    "        if type(y) == torch.Tensor: ax.set_title(f'{r.max().item():.2f}/{s[1]} / {l.item():.2f}')\n",
    "        else: ax.set_title(f'{o[0]}/{s[1]} / {l.item():.2f} / {r.max().item():.2f}')"
   ]
  },
  {
   "cell_type": "code",
   "execution_count": null,
   "metadata": {},
   "outputs": [],
   "source": [
    "#| export\n",
    "@typedispatch\n",
    "def plot_top_losses(x: MedImage, y:TensorMultiCategory, samples, outs, raws, losses, nrows=None, ncols=None, figsize=None, channel=0, indices=None, anatomical_plane=0, **kwargs):\n",
    "    #TODO: not tested yet\n",
    "    axs = get_grid(len(samples), nrows=nrows, ncols=ncols, figsize=figsize)\n",
    "    for i,(ax,s) in enumerate(zip(axs, samples)): s[0].show(ctx=ax, title=f'Image {i}', channel=channel, indices=indices, anatomical_plane=anatomical_plane, **kwargs)\n",
    "    rows = get_empty_df(len(samples))\n",
    "    outs = L(s[1:] + o + (TitledStr(r), TitledFloat(l.item())) for s,o,r,l in zip(samples, outs, raws, losses))\n",
    "    for i,l in enumerate([\"target\", \"predicted\", \"probabilities\", \"loss\"]):\n",
    "        rows = [b.show(ctx=r, label=l, channel=channel, indices=indices, anatomical_plane=anatomical_plane, **kwargs) for b,r in zip(outs.itemgot(i),rows)]\n",
    "    display_df(pd.DataFrame(rows))"
   ]
  }
 ],
 "metadata": {
  "kernelspec": {
   "display_name": "Python 3 (ipykernel)",
   "language": "python",
   "name": "python3"
  }
 },
 "nbformat": 4,
 "nbformat_minor": 4
}
