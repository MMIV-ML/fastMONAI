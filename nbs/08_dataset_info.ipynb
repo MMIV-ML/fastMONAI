{
 "cells": [
  {
   "cell_type": "code",
   "execution_count": null,
   "id": "2585a7f0-c4c3-40cc-b87d-9c8c056d0b9d",
   "metadata": {},
   "outputs": [],
   "source": [
    "#| default_exp dataset_info"
   ]
  },
  {
   "cell_type": "code",
   "execution_count": null,
   "id": "fab88ecb-d5fb-4ceb-a5a9-608dcd20e0ff",
   "metadata": {},
   "outputs": [],
   "source": [
    "#| hide\n",
    "from nbdev.showdoc import *"
   ]
  },
  {
   "cell_type": "code",
   "execution_count": null,
   "id": "027f016a-a80c-4842-b9dc-0bddb358a00c",
   "metadata": {},
   "outputs": [],
   "source": [
    "#| export \n",
    "from fastMONAI.vision_core import *\n",
    "\n",
    "import multiprocessing as mp\n",
    "from functools import partial\n",
    "import pandas as pd\n",
    "import numpy as np\n",
    "import glob"
   ]
  },
  {
   "cell_type": "markdown",
   "id": "74812108-f3eb-4a8d-9f2d-b93132619008",
   "metadata": {},
   "source": [
    "# Dataset information\n",
    ">"
   ]
  },
  {
   "cell_type": "code",
   "execution_count": null,
   "id": "3b9d5a24-5330-4fd4-b507-3d21799fe864",
   "metadata": {},
   "outputs": [],
   "source": [
    "#| export\n",
    "class MedDataset():\n",
    "    '''A class to extract and present information about the dataset.'''\n",
    "\n",
    "    def __init__(self, path=None, # Path to the image folder\n",
    "                 postfix:str='', # Specify the file type if there are different files in the folder\n",
    "                 img_list:list=None, # A list with image path\n",
    "                 reorder:bool=False, # Whether to reorder the data to be closest to canonical (RAS+) orientation\n",
    "                 dtype:(MedImage, MedMask)=MedImage, # Load data as datatype\n",
    "                 max_workers:int=1 #  The number of worker threads\n",
    "                ):\n",
    "        '''Constructs all the necessary attributes for the MedDataset object.'''\n",
    "\n",
    "        self.path = path\n",
    "        self.postfix = postfix\n",
    "        self.img_list = img_list\n",
    "        self.reorder = reorder\n",
    "        self.dtype = dtype\n",
    "        self.max_workers = max_workers\n",
    "        self.df = self._create_data_frame()\n",
    "\n",
    "    def _create_data_frame(self):\n",
    "        '''Private method that returns a dataframe with information about the dataset\n",
    "\n",
    "        Returns:\n",
    "            DataFrame: A DataFrame with information about the dataset.\n",
    "        '''\n",
    "\n",
    "        if self.path:\n",
    "            self.img_list = glob.glob(f'{self.path}/*{self.postfix}*')\n",
    "            if not self.img_list: print('Could not find images. Check the image path')\n",
    "\n",
    "        pool = mp.Pool(self.max_workers)\n",
    "        data_info_dict = pool.map(self._get_data_info, self.img_list)\n",
    "\n",
    "        df = pd.DataFrame(data_info_dict)\n",
    "        if df.orientation.nunique() > 1: print('The volumes in this dataset have different orientations. Recommended to pass in the argument reorder=True when creating a MedDataset object for this dataset')\n",
    "        return df\n",
    "\n",
    "    def summary(self):\n",
    "        '''Summary DataFrame of the dataset with example path for similar data.'''\n",
    "\n",
    "        columns = ['dim_0', 'dim_1', 'dim_2', 'voxel_0', 'voxel_1', 'voxel_2', 'orientation']\n",
    "        return self.df.groupby(columns,as_index=False).agg(example_path=('path', 'min'), total=('path', 'size')).sort_values('total', ascending=False)\n",
    "\n",
    "    def suggestion(self):\n",
    "        '''Voxel value that appears most often in dim_0, dim_1 and dim_2, and wheter the data should be reoriented.'''\n",
    "        resample = [self.df.voxel_0.mode()[0], self.df.voxel_1.mode()[0], self.df.voxel_2.mode()[0]]\n",
    "\n",
    "        return resample, self.reorder\n",
    "\n",
    "    def _get_data_info(self, fn:str):\n",
    "        '''Private method to collect information about an image file.\n",
    "\n",
    "        Args:\n",
    "            fn: Image file path.\n",
    "\n",
    "        Returns:\n",
    "            dict: A dictionary with information about the image file\n",
    "        '''\n",
    "\n",
    "        o,_ = med_img_reader(fn, dtype=self.dtype, reorder=self.reorder, only_tensor=False)\n",
    "\n",
    "        info_dict = {'path': fn,  'dim_0': o.shape[1],  'dim_1': o.shape[2],  'dim_2' :o.shape[3],\n",
    "                     'voxel_0': round(o.spacing[0], 4), 'voxel_1': round(o.spacing[1], 4), 'voxel_2': round(o.spacing[2], 4),\n",
    "                     'orientation': f'{\"\".join(o.orientation)}+'}\n",
    "\n",
    "        if self.dtype is MedMask:\n",
    "            mask_labels_dict = o.count_labels()\n",
    "            mask_labels_dict = {f'voxel_count_{int(key)}': val for key, val in mask_labels_dict.items()}\n",
    "            info_dict.update(mask_labels_dict)\n",
    "\n",
    "        return info_dict\n",
    "\n",
    "    def get_largest_img_size(self,\n",
    "                             resample:list=None # A list with voxel spacing [dim_0, dim_1, dim_2]\n",
    "                            ) -> list:\n",
    "        '''Get the largest image size in the dataset.'''\n",
    "        if resample is not None: \n",
    "            \n",
    "            org_voxels = self.df[[\"voxel_0\", \"voxel_1\", 'voxel_2']].values\n",
    "            org_dims = self.df[[\"dim_0\", \"dim_1\", 'dim_2']].values\n",
    "            \n",
    "            ratio = org_voxels/resample\n",
    "            new_dims = (org_dims * ratio).T\n",
    "            return [new_dims[0].max().round(), new_dims[1].max().round(), new_dims[2].max().round()]\n",
    "        \n",
    "        else: return [df.dim_0.max(), df.dim_1.max(), df.dim_2.max()]"
   ]
  },
  {
   "cell_type": "code",
   "execution_count": null,
   "id": "f5dd82f6-f08d-42e8-9d2d-b3c624af7ce3",
   "metadata": {},
   "outputs": [
    {
     "data": {
      "text/markdown": [
       "---\n",
       "\n",
       "#### MedDataset.summary\n",
       "\n",
       ">      MedDataset.summary ()\n",
       "\n",
       "Summary DataFrame of the dataset with example path for similar data."
      ],
      "text/plain": [
       "<nbdev.showdoc.BasicMarkdownRenderer>"
      ]
     },
     "execution_count": null,
     "metadata": {},
     "output_type": "execute_result"
    }
   ],
   "source": [
    "show_doc(MedDataset.summary)"
   ]
  },
  {
   "cell_type": "code",
   "execution_count": null,
   "id": "12c20050-2f33-44bb-98cd-a109e3efdff1",
   "metadata": {},
   "outputs": [
    {
     "data": {
      "text/markdown": [
       "---\n",
       "\n",
       "#### MedDataset.get_largest_img_size\n",
       "\n",
       ">      MedDataset.get_largest_img_size (resample:list=None)\n",
       "\n",
       "Get the largest image size in the dataset.\n",
       "\n",
       "|    | **Type** | **Default** | **Details** |\n",
       "| -- | -------- | ----------- | ----------- |\n",
       "| resample | list | None | A list with voxel spacing [dim_0, dim_1, dim_2] |\n",
       "| **Returns** | **list** |  |  |"
      ],
      "text/plain": [
       "<nbdev.showdoc.BasicMarkdownRenderer>"
      ]
     },
     "execution_count": null,
     "metadata": {},
     "output_type": "execute_result"
    }
   ],
   "source": [
    "show_doc(MedDataset.get_largest_img_size)"
   ]
  }
 ],
 "metadata": {
  "kernelspec": {
   "display_name": "fm",
   "language": "python",
   "name": "fm"
  }
 },
 "nbformat": 4,
 "nbformat_minor": 5
}
