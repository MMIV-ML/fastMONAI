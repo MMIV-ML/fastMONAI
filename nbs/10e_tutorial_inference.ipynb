{
 "cells": [
  {
   "cell_type": "markdown",
   "id": "04e4d97b-d133-4c8d-8c56-8d1742cc3d5e",
   "metadata": {},
   "source": [
    "# Inference with exported learner"
   ]
  },
  {
   "cell_type": "raw",
   "id": "918ff9e4",
   "metadata": {},
   "source": [
    "---\n",
    "skip_showdoc: true\n",
    "skip_exec: true\n",
    "---"
   ]
  },
  {
   "cell_type": "code",
   "execution_count": null,
   "id": "42a486ea-99cf-4a24-b994-d857ccfe61c6",
   "metadata": {},
   "outputs": [],
   "source": [
    "#all_skip\n",
    "from fastMONAI.vision_all import *\n",
    "\n",
    "from monai.apps import DecathlonDataset"
   ]
  },
  {
   "cell_type": "code",
   "execution_count": null,
   "id": "bdde4111-7c31-4039-ae16-d708dd7f6cf3",
   "metadata": {},
   "outputs": [],
   "source": [
    "#task = 'Task09_Spleen'\n",
    "task = 'Task01_BrainTumour'"
   ]
  },
  {
   "cell_type": "code",
   "execution_count": null,
   "id": "9312d6e1-6b2d-4f00-b4ac-d689807822d5",
   "metadata": {},
   "outputs": [],
   "source": [
    "path = Path('../data')\n",
    "path.mkdir(exist_ok=True)"
   ]
  },
  {
   "cell_type": "code",
   "execution_count": null,
   "id": "ff1464c8-3e3f-4317-a0e3-40fc7000d3b3",
   "metadata": {},
   "outputs": [],
   "source": [
    "test_data = DecathlonDataset(root_dir=path, task=task, section=\"test\", download=True,\n",
    "                                 cache_num=0, num_workers=3) "
   ]
  },
  {
   "cell_type": "code",
   "execution_count": null,
   "id": "e5727d06-bdd5-4e7e-bcfd-02879271208a",
   "metadata": {},
   "outputs": [],
   "source": [
    "test_imgs = [data['image'] for data in test_data.data]"
   ]
  },
  {
   "cell_type": "code",
   "execution_count": null,
   "id": "a34978a4-eeed-49a9-911c-9f267a82b517",
   "metadata": {},
   "outputs": [],
   "source": [
    "learn_inf = load_learner('braintumor_model.pkl', cpu=False);"
   ]
  },
  {
   "cell_type": "code",
   "execution_count": null,
   "id": "ed78f1b6-c94e-4071-9393-9675df09fc3f",
   "metadata": {},
   "outputs": [
    {
     "data": {
      "text/plain": [
       "(False, [1.0, 1.0, 1.0])"
      ]
     },
     "execution_count": null,
     "metadata": {},
     "output_type": "execute_result"
    }
   ],
   "source": [
    "_, reorder, resample = load_variables(pkl_fn='vars.pkl')\n",
    "reorder, resample"
   ]
  },
  {
   "cell_type": "code",
   "execution_count": null,
   "id": "3fc50afc-5f87-48a1-90c3-fc7efc1604cc",
   "metadata": {},
   "outputs": [],
   "source": [
    "save_path = Path('../data/results/braintumor')\n",
    "path.mkdir(parents=True, exist_ok=True)"
   ]
  },
  {
   "cell_type": "code",
   "execution_count": null,
   "id": "73fbda00-9f00-438f-8583-6ab70f6abfff",
   "metadata": {},
   "outputs": [],
   "source": [
    "idx = 3\n",
    "img_fn = test_imgs[idx]"
   ]
  },
  {
   "cell_type": "code",
   "execution_count": null,
   "id": "222466e3-7b36-4c31-973c-8e587db79221",
   "metadata": {},
   "outputs": [
    {
     "data": {
      "text/html": [
       "\n",
       "<style>\n",
       "    /* Turns off some styling */\n",
       "    progress {\n",
       "        /* gets rid of default border in Firefox and Opera. */\n",
       "        border: none;\n",
       "        /* Needs to be in here for Safari polyfill so background images work as expected. */\n",
       "        background-size: auto;\n",
       "    }\n",
       "    progress:not([value]), progress:not([value])::-webkit-progress-bar {\n",
       "        background: repeating-linear-gradient(45deg, #7e7e7e, #7e7e7e 10px, #5c5c5c 10px, #5c5c5c 20px);\n",
       "    }\n",
       "    .progress-bar-interrupted, .progress-bar-interrupted::-webkit-progress-bar {\n",
       "        background: #F44336;\n",
       "    }\n",
       "</style>\n"
      ],
      "text/plain": [
       "<IPython.core.display.HTML object>"
      ]
     },
     "metadata": {},
     "output_type": "display_data"
    },
    {
     "data": {
      "text/html": [],
      "text/plain": [
       "<IPython.core.display.HTML object>"
      ]
     },
     "metadata": {},
     "output_type": "display_data"
    }
   ],
   "source": [
    "pred_fn = inference(learn_inf, reorder, resample, fn, save_path=save_path)"
   ]
  },
  {
   "cell_type": "code",
   "execution_count": null,
   "id": "dacba50e-3b72-42f5-9028-60da902545cd",
   "metadata": {},
   "outputs": [],
   "source": [
    "from torchio import Subject, ScalarImage, LabelMap\n",
    "\n",
    "subject = Subject(image=ScalarImage(img_fn), mask=LabelMap(pred_fn))\n",
    "subject.plot(figsize=(10,5))"
   ]
  }
 ],
 "metadata": {
  "kernelspec": {
   "display_name": "Python 3 (ipykernel)",
   "language": "python",
   "name": "python3"
  }
 },
 "nbformat": 4,
 "nbformat_minor": 5
}
