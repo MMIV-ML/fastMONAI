{
 "cells": [
  {
   "cell_type": "markdown",
   "metadata": {},
   "source": [
    "# Overview\n",
    "> "
   ]
  },
  {
   "cell_type": "markdown",
   "metadata": {},
   "source": [
    "![](https://github.com/skaliy/skaliy.github.io/blob/master/assets/fastmonai_v1.png?raw=true)"
   ]
  },
  {
   "cell_type": "markdown",
   "metadata": {},
   "source": [
    "A low-code Python-based open source deep learning library built on top of [fastai](https://github.com/fastai/fastai), [MONAI](https://monai.io/), and [TorchIO](https://torchio.readthedocs.io/). \n",
    "\n",
    "fastMONAI simplifies the use of state-of-the-art deep learning techniques in 3D medical image analysis for solving classification, regression, and segmentation tasks. fastMONAI provides the users with functionalities to step through data loading, preprocessing, training, and result interpretations."
   ]
  },
  {
   "cell_type": "markdown",
   "metadata": {},
   "source": [
    "<b>Note:</b> This documentation is also available as interactive notebooks."
   ]
  },
  {
   "cell_type": "markdown",
   "metadata": {},
   "source": [
    "## Installing"
   ]
  },
  {
   "cell_type": "markdown",
   "metadata": {},
   "source": [
    "### From PyPI"
   ]
  },
  {
   "cell_type": "markdown",
   "metadata": {},
   "source": [
    "`pip install fastMONAI`"
   ]
  },
  {
   "cell_type": "markdown",
   "metadata": {},
   "source": [
    "### From Github  \n",
    "If you want to install an editable version of fastMONAI run:"
   ]
  },
  {
   "cell_type": "markdown",
   "metadata": {},
   "source": [
    "- `git clone https://github.com/MMIV-ML/fastMONAI`\n",
    "- `pip install -e 'fastMONAI[dev]'`"
   ]
  },
  {
   "cell_type": "markdown",
   "metadata": {},
   "source": [
    "## How to use fastMONAI "
   ]
  },
  {
   "cell_type": "markdown",
   "metadata": {},
   "source": [
    "The best way to get started using fastMONAI is to read the paper and look at the step-by-step tutorial-like notebooks to learn how to train your own models on different tasks (e.g., classification, regression, segmentation). See the docs at https://fastmonai.no/ for more information. "
   ]
  },
  {
   "cell_type": "markdown",
   "metadata": {},
   "source": [
    "## Citing fastMONAI"
   ]
  },
  {
   "cell_type": "markdown",
   "metadata": {},
   "source": [
    "```\n",
    "@article{kaliyugarasan2022fastMONAI,\n",
    "  title={fastMONAI: a low-code deep learning library for medical image analysis},\n",
    "  author={Kaliyugarasan, Satheshkumar and Lundervold, Alexander Selvikv{\\aa}g},\n",
    "  year={2022}\n",
    "}\n",
    "```"
   ]
  }
 ],
 "metadata": {
  "kernelspec": {
   "display_name": "Python 3 (ipykernel)",
   "language": "python",
   "name": "python3"
  }
 },
 "nbformat": 4,
 "nbformat_minor": 4
}
