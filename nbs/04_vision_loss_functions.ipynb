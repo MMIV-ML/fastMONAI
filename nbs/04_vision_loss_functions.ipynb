{
 "cells": [
  {
   "cell_type": "code",
   "execution_count": null,
   "id": "ce07e17d-82d7-4d42-b6b7-6ee80a55341b",
   "metadata": {},
   "outputs": [],
   "source": [
    "#| default_exp vision_loss"
   ]
  },
  {
   "cell_type": "code",
   "execution_count": null,
   "id": "e8eee6b3-75c3-4468-8645-8f6a42a76bfe",
   "metadata": {},
   "outputs": [],
   "source": [
    "#| export\n",
    "from fastMONAI.vision_core import *\n",
    "from fastMONAI.vision_data import pred_to_binary_mask, batch_pred_to_multiclass_mask\n",
    "from monai.losses import DiceLoss"
   ]
  },
  {
   "cell_type": "markdown",
   "id": "5931e820-48c8-46d9-a30f-0172dc708f26",
   "metadata": {},
   "source": [
    "# Custom loss functions\n",
    ">"
   ]
  },
  {
   "cell_type": "code",
   "execution_count": null,
   "id": "b589b6c4-b620-428c-abcf-bcf4e7aa3a80",
   "metadata": {},
   "outputs": [],
   "source": [
    "#| export\n",
    "class CustomLoss:\n",
    "    '''Wrapper to get show_results to work.'''\n",
    "\n",
    "    def __init__(self, loss_func):\n",
    "        self.loss_func = loss_func\n",
    "\n",
    "    def __call__(self, pred, targ):\n",
    "        if isinstance(pred, MedBase): pred, targ = torch.Tensor(pred.cpu()), torch.Tensor(targ.cpu().float())\n",
    "        return self.loss_func(pred, targ)\n",
    "\n",
    "    def activation(self, x):\n",
    "        return x\n",
    "    \n",
    "    def decodes(self, x):\n",
    "        '''Converts model output to target format.\n",
    "\n",
    "        Args:\n",
    "            x: Activations for each class [B, C, W, H, D]\n",
    "\n",
    "        Returns:\n",
    "            torch.Tensor: Predicted mask.\n",
    "        '''\n",
    "\n",
    "        n_classes = x.shape[1]\n",
    "        if n_classes == 1: x = pred_to_binary_mask(x)\n",
    "        else: x,_ = batch_pred_to_multiclass_mask(x)\n",
    "\n",
    "        return x"
   ]
  }
 ],
 "metadata": {
  "kernelspec": {
   "display_name": "fm",
   "language": "python",
   "name": "fm"
  }
 },
 "nbformat": 4,
 "nbformat_minor": 5
}
