{
 "cells": [
  {
   "cell_type": "markdown",
   "id": "04e4d97b-d133-4c8d-8c56-8d1742cc3d5e",
   "metadata": {},
   "source": [
    "# Inference with exported learner for segmentation tasks "
   ]
  },
  {
   "cell_type": "raw",
   "id": "918ff9e4",
   "metadata": {},
   "source": [
    "---\n",
    "skip_showdoc: true\n",
    "skip_exec: true\n",
    "---"
   ]
  },
  {
   "cell_type": "code",
   "execution_count": null,
   "id": "42a486ea-99cf-4a24-b994-d857ccfe61c6",
   "metadata": {},
   "outputs": [],
   "source": [
    "#all_skip\n",
    "from fastMONAI.vision_all import *\n",
    "from IPython.display import clear_output\n",
    "\n",
    "from monai.apps import DecathlonDataset\n",
    "import torchio as tio"
   ]
  },
  {
   "cell_type": "code",
   "execution_count": null,
   "id": "bdde4111-7c31-4039-ae16-d708dd7f6cf3",
   "metadata": {},
   "outputs": [],
   "source": [
    "#task = 'Task09_Spleen'\n",
    "task = 'Task01_BrainTumour'"
   ]
  },
  {
   "cell_type": "code",
   "execution_count": null,
   "id": "9312d6e1-6b2d-4f00-b4ac-d689807822d5",
   "metadata": {},
   "outputs": [],
   "source": [
    "path = Path.cwd()/'..'/'data'"
   ]
  },
  {
   "cell_type": "code",
   "execution_count": null,
   "id": "ff1464c8-3e3f-4317-a0e3-40fc7000d3b3",
   "metadata": {},
   "outputs": [],
   "source": [
    "test_data = DecathlonDataset(root_dir=path, task=task, section=\"test\", download=True,\n",
    "                                 cache_num=0, num_workers=3) "
   ]
  },
  {
   "cell_type": "code",
   "execution_count": null,
   "id": "e5727d06-bdd5-4e7e-bcfd-02879271208a",
   "metadata": {},
   "outputs": [],
   "source": [
    "test_imgs = [data['image'] for data in test_data.data]"
   ]
  },
  {
   "cell_type": "code",
   "execution_count": null,
   "id": "273e9a8a-4d78-4291-9bfd-b83de722ba0f",
   "metadata": {},
   "outputs": [],
   "source": [
    "def inference(learn_inf, reorder, resample, fn:str, save_path:(str,Path)=None): \n",
    "    '''\n",
    "    Predict on new data using exported model\n",
    "    '''         \n",
    "    #Get original information for storing the prediction in the same size as the original volume later. \n",
    "    img, org_metadata = med_img_reader(fn,reorder=reorder, resample=resample, only_tensor=False, dtype=MedImage)\n",
    "               \n",
    "    \n",
    "    pred, *_ = learn_inf.predict(img.data);\n",
    "    \n",
    "    # crop or pad to input size\n",
    "    pred_mask = do_pad_or_crop(pred.float(), img.shape[1:], padding_mode=0, mask_name=None)\n",
    "    img.set_data(pred_mask)\n",
    "        \n",
    "        \n",
    "    # back to resampled size\n",
    "    if 'spacing' in org_metadata: \n",
    "        transform = tio.Resample(org_metadata['spacing'], image_interpolation='nearest')\n",
    "        img = transform(img)\n",
    "        \n",
    "        #if diff between orignal size and resampled size\n",
    "        diff = np.array(img.shape[1:]) - np.array(org_metadata['org_size'])\n",
    "        if np.sum(diff) != 0: \n",
    "            print('Diff between orignal shape and resampled mask:', diff)\n",
    "            # diff = np.where(diff != 0, 0.01, diff) \n",
    "            # transform.target = org_spacing + diff \n",
    "            # img = transform(img)\n",
    "        \n",
    "    if 'orientation' in org_metadata:\n",
    "        transform = tio.ToCanonical(org_metadata['orientation'])\n",
    "        img = transform(o)\n",
    "        \n",
    "    \n",
    "    if save_path is not None:\n",
    "        save_fn = 'pred_' + Path(fn).parts[-1]\n",
    "        save_fn = Path(save_path)/save_fn\n",
    "        img.save(save_fn)\n",
    "    \n",
    "    return img"
   ]
  },
  {
   "cell_type": "code",
   "execution_count": null,
   "id": "a34978a4-eeed-49a9-911c-9f267a82b517",
   "metadata": {},
   "outputs": [],
   "source": [
    "learn_inf = load_learner('braintumor_model.pkl', cpu=False);"
   ]
  },
  {
   "cell_type": "code",
   "execution_count": null,
   "id": "ed78f1b6-c94e-4071-9393-9675df09fc3f",
   "metadata": {},
   "outputs": [
    {
     "data": {
      "text/plain": [
       "(False, [1.0, 1.0, 1.0])"
      ]
     },
     "execution_count": null,
     "metadata": {},
     "output_type": "execute_result"
    }
   ],
   "source": [
    "reorder, resample = load_variables(pkl_fn='vars.pkl')\n",
    "reorder, resample"
   ]
  },
  {
   "cell_type": "code",
   "execution_count": null,
   "id": "3fc50afc-5f87-48a1-90c3-fc7efc1604cc",
   "metadata": {},
   "outputs": [],
   "source": [
    "save_path = Path('../data/results/braintumor')\n",
    "path.mkdir(parents=True, exist_ok=True)"
   ]
  },
  {
   "cell_type": "code",
   "execution_count": null,
   "id": "73fbda00-9f00-438f-8583-6ab70f6abfff",
   "metadata": {},
   "outputs": [],
   "source": [
    "idx = 3\n",
    "fn = test_imgs[idx]"
   ]
  },
  {
   "cell_type": "code",
   "execution_count": null,
   "id": "222466e3-7b36-4c31-973c-8e587db79221",
   "metadata": {},
   "outputs": [
    {
     "data": {
      "text/html": [
       "\n",
       "<style>\n",
       "    /* Turns off some styling */\n",
       "    progress {\n",
       "        /* gets rid of default border in Firefox and Opera. */\n",
       "        border: none;\n",
       "        /* Needs to be in here for Safari polyfill so background images work as expected. */\n",
       "        background-size: auto;\n",
       "    }\n",
       "    progress:not([value]), progress:not([value])::-webkit-progress-bar {\n",
       "        background: repeating-linear-gradient(45deg, #7e7e7e, #7e7e7e 10px, #5c5c5c 10px, #5c5c5c 20px);\n",
       "    }\n",
       "    .progress-bar-interrupted, .progress-bar-interrupted::-webkit-progress-bar {\n",
       "        background: #F44336;\n",
       "    }\n",
       "</style>\n"
      ],
      "text/plain": [
       "<IPython.core.display.HTML object>"
      ]
     },
     "metadata": {},
     "output_type": "display_data"
    },
    {
     "data": {
      "text/html": [],
      "text/plain": [
       "<IPython.core.display.HTML object>"
      ]
     },
     "metadata": {},
     "output_type": "display_data"
    }
   ],
   "source": [
    "mask = inference(learn_inf, reorder, resample, fn, save_path=save_path)"
   ]
  },
  {
   "cell_type": "code",
   "execution_count": null,
   "id": "4a9623d7-48e6-4c74-9684-c76eb5963aae",
   "metadata": {},
   "outputs": [
    {
     "data": {
      "image/png": "[encoded data removed]",
      "text/plain": [
       "<Figure size 720x720 with 3 Axes>"
      ]
     },
     "metadata": {
      "needs_background": "light"
     },
     "output_type": "display_data"
    }
   ],
   "source": [
    "mask.plot(figsize=(10,10),cmap='inferno')"
   ]
  },
  {
   "cell_type": "code",
   "execution_count": null,
   "id": "49308a26-9284-4fe4-b96c-a75d6d7063ad",
   "metadata": {},
   "outputs": [],
   "source": [
    "mask.to_gif(duration=10,output_path=save_path/'example.gif', axis=0)"
   ]
  }
 ],
 "metadata": {
  "kernelspec": {
   "display_name": "fm",
   "language": "python",
   "name": "fm"
  }
 },
 "nbformat": 4,
 "nbformat_minor": 5
}
