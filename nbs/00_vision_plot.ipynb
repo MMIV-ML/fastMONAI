{
 "cells": [
  {
   "cell_type": "code",
   "execution_count": null,
   "id": "29fd23f4-b5cf-4ff0-9d74-0c1c01438b46",
   "metadata": {},
   "outputs": [],
   "source": [
    "#| default_exp vision_plot"
   ]
  },
  {
   "cell_type": "code",
   "execution_count": null,
   "id": "7ea97ee7-8a55-485d-a75c-ae1a8055f489",
   "metadata": {},
   "outputs": [],
   "source": [
    "#| export \n",
    "from fastai.data.all import *\n",
    "from torchio.visualization import rotate"
   ]
  },
  {
   "cell_type": "markdown",
   "id": "30ff8f87-f5b8-4e7b-9517-8ccba051ad4c",
   "metadata": {},
   "source": [
    "# Vision plot\n",
    ">"
   ]
  },
  {
   "cell_type": "code",
   "execution_count": null,
   "id": "abee385c-8795-4c32-97d5-188adec610c7",
   "metadata": {},
   "outputs": [],
   "source": [
    "#| export\n",
    "def _get_slice(image, channel: int, indices: (int, list), anatomical_plane: int, voxel_size: (int, list)):\n",
    "    \"\"\"\n",
    "    A private method to get a 2D tensor and aspect ratio for plotting.\n",
    "    This is modified code from the torchio function `plot_volume`.\n",
    "\n",
    "    Args:\n",
    "        image: The input image.\n",
    "        channel: Channel of the image.\n",
    "        indices: Index of the 2D slice.\n",
    "        anatomical_plane: Anatomical plane of the image.\n",
    "        voxel_size: Voxel size for the image.\n",
    "\n",
    "    Returns:\n",
    "        A 2D tensor containing the sliced image and its aspect.\n",
    "    \"\"\"\n",
    "    if voxel_size is None:\n",
    "        warnings.warn('Voxel size not defined. Aspect ratio of the plot might not be correct.')\n",
    "        voxel_size = 1\n",
    "\n",
    "    if not is_listy(voxel_size):\n",
    "        voxel_size = (voxel_size, voxel_size, voxel_size)\n",
    "\n",
    "    data = image.data[channel]\n",
    "    sr, sa, ss = voxel_size[0], voxel_size[1], voxel_size[2]\n",
    "    sliced_img, aspect = None, None\n",
    "\n",
    "    if indices is None:\n",
    "        indices = np.array(data.shape) // 2\n",
    "\n",
    "    i, j, k = indices\n",
    "\n",
    "    if anatomical_plane == 1:\n",
    "        sliced_img = rotate(data[:, j, :], radiological=True, n=1)\n",
    "        aspect = ss / sr\n",
    "    elif anatomical_plane == 2:\n",
    "        sliced_img = rotate(data[:, :, k], radiological=True, n=1)\n",
    "        aspect = sa / sr\n",
    "    else:\n",
    "        sliced_img = rotate(data[i, :, :], radiological=True, n=1)\n",
    "        aspect = ss / sa\n",
    "\n",
    "    return sliced_img, aspect"
   ]
  },
  {
   "cell_type": "code",
   "execution_count": null,
   "id": "c9dc9d12-ade9-4e96-a2da-82a0d1d04fdc",
   "metadata": {},
   "outputs": [],
   "source": [
    "#| export\n",
    "@delegates(plt.Axes.imshow, keep=True, but=['shape', 'imlim'])\n",
    "def show_med_img(\n",
    "    im, ctx, channel: int, indices: (int, list), anatomical_plane: int,\n",
    "    voxel_size: (int, list), ax=None, figsize=None, title=None, **kwargs):\n",
    "    \"\"\"\n",
    "    Show an image on `ax`. This is a modified code from the fastai function `show_image`.\n",
    "\n",
    "    Args:\n",
    "        im: The input image.\n",
    "        ctx: The context.\n",
    "        channel: Channel of the image.\n",
    "        indices: Index of the 2D slice.\n",
    "        anatomical_plane: Anatomical plane of the image.\n",
    "        voxel_size: Voxel size for the image.\n",
    "        ax: Axis for the plot.\n",
    "        figsize: Figure size for the plot.\n",
    "        title: Title for the plot.\n",
    "        kwargs: Additional parameters for plt.Axes.imshow method.\n",
    "\n",
    "    Returns:\n",
    "        Axis with the plot.\n",
    "    \"\"\"\n",
    "    if hasattrs(im, ('data', 'cpu', 'permute')):\n",
    "        im = im.data.cpu()\n",
    "        im, aspect = _get_slice(\n",
    "            im, channel=channel, anatomical_plane=anatomical_plane,\n",
    "            voxel_size=voxel_size, indices=indices\n",
    "        )\n",
    "\n",
    "    ax = ifnone(ax, ctx)\n",
    "    if ax is None:\n",
    "        _, ax = plt.subplots(figsize=figsize)  # ax is only None when .show() is used.\n",
    "\n",
    "    ax.imshow(im, aspect=aspect, **kwargs)\n",
    "    if title is not None:\n",
    "        ax.set_title(title)\n",
    "\n",
    "    ax.axis('off')\n",
    "\n",
    "    return ax"
   ]
  }
 ],
 "metadata": {
  "kernelspec": {
   "display_name": "python3",
   "language": "python",
   "name": "python3"
  }
 },
 "nbformat": 4,
 "nbformat_minor": 5
}
