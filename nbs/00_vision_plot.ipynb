{
 "cells": [
  {
   "cell_type": "code",
   "execution_count": null,
   "id": "29fd23f4-b5cf-4ff0-9d74-0c1c01438b46",
   "metadata": {},
   "outputs": [],
   "source": [
    "#| default_exp vision_plot"
   ]
  },
  {
   "cell_type": "code",
   "execution_count": null,
   "id": "7ea97ee7-8a55-485d-a75c-ae1a8055f489",
   "metadata": {},
   "outputs": [],
   "source": [
    "#| export \n",
    "from fastai.data.all import *\n",
    "from torchio.visualization import rotate"
   ]
  },
  {
   "cell_type": "markdown",
   "id": "30ff8f87-f5b8-4e7b-9517-8ccba051ad4c",
   "metadata": {},
   "source": [
    "# Vision plot\n",
    ">"
   ]
  },
  {
   "cell_type": "code",
   "execution_count": null,
   "id": "55a13906-aef5-445a-8919-eb7daa3816ea",
   "metadata": {},
   "outputs": [],
   "source": [
    "#| export\n",
    "def _get_slice(image, channel: int, slice_index: int, anatomical_plane: int, voxel_size: (int, list)):\n",
    "    \"\"\"\n",
    "    A private method to get a 2D tensor and aspect ratio for plotting.\n",
    "    This is modified code from the torchio function `plot_volume`.\n",
    "\n",
    "    Args:\n",
    "        image: The input image.\n",
    "        channel: Channel of the image.\n",
    "        slice_index: Index of the 2D slice.\n",
    "        anatomical_plane: Anatomical plane of the image.\n",
    "        voxel_size: Voxel size for the image.\n",
    "\n",
    "    Returns:\n",
    "        A 2D tensor containing the sliced image and its aspect.\n",
    "    \"\"\"\n",
    "    if voxel_size is None:\n",
    "        warnings.warn('Voxel size not defined. Aspect ratio of the plot might not be correct.')\n",
    "        voxel_size = 1\n",
    "\n",
    "    if not is_listy(voxel_size):\n",
    "        voxel_size = (voxel_size, voxel_size, voxel_size)\n",
    "\n",
    "    sr, sa, ss = voxel_size\n",
    "    data = image.data[channel]\n",
    "\n",
    "    if slice_index is None:\n",
    "        slice_center = np.array(data.shape) // 2\n",
    "        slice_index = slice_center[anatomical_plane]\n",
    "\n",
    "    operations = {\n",
    "        0: (lambda d, i: d[i, :, :], ss / sa),\n",
    "        1: (lambda d, i: d[:, i, :], ss / sr),\n",
    "        2: (lambda d, i: d[:, :, i], sa / sr)\n",
    "    }\n",
    "\n",
    "    sliced_function, aspect_ratio = operations.get(anatomical_plane)\n",
    "    sliced_img = rotate(sliced_function(data, slice_index), radiological=True, n=1)\n",
    "\n",
    "    return sliced_img, aspect_ratio"
   ]
  },
  {
   "cell_type": "code",
   "execution_count": null,
   "id": "4a0a8991-fbb8-4d07-80b6-804852139253",
   "metadata": {},
   "outputs": [],
   "source": [
    "#| export\n",
    "def validate_anatomical_plane(anatomical_plane):\n",
    "    \"\"\"Ensure anatomical_plane is either 0, 1, or 2.\"\"\"\n",
    "    if anatomical_plane not in [0, 1, 2]:\n",
    "        raise ValueError(\"anatomical_plane should be either 0, 1, or 2.\")"
   ]
  },
  {
   "cell_type": "code",
   "execution_count": null,
   "id": "7955e15b-7580-4219-838e-93ff094e146a",
   "metadata": {},
   "outputs": [],
   "source": [
    "#| export\n",
    "@delegates(plt.Axes.imshow, keep=True, but=['shape', 'imlim'])\n",
    "def show_med_img(im, ctx, channel: int, slice_index: int, anatomical_plane: int,\n",
    "                 voxel_size: (int, list), ax=None, figsize=None, title=None, **kwargs):\n",
    "    \"\"\"Show an image on `ax`. This is a modified code from the fastai function `show_image`.\n",
    "\n",
    "    Args:\n",
    "        im: The input image.\n",
    "        ctx: The context.\n",
    "        channel: Channel of the image.\n",
    "        slice_index: Index of the 2D slice.\n",
    "        anatomical_plane: Anatomical plane of the image.\n",
    "        voxel_size: Voxel size for the image.\n",
    "        ax: Axis for the plot.\n",
    "        figsize: Figure size for the plot.\n",
    "        title: Title for the plot.\n",
    "        kwargs: Additional parameters for plt.Axes.imshow method.\n",
    "\n",
    "    Returns:\n",
    "        Axis with the plot.\n",
    "    \"\"\"\n",
    "                     \n",
    "    validate_anatomical_plane(anatomical_plane)\n",
    "                     \n",
    "    if hasattrs(im, ('data', 'cpu', 'permute')): # Check if `im` has the necessary attributes\n",
    "        im = im.data.cpu()\n",
    "        im, aspect = _get_slice(\n",
    "            im, \n",
    "            channel=channel, \n",
    "            anatomical_plane=anatomical_plane,\n",
    "            voxel_size=voxel_size, \n",
    "            slice_index=slice_index\n",
    "        )\n",
    "\n",
    "    ax = ax if ax is not None else ctx \n",
    "\n",
    "    if ax is None: # ax is only None when .show() is used.\n",
    "        _, ax = plt.subplots(figsize=figsize)\n",
    "\n",
    "    ax.imshow(im, aspect=aspect, **kwargs)\n",
    "\n",
    "    if title is not None:\n",
    "        ax.set_title(title)\n",
    "\n",
    "    ax.axis('off')\n",
    "\n",
    "    return ax"
   ]
  },
  {
   "cell_type": "code",
   "execution_count": null,
   "id": "c31d23c6-d819-4039-8d53-ea36ef20f049",
   "metadata": {},
   "outputs": [],
   "source": [
    "#| export\n",
    "def find_max_slice(mask_data, anatomical_plane):\n",
    "    \"\"\"Find slice index based on mask\"\"\"\n",
    "    \n",
    "    axis_mapping = {0: (1, 2),\n",
    "                    1: (0, 2),\n",
    "                    2: (0, 1)}\n",
    "\n",
    "    sums = mask_data.sum(axis=axis_mapping.get(anatomical_plane, (1, 2)))\n",
    "    idx = np.argmax(sums)\n",
    "\n",
    "    return idx"
   ]
  }
 ],
 "metadata": {
  "kernelspec": {
   "display_name": "python3",
   "language": "python",
   "name": "python3"
  }
 },
 "nbformat": 4,
 "nbformat_minor": 5
}
