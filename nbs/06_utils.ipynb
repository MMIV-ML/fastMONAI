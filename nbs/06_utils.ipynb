{
 "cells": [
  {
   "cell_type": "code",
   "execution_count": null,
   "id": "e339eff2-b4a5-46c8-9622-f5d123f5338d",
   "metadata": {},
   "outputs": [],
   "source": [
    "#| default_exp utils"
   ]
  },
  {
   "cell_type": "code",
   "execution_count": null,
   "id": "ac941446-cf7e-4f5c-ace0-a36fb078022f",
   "metadata": {},
   "outputs": [],
   "source": [
    "#| export \n",
    "import pickle\n",
    "import torch"
   ]
  },
  {
   "cell_type": "markdown",
   "id": "60ea67a2-281a-4c96-9869-6e1a1050f44b",
   "metadata": {},
   "source": [
    "# Utils\n",
    ">"
   ]
  },
  {
   "cell_type": "code",
   "execution_count": null,
   "id": "5f954a64-c9df-4ee8-b70a-fce7f857eaf2",
   "metadata": {},
   "outputs": [],
   "source": [
    "#| export\n",
    "def store_variables(pkl_fn:str, # Filename of the pickle file\n",
    "                    var_vals:list # A list of variable values\n",
    "                   ) -> None:\n",
    "    '''Save variable values in a pickle file.'''\n",
    "\n",
    "    with open(pkl_fn, 'wb') as f:\n",
    "        pickle.dump(var_vals, f)"
   ]
  },
  {
   "cell_type": "code",
   "execution_count": null,
   "id": "0e64d6c3-601e-4646-883f-80e72aebd74e",
   "metadata": {},
   "outputs": [],
   "source": [
    "#| export\n",
    "def load_variables(pkl_fn # Filename of the pickle file\n",
    "                  ):\n",
    "    '''Load stored variable values from a pickle file.\n",
    "\n",
    "    Returns: A list of variable values.\n",
    "    '''\n",
    "\n",
    "    with open(pkl_fn, 'rb') as f:\n",
    "        return pickle.load(f)"
   ]
  },
  {
   "cell_type": "code",
   "execution_count": null,
   "id": "14e1513a-25d6-497a-bec3-6adc008452d9",
   "metadata": {},
   "outputs": [],
   "source": [
    "#| export\n",
    "def print_colab_gpu_info(): \n",
    "    '''Check if we have a GPU attached to the runtime.'''\n",
    "    \n",
    "    colab_gpu_msg =(f\"{'#'*80}\\n\"\n",
    "                    \"Remember to attach a GPU to your Colab Runtime:\"\n",
    "                    \"\\n1. From the **Runtime** menu select **Change Runtime Type**\"\n",
    "                    \"\\n2. Choose **GPU** from the drop-down menu\"\n",
    "                    \"\\n3. Click **'SAVE'**\\n\"\n",
    "                    f\"{'#'*80}\")\n",
    "    \n",
    "    if torch.cuda.is_available(): print('GPU attached.')\n",
    "    else: print(colab_gpu_msg)"
   ]
  }
 ],
 "metadata": {
  "kernelspec": {
   "display_name": "fm",
   "language": "python",
   "name": "fm"
  }
 },
 "nbformat": 4,
 "nbformat_minor": 5
}
