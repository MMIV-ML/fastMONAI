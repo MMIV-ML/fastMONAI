{
 "cells": [
  {
   "cell_type": "code",
   "execution_count": null,
   "id": "6daf47f4-572e-4473-91e6-51d141d928ee",
   "metadata": {},
   "outputs": [],
   "source": [
    "#| default_exp vision_inference"
   ]
  },
  {
   "cell_type": "code",
   "execution_count": null,
   "id": "f28504fd-0e10-4a0e-8ac5-3be955aa3622",
   "metadata": {},
   "outputs": [],
   "source": [
    "#| export\n",
    "import numpy as np\n",
    "from pathlib import Path\n",
    "from torchio import Resize\n",
    "from scipy.ndimage import label\n",
    "from fastMONAI.vision_core import *\n",
    "from fastMONAI.vision_augmentation import do_pad_or_crop\n",
    "from skimage.morphology import remove_small_objects\n",
    "from SimpleITK import DICOMOrient, GetArrayFromImage\n",
    "from copy import copy"
   ]
  },
  {
   "cell_type": "markdown",
   "id": "984e4b90-979b-4d04-bc42-b667400163ea",
   "metadata": {},
   "source": [
    "# Vision inference\n",
    ">"
   ]
  },
  {
   "cell_type": "code",
   "execution_count": null,
   "id": "e4a2771e-25aa-4669-bda2-abcbe29d0504",
   "metadata": {},
   "outputs": [],
   "source": [
    "#| export\n",
    "def _to_original_orientation(input_img, org_orientation):\n",
    "    \"\"\"Reorients the image to its original orientation.\"\"\"\n",
    "    \n",
    "    orientation_itk = DICOMOrient(input_img, org_orientation)\n",
    "    reoriented_array =  GetArrayFromImage(orientation_itk).transpose()\n",
    "    \n",
    "    return reoriented_array[None]"
   ]
  },
  {
   "cell_type": "code",
   "execution_count": null,
   "id": "75a1169f-7385-4c48-9a24-51994c80732c",
   "metadata": {},
   "outputs": [],
   "source": [
    "#| export\n",
    "def _do_resize(o, target_shape, image_interpolation='linear', \n",
    "               label_interpolation='nearest'):\n",
    "    \"\"\"\n",
    "    Resample images so the output shape matches the given target shape.\n",
    "    \"\"\"\n",
    "\n",
    "    resize = Resize(\n",
    "        target_shape, \n",
    "        image_interpolation=image_interpolation, \n",
    "        label_interpolation=label_interpolation\n",
    "    )\n",
    "    \n",
    "    return resize(o)"
   ]
  },
  {
   "cell_type": "code",
   "execution_count": null,
   "id": "2ba94a55-2cd1-4fae-b8b4-e82051be0cdc",
   "metadata": {},
   "outputs": [],
   "source": [
    "#| export\n",
    "def inference(learn_inf, reorder, resample, fn: (str, Path) = '',\n",
    "              save_path: (str, Path) = None, org_img=None, input_img=None,\n",
    "              org_size=None): \n",
    "    \"\"\"Predict on new data using exported model.\"\"\"         \n",
    "    \n",
    "    if None in [org_img, input_img, org_size]: \n",
    "        org_img, input_img, org_size = med_img_reader(fn, reorder, resample, \n",
    "                                                      only_tensor=False)\n",
    "    else: \n",
    "        org_img, input_img = copy(org_img), copy(input_img)\n",
    "    \n",
    "    pred, *_ = learn_inf.predict(input_img.data)\n",
    "    \n",
    "    pred_mask = do_pad_or_crop(pred.float(), input_img.shape[1:], padding_mode=0, \n",
    "                               mask_name=None)\n",
    "    input_img.set_data(pred_mask)\n",
    "    \n",
    "    input_img = _do_resize(input_img, org_size, image_interpolation='nearest')\n",
    "    \n",
    "    reoriented_array = _to_original_orientation(input_img.as_sitk(), \n",
    "                                                ('').join(org_img.orientation))\n",
    "    \n",
    "    org_img.set_data(reoriented_array)\n",
    "\n",
    "    if save_path:\n",
    "        save_fn = Path(save_path)/('pred_' + Path(fn).parts[-1])\n",
    "        org_img.save(save_fn)\n",
    "        return save_fn\n",
    "    \n",
    "    return org_img"
   ]
  },
  {
   "cell_type": "markdown",
   "id": "ae73163b-42e5-4363-b067-d52fb4c011c2",
   "metadata": {},
   "source": [
    "## Post-processing"
   ]
  },
  {
   "cell_type": "code",
   "execution_count": null,
   "id": "a64a3407-4b97-4b1c-933c-d4a316dbff94",
   "metadata": {},
   "outputs": [],
   "source": [
    "#| export\n",
    "def refine_binary_pred_mask(pred_mask, \n",
    "                            remove_size: (int, float) = None,\n",
    "                            percentage: float = 0.2,\n",
    "                            verbose: bool = False) -> np.ndarray:\n",
    "    \"\"\"Removes small objects from the predicted binary mask.\n",
    "\n",
    "    Args:\n",
    "        pred_mask: The predicted mask from which small objects are to be removed.\n",
    "        remove_size: The size under which objects are considered 'small'.\n",
    "        percentage: The percentage of the remove_size to be used as threshold. \n",
    "            Defaults to 0.2.\n",
    "        verbose: If True, print the number of components. Defaults to False.\n",
    "\n",
    "    Returns:\n",
    "        The processed mask with small objects removed.\n",
    "    \"\"\"\n",
    "                                \n",
    "    labeled_mask, n_components = label(pred_mask)\n",
    "\n",
    "    if verbose:\n",
    "        print(n_components)\n",
    "\n",
    "    if remove_size is None:\n",
    "        sizes = np.bincount(labeled_mask.ravel())\n",
    "        max_label = sizes[1:].argmax() + 1\n",
    "        remove_size = sizes[max_label]\n",
    "\n",
    "    small_objects_threshold = remove_size * percentage\n",
    "    processed_mask = remove_small_objects(\n",
    "        labeled_mask, min_size=small_objects_threshold)\n",
    "\n",
    "    return np.where(processed_mask > 0, 1., 0.)"
   ]
  }
 ],
 "metadata": {
  "kernelspec": {
   "display_name": "python3",
   "language": "python",
   "name": "python3"
  }
 },
 "nbformat": 4,
 "nbformat_minor": 5
}
