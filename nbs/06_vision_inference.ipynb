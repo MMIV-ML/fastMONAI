{
 "cells": [
  {
   "cell_type": "code",
   "execution_count": null,
   "id": "6daf47f4-572e-4473-91e6-51d141d928ee",
   "metadata": {},
   "outputs": [],
   "source": [
    "#| default_exp vision_inference"
   ]
  },
  {
   "cell_type": "code",
   "execution_count": null,
   "id": "f28504fd-0e10-4a0e-8ac5-3be955aa3622",
   "metadata": {},
   "outputs": [],
   "source": [
    "#| export\n",
    "import numpy as np\n",
    "from pathlib import Path\n",
    "from torchio import Resize\n",
    "from scipy.ndimage import label\n",
    "from fastMONAI.vision_core import *\n",
    "from fastMONAI.vision_augmentation import do_pad_or_crop\n",
    "from skimage.morphology import remove_small_objects\n",
    "from SimpleITK import DICOMOrient, GetArrayFromImage\n",
    "from copy import copy"
   ]
  },
  {
   "cell_type": "markdown",
   "id": "984e4b90-979b-4d04-bc42-b667400163ea",
   "metadata": {},
   "source": [
    "# Vision inference\n",
    ">"
   ]
  },
  {
   "cell_type": "code",
   "execution_count": null,
   "id": "e4a2771e-25aa-4669-bda2-abcbe29d0504",
   "metadata": {},
   "outputs": [],
   "source": [
    "#| export\n",
    "def _to_original_orientation(input_img, org_orientation):\n",
    "    \"\"\"Reorients the image to its original orientation.\"\"\"\n",
    "    \n",
    "    orientation_itk = DICOMOrient(input_img, org_orientation)\n",
    "    reoriented_array =  GetArrayFromImage(orientation_itk).transpose()\n",
    "    \n",
    "    return reoriented_array[None]"
   ]
  },
  {
   "cell_type": "code",
   "execution_count": null,
   "id": "0ce88606-6bfc-4d97-9e1e-235df1df57cd",
   "metadata": {},
   "outputs": [],
   "source": [
    "#| export\n",
    "def _do_resize(o, target_shape, image_interpolation='linear', label_interpolation='nearest'):\n",
    "    '''Resample images so the output shape matches the given target shape.'''\n",
    "\n",
    "    resize = Resize(target_shape, image_interpolation=image_interpolation, label_interpolation=label_interpolation)\n",
    "    return resize(o)"
   ]
  },
  {
   "cell_type": "code",
   "execution_count": null,
   "id": "2ba94a55-2cd1-4fae-b8b4-e82051be0cdc",
   "metadata": {},
   "outputs": [],
   "source": [
    "#| export\n",
    "def inference(learn_inf, reorder, resample, fn:(Path,str)='', save_path:(str,Path)=None, org_img=None, input_img=None, org_size=None): \n",
    "    '''Predict on new data using exported model'''         \n",
    "    if None in [org_img, input_img, org_size]: \n",
    "        org_img, input_img, org_size = med_img_reader(fn, reorder, resample, only_tensor=False)\n",
    "    else: org_img, input_img = copy(org_img), copy(input_img)\n",
    "    \n",
    "    pred, *_ = learn_inf.predict(input_img.data);\n",
    "    \n",
    "    pred_mask = do_pad_or_crop(pred.float(), input_img.shape[1:], padding_mode=0, mask_name=None)\n",
    "    input_img.set_data(pred_mask)\n",
    "    \n",
    "    input_img = _do_resize(input_img, org_size, image_interpolation='nearest')\n",
    "    \n",
    "    reoriented_array = _to_original_orientation(input_img.as_sitk(), ('').join(org_img.orientation))\n",
    "    \n",
    "    org_img.set_data(reoriented_array)\n",
    "\n",
    "    if save_path:\n",
    "        save_fn = Path(save_path)/('pred_' + Path(fn).parts[-1])\n",
    "        org_img.save(save_fn)\n",
    "        return save_fn\n",
    "    \n",
    "    return org_img"
   ]
  },
  {
   "cell_type": "markdown",
   "id": "ae73163b-42e5-4363-b067-d52fb4c011c2",
   "metadata": {},
   "source": [
    "## Post-processing"
   ]
  },
  {
   "cell_type": "code",
   "execution_count": null,
   "id": "d6000a96-56fb-4966-b4f4-83dcb51684e9",
   "metadata": {},
   "outputs": [],
   "source": [
    "#| export\n",
    "def pred_postprocess(pred_mask, remove_size=10437, percentage=0.2): \n",
    "    '''Remove small objects from predicted mask.'''\n",
    "    small_objects = remove_size*percentage    \n",
    "    labeled_mask, ncomponents = label(pred_mask)\n",
    "    labeled_mask = remove_small_objects(labeled_mask, min_size=small_objects)\n",
    "    \n",
    "    return np.where(labeled_mask>0, 1., 0.)"
   ]
  }
 ],
 "metadata": {
  "kernelspec": {
   "display_name": "python3",
   "language": "python",
   "name": "python3"
  }
 },
 "nbformat": 4,
 "nbformat_minor": 5
}
