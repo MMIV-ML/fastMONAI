{
 "cells": [
  {
   "cell_type": "code",
   "execution_count": null,
   "metadata": {},
   "outputs": [],
   "source": [
    "#| default_exp vision_core"
   ]
  },
  {
   "cell_type": "code",
   "execution_count": null,
   "metadata": {},
   "outputs": [],
   "source": [
    "#| hide\n",
    "from nbdev.showdoc import *"
   ]
  },
  {
   "cell_type": "code",
   "execution_count": null,
   "metadata": {},
   "outputs": [],
   "source": [
    "#| export\n",
    "from fastMONAI.vision_plot import *\n",
    "from fastai.data.all import *\n",
    "from torchio import ScalarImage, LabelMap, ToCanonical, Resample"
   ]
  },
  {
   "cell_type": "markdown",
   "metadata": {},
   "source": [
    "# Vision core\n",
    ">"
   ]
  },
  {
   "cell_type": "markdown",
   "metadata": {},
   "source": [
    "## Load images"
   ]
  },
  {
   "cell_type": "code",
   "execution_count": null,
   "metadata": {},
   "outputs": [],
   "source": [
    "#| export\n",
    "def _preprocess(obj, reorder, resample):\n",
    "    \"\"\"Preprocesses the given object.\n",
    "\n",
    "    Args:\n",
    "        obj: The object to preprocess.\n",
    "        reorder: Whether to reorder the object.\n",
    "        resample: Whether to resample the object.\n",
    "\n",
    "    Returns:\n",
    "        The preprocessed object and its original size.\n",
    "    \"\"\"\n",
    "    if reorder:\n",
    "        transform = ToCanonical()\n",
    "        obj = transform(obj)\n",
    "\n",
    "    original_size = obj.shape[1:]\n",
    "\n",
    "    if resample and not all(np.isclose(obj.spacing, resample)):\n",
    "        transform = Resample(resample)\n",
    "        obj = transform(obj)\n",
    "\n",
    "    if MedBase.affine_matrix is None:\n",
    "        MedBase.affine_matrix = obj.affine\n",
    "\n",
    "    return obj, original_size"
   ]
  },
  {
   "cell_type": "code",
   "execution_count": null,
   "metadata": {},
   "outputs": [],
   "source": [
    "#| export\n",
    "def _load_and_preprocess(file_path, reorder, resample, dtype):\n",
    "    \"\"\"\n",
    "    Helper function to load and preprocess an image.\n",
    "\n",
    "    Args:\n",
    "        file_path: Image file path.\n",
    "        reorder: Whether to reorder data for canonical (RAS+) orientation.\n",
    "        resample: Whether to resample image to different voxel sizes and dimensions.\n",
    "        dtype: Desired datatype for output.\n",
    "\n",
    "    Returns:\n",
    "        tuple: Original image, preprocessed image, and its original size.\n",
    "    \"\"\"\n",
    "    org_img = LabelMap(file_path) if dtype is MedMask else ScalarImage(file_path) #_load(file_path, dtype=dtype) \n",
    "    input_img, org_size = _preprocess(org_img, reorder, resample)\n",
    "    \n",
    "    return org_img, input_img, org_size"
   ]
  },
  {
   "cell_type": "code",
   "execution_count": null,
   "metadata": {},
   "outputs": [],
   "source": [
    "#| export\n",
    "def _multi_channel(image_paths: list, reorder: bool, resample: list, dtype, only_tensor: bool):\n",
    "    \"\"\"\n",
    "    Load and preprocess multisequence data.\n",
    "\n",
    "    Args:\n",
    "        image_paths: List of image paths (e.g., T1, T2, T1CE, DWI).\n",
    "        reorder: Whether to reorder data for canonical (RAS+) orientation.\n",
    "        resample: Whether to resample image to different voxel sizes and dimensions.\n",
    "        dtype: Desired datatype for output.\n",
    "        only_tensor: Whether to return only image tensor.\n",
    "\n",
    "    Returns:\n",
    "        torch.Tensor: A stacked 4D tensor, if `only_tensor` is True.\n",
    "        tuple: Original image, preprocessed image, original size, if `only_tensor` is False.\n",
    "    \"\"\"\n",
    "    image_data = [_load_and_preprocess(image, reorder, resample, dtype) for image in image_paths]\n",
    "    org_img, input_img, org_size = image_data[-1]\n",
    "\n",
    "    tensor = torch.stack([img.data[0] for _, img, _ in image_data], dim=0)\n",
    "    \n",
    "    if only_tensor: \n",
    "        dtype(tensor) \n",
    "\n",
    "    input_img.set_data(tensor)\n",
    "    return org_img, input_img, org_size\n"
   ]
  },
  {
   "cell_type": "code",
   "execution_count": null,
   "metadata": {},
   "outputs": [],
   "source": [
    "# def med_img_reader(file_path:(str, Path), # Image path\n",
    "#                    dtype=torch.Tensor, # Datatype (MedImage, MedMask, torch.Tensor)\n",
    "#                    reorder:bool=False, # Whether to reorder the data to be closest to canonical (RAS+) orientation.\n",
    "#                    resample:list=None, # Whether to resample image to different voxel sizes and image dimensions.\n",
    "#                    only_tensor:bool=True # Whether to return only image tensor\n",
    "#                   ):\n",
    "#     '''Load and preprocess medical image'''\n",
    "        \n",
    "#     if isinstance(file_path, str) and ';' in file_path:\n",
    "#         return _multi_channel(file_path.split(';'), reorder, resample, dtype, only_tensor)\n",
    "\n",
    "#     org_img, input_img, org_size = _load_and_preprocess(file_path, reorder, resample, dtype)\n",
    "\n",
    "#     if only_tensor: return dtype(input_img.data.type(torch.float)) \n",
    "        \n",
    "#     return org_img, input_img, org_size"
   ]
  },
  {
   "cell_type": "code",
   "execution_count": null,
   "metadata": {},
   "outputs": [],
   "source": [
    "#| export\n",
    "def med_img_reader(\n",
    "        file_path: (str, Path),\n",
    "        dtype=torch.Tensor,\n",
    "        reorder: bool = False,\n",
    "        resample: list = None,\n",
    "        only_tensor: bool = True\n",
    "):\n",
    "    \"\"\"Loads and preprocesses a medical image.\n",
    "\n",
    "    Args:\n",
    "        file_path: Path to the image. Can be a string or a Path object.\n",
    "        dtype: Datatype for the return value. Defaults to torch.Tensor.\n",
    "        reorder: Whether to reorder the data to be closest to canonical \n",
    "            (RAS+) orientation. Defaults to False.\n",
    "        resample: Whether to resample image to different voxel sizes and \n",
    "            image dimensions. Defaults to None.\n",
    "        only_tensor: Whether to return only image tensor. Defaults to True.\n",
    "\n",
    "    Returns:\n",
    "        The preprocessed image. Returns only the image tensor if \n",
    "        only_tensor is True, otherwise returns original image, \n",
    "        preprocessed image, and original size.\n",
    "    \"\"\"\n",
    "    if isinstance(file_path, str) and ';' in file_path:\n",
    "        return _multi_channel(\n",
    "            file_path.split(';'), reorder, resample, dtype, only_tensor)\n",
    "\n",
    "    org_img, input_img, org_size = _load_and_preprocess(\n",
    "        file_path, reorder, resample, dtype)\n",
    "\n",
    "    if only_tensor:\n",
    "        return dtype(input_img.data.type(torch.float))\n",
    "\n",
    "    return org_img, input_img, org_size"
   ]
  },
  {
   "cell_type": "code",
   "execution_count": null,
   "metadata": {},
   "outputs": [],
   "source": [
    "def read_medical_image(\n",
    "        file_path: (str, Path),\n",
    "        dtype=torch.Tensor,\n",
    "        reorder: bool = False,\n",
    "        resample: list = None,\n",
    "        only_tensor: bool = True\n",
    "):\n",
    "    \"\"\"Loads and preprocesses a medical image.\n",
    "\n",
    "    Args:\n",
    "        file_path: Path to the image. Can be a string or a Path object.\n",
    "        dtype: Datatype for the return value. Defaults to torch.Tensor.\n",
    "        reorder: Whether to reorder the data to be closest to canonical \n",
    "            (RAS+) orientation. Defaults to False.\n",
    "        resample: Whether to resample image to different voxel sizes and \n",
    "            image dimensions. Defaults to None.\n",
    "        only_tensor: Whether to return only image tensor. Defaults to True.\n",
    "\n",
    "    Returns:\n",
    "        The preprocessed image. Returns only the image tensor if \n",
    "        only_tensor is True, otherwise returns original image, \n",
    "        preprocessed image, and original size.\n",
    "    \"\"\"\n",
    "    if isinstance(file_path, str) and ';' in file_path:\n",
    "        return _multi_channel(\n",
    "            file_path.split(';'), reorder, resample, dtype, only_tensor)\n",
    "\n",
    "    org_img, input_img, org_size = _load_and_preprocess(\n",
    "        file_path, reorder, resample, dtype)\n",
    "\n",
    "    if only_tensor:\n",
    "        return dtype(input_img.data.type(torch.float))\n",
    "\n",
    "    return org_img, input_img, org_size"
   ]
  },
  {
   "cell_type": "markdown",
   "metadata": {},
   "source": [
    "## Basic types -"
   ]
  },
  {
   "cell_type": "code",
   "execution_count": null,
   "metadata": {},
   "outputs": [],
   "source": [
    "#| export\n",
    "class MetaResolver(type(torch.Tensor), metaclass=BypassNewMeta):\n",
    "    '''A class to bypass metaclass conflict:\n",
    "    https://pytorch-geometric.readthedocs.io/en/latest/_modules/torch_geometric/data/batch.html\n",
    "    '''\n",
    "    pass"
   ]
  },
  {
   "cell_type": "code",
   "execution_count": null,
   "metadata": {},
   "outputs": [],
   "source": [
    "#| export\n",
    "class MedBase(torch.Tensor, metaclass=MetaResolver):\n",
    "    '''A class that represents an image object. Metaclass casts x to this class if it is of type cls._bypass_type.'''\n",
    "\n",
    "    _bypass_type=torch.Tensor\n",
    "    _show_args = {'cmap':'gray'}\n",
    "    resample, reorder = None, False\n",
    "    affine_matrix = None\n",
    "\n",
    "\n",
    "    @classmethod\n",
    "    def create(cls, fn: (Path, str, torch.Tensor), **kwargs):\n",
    "        \"\"\"\n",
    "        Open a medical image and cast to MedBase object. If it is a torch.Tensor, cast to MedBase object.\n",
    "\n",
    "        Args:\n",
    "            fn: Image path or a 4D torch.Tensor.\n",
    "            kwargs: Additional parameters.\n",
    "\n",
    "        Returns:\n",
    "            A 4D tensor as MedBase object.\n",
    "        \"\"\"\n",
    "        if isinstance(fn, torch.Tensor):\n",
    "            return cls(fn)\n",
    "\n",
    "        return med_img_reader(fn, dtype=cls, resample=cls.resample, reorder=cls.reorder)\n",
    "\n",
    "    @classmethod\n",
    "    def item_preprocessing(cls, resample: (list, int, tuple), reorder: bool):\n",
    "        \"\"\"\n",
    "        Change the values for the class variables `resample` and `reorder`.\n",
    "\n",
    "        Args:\n",
    "            resample: A list with voxel spacing.\n",
    "            reorder: Whether to reorder the data to be closest to canonical (RAS+) orientation.\n",
    "        \"\"\"\n",
    "        cls.resample = resample\n",
    "        cls.reorder = reorder\n",
    "\n",
    "    def show(self, ctx=None, channel=0, indices=None, anatomical_plane=0, **kwargs):\n",
    "        \"\"\"\n",
    "        Show Medimage using `merge(self._show_args, kwargs)`.\n",
    "\n",
    "        Returns:\n",
    "            Shown image.\n",
    "        \"\"\"\n",
    "        return show_med_img(\n",
    "            self, ctx=ctx, channel=channel, indices=indices, \n",
    "            anatomical_plane=anatomical_plane, voxel_size=self.resample,  \n",
    "            **merge(self._show_args, kwargs)\n",
    "        )\n",
    "\n",
    "    def __repr__(self):\n",
    "        return f'{self.__class__.__name__} mode={self.mode} size={\"x\".join([str(d) for d in self.size])}'"
   ]
  },
  {
   "cell_type": "code",
   "execution_count": null,
   "metadata": {},
   "outputs": [],
   "source": [
    "#| export\n",
    "class MedImage(MedBase):\n",
    "    '''Subclass of MedBase that represents an image object.'''\n",
    "    pass"
   ]
  },
  {
   "cell_type": "code",
   "execution_count": null,
   "metadata": {},
   "outputs": [],
   "source": [
    "#| export\n",
    "class MedMask(MedBase):\n",
    "    '''Subclass of MedBase that represents an mask object.'''\n",
    "    _show_args = {'alpha':0.5, 'cmap':'tab20'}"
   ]
  },
  {
   "cell_type": "code",
   "execution_count": null,
   "metadata": {},
   "outputs": [],
   "source": [
    "MedBase.item_preprocessing(resample=[1,1,1], reorder=True)\n",
    "im = MedImage.create('images/IXI002-Guys-0828-T1.nii.gz')\n",
    "test_eq(type(im), MedImage)"
   ]
  },
  {
   "cell_type": "code",
   "execution_count": null,
   "metadata": {},
   "outputs": [],
   "source": [
    "ax = im.show(anatomical_plane=0)"
   ]
  },
  {
   "cell_type": "code",
   "execution_count": null,
   "metadata": {},
   "outputs": [],
   "source": []
  }
 ],
 "metadata": {
  "kernelspec": {
   "display_name": "python3",
   "language": "python",
   "name": "python3"
  }
 },
 "nbformat": 4,
 "nbformat_minor": 4
}
