{
 "cells": [
  {
   "cell_type": "code",
   "execution_count": null,
   "id": "29fd23f4-b5cf-4ff0-9d74-0c1c01438b46",
   "metadata": {},
   "outputs": [],
   "source": [
    "#| default_exp vision_plot"
   ]
  },
  {
   "cell_type": "code",
   "execution_count": null,
   "id": "7ea97ee7-8a55-485d-a75c-ae1a8055f489",
   "metadata": {},
   "outputs": [],
   "source": [
    "#| export \n",
    "from fastai.data.all import *\n",
    "from torchio.visualization import rotate"
   ]
  },
  {
   "cell_type": "markdown",
   "id": "30ff8f87-f5b8-4e7b-9517-8ccba051ad4c",
   "metadata": {},
   "source": [
    "# Vision core plot\n",
    ">"
   ]
  },
  {
   "cell_type": "markdown",
   "id": "829f363a-d53d-4a85-a449-97932c9aa0ab",
   "metadata": {},
   "source": [
    "### Show single image"
   ]
  },
  {
   "cell_type": "code",
   "execution_count": null,
   "id": "269b82b6-2890-4ae8-a14a-5bd4b096802b",
   "metadata": {},
   "outputs": [],
   "source": [
    "#| export\n",
    "def _get_slice(image, channel:int, indices:(int, list), anatomical_plane:int, voxel_size:(int, list)):\n",
    "    '''A private method to get a 2D tensor and aspect ratio for plotting. Modified code from torchio function `plot_volume`.'''\n",
    "\n",
    "    if voxel_size is None:\n",
    "        warnings.warn('Voxel size not defined. Aspect ratio of the plot might not be correct.')\n",
    "        voxel_size = 1\n",
    "\n",
    "    if not is_listy(voxel_size):\n",
    "        voxel_size = (voxel_size, voxel_size, voxel_size)\n",
    "\n",
    "    data = image.data[channel]\n",
    "\n",
    "    sr, sa, ss = voxel_size[0], voxel_size[1], voxel_size[2]\n",
    "    sliced_img, aspect = None, None\n",
    "\n",
    "    if indices is None: indices = np.array(data.shape) // 2\n",
    "\n",
    "    i, j, k = indices\n",
    "\n",
    "    if anatomical_plane == 1:\n",
    "        sliced_img = rotate(data[:, j, :], radiological=True, n=1)\n",
    "        aspect = ss / sr\n",
    "    elif anatomical_plane == 2:\n",
    "        sliced_img = rotate(data[:, :, k], radiological=True, n=1)\n",
    "        aspect = sa / sr\n",
    "    else:\n",
    "        sliced_img = rotate(data[i, :, :], radiological=True, n=1)\n",
    "        aspect = ss / sa\n",
    "\n",
    "    return sliced_img, aspect"
   ]
  },
  {
   "cell_type": "code",
   "execution_count": null,
   "id": "01f86412-cd2e-4249-902a-3da57a611a00",
   "metadata": {},
   "outputs": [],
   "source": [
    "#| export\n",
    "@delegates(plt.Axes.imshow, keep=True, but=['shape', 'imlim'])\n",
    "def show_med_img(im, ctx, channel:int, indices:(int, list), anatomical_plane:int, voxel_size:(int, list), ax=None, figsize=None, title=None, **kwargs):\n",
    "    '''Show a PyTorch image on `ax`. Modified code from fastai function `show_image`.'''\n",
    "\n",
    "    if hasattrs(im, ('data','cpu','permute')):\n",
    "        im = im.data.cpu()\n",
    "        im, aspect = _get_slice(im, channel=channel, anatomical_plane=anatomical_plane, voxel_size=voxel_size, indices=indices)\n",
    "\n",
    "    ax = ifnone(ax,ctx)\n",
    "    if ax is None: _,ax = plt.subplots(figsize=figsize) #ax er kun none naar en bruker .show().\n",
    "\n",
    "    ax.imshow(im, aspect=aspect, **kwargs)\n",
    "    if title is not None: ax.set_title(title)\n",
    "    ax.axis('off')\n",
    "    return ax"
   ]
  }
 ],
 "metadata": {
  "kernelspec": {
   "display_name": "Python 3",
   "language": "python",
   "name": "python3"
  }
 },
 "nbformat": 4,
 "nbformat_minor": 5
}
