{
 "cells": [
  {
   "cell_type": "code",
   "execution_count": null,
   "metadata": {},
   "outputs": [],
   "source": [
    "#| default_exp vision_augmentation"
   ]
  },
  {
   "cell_type": "code",
   "execution_count": null,
   "metadata": {},
   "outputs": [],
   "source": [
    "#| hide\n",
    "from nbdev.showdoc import *"
   ]
  },
  {
   "cell_type": "code",
   "execution_count": null,
   "metadata": {},
   "outputs": [],
   "source": [
    "#| export\n",
    "from fastai.data.all import *\n",
    "from fastMONAI.vision_core import *\n",
    "import torchio as tio"
   ]
  },
  {
   "cell_type": "markdown",
   "metadata": {},
   "source": [
    "# Data augmentation\n",
    ">"
   ]
  },
  {
   "cell_type": "markdown",
   "metadata": {},
   "source": [
    "## Transforms wrapper"
   ]
  },
  {
   "cell_type": "code",
   "execution_count": null,
   "metadata": {},
   "outputs": [],
   "source": [
    "#| export\n",
    "class CustomDictTransform(ItemTransform):\n",
    "    '''Wrapper to perform an identical transformation on both image and target (if it is a mask) during training.'''\n",
    "    \n",
    "    split_idx = 0\n",
    "    def __init__(self, aug): self.aug = aug\n",
    "\n",
    "    def encodes(self, x):\n",
    "        '''Apply transformation to an image, and the same random transformation to the target if it is a mask.\n",
    "\n",
    "        Args:\n",
    "            x: Contains image and target.\n",
    "\n",
    "        Returns:\n",
    "            MedImage: Transformed image data.\n",
    "            (MedMask, TensorCategory, ...todo): If the target is a mask, then return a transformed mask data. Otherwise, return target value.\n",
    "        '''\n",
    "\n",
    "        img, y_true = x\n",
    "\n",
    "        if isinstance(y_true, (MedMask)):\n",
    "            aug = self.aug(tio.Subject(img=tio.ScalarImage(tensor=img, affine=MedImage.affine_matrix), mask=tio.LabelMap(tensor=y_true, affine=MedImage.affine_matrix)))\n",
    "            return MedImage.create(aug['img'].data), MedMask.create(aug['mask'].data)\n",
    "        else:\n",
    "            aug = self.aug(tio.Subject(img=tio.ScalarImage(tensor=img)))\n",
    "            return MedImage.create(aug['img'].data), y_true"
   ]
  },
  {
   "cell_type": "code",
   "execution_count": null,
   "metadata": {},
   "outputs": [
    {
     "data": {
      "text/markdown": [
       "---\n",
       "\n",
       "[source](https://github.com/MMIV-ML/fastMONAI/blob/master/fastMONAI/vision_augmentation.py#L14){target=\"_blank\" style=\"float:right; font-size:smaller\"}\n",
       "\n",
       "### CustomDictTransform\n",
       "\n",
       ">      CustomDictTransform (aug)\n",
       "\n",
       "Wrapper to perform an identical transformation on both image and target (if it is a mask) during training."
      ],
      "text/plain": [
       "---\n",
       "\n",
       "[source](https://github.com/MMIV-ML/fastMONAI/blob/master/fastMONAI/vision_augmentation.py#L14){target=\"_blank\" style=\"float:right; font-size:smaller\"}\n",
       "\n",
       "### CustomDictTransform\n",
       "\n",
       ">      CustomDictTransform (aug)\n",
       "\n",
       "Wrapper to perform an identical transformation on both image and target (if it is a mask) during training."
      ]
     },
     "execution_count": null,
     "metadata": {},
     "output_type": "execute_result"
    }
   ],
   "source": [
    "show_doc(CustomDictTransform, title_level=3)"
   ]
  },
  {
   "cell_type": "markdown",
   "metadata": {},
   "source": [
    "## Vanilla transforms"
   ]
  },
  {
   "cell_type": "code",
   "execution_count": null,
   "metadata": {},
   "outputs": [],
   "source": [
    "#| export\n",
    "def do_pad_or_crop(o, target_shape, padding_mode, mask_name, dtype=torch.Tensor):\n",
    "\n",
    "    pad_or_crop = tio.CropOrPad(target_shape=target_shape, padding_mode=padding_mode, mask_name=mask_name)\n",
    "    return dtype(pad_or_crop(o))"
   ]
  },
  {
   "cell_type": "code",
   "execution_count": null,
   "metadata": {},
   "outputs": [],
   "source": [
    "#| export \n",
    "class PadOrCrop(DisplayedTransform):\n",
    "    '''Resize image using TorchIO `CropOrPad`.'''\n",
    "\n",
    "    order=0\n",
    "    def __init__(self, size, padding_mode=0, mask_name=None):\n",
    "        if not is_listy(size): size=[size,size,size]\n",
    "        self.size, self.padding_mode, self.mask_name = size, padding_mode, mask_name\n",
    "\n",
    "    def encodes(self, o:(MedImage, MedMask)):\n",
    "        return do_pad_or_crop(o,target_shape=self.size, padding_mode=self.padding_mode, mask_name=self.mask_name, dtype=type(o))"
   ]
  },
  {
   "cell_type": "code",
   "execution_count": null,
   "metadata": {},
   "outputs": [
    {
     "data": {
      "text/markdown": [
       "---\n",
       "\n",
       "[source](https://github.com/MMIV-ML/fastMONAI/blob/master/fastMONAI/vision_augmentation.py#L47){target=\"_blank\" style=\"float:right; font-size:smaller\"}\n",
       "\n",
       "### PadOrCrop\n",
       "\n",
       ">      PadOrCrop (size, padding_mode=0, mask_name=None)\n",
       "\n",
       "Resize image using TorchIO `CropOrPad`."
      ],
      "text/plain": [
       "---\n",
       "\n",
       "[source](https://github.com/MMIV-ML/fastMONAI/blob/master/fastMONAI/vision_augmentation.py#L47){target=\"_blank\" style=\"float:right; font-size:smaller\"}\n",
       "\n",
       "### PadOrCrop\n",
       "\n",
       ">      PadOrCrop (size, padding_mode=0, mask_name=None)\n",
       "\n",
       "Resize image using TorchIO `CropOrPad`."
      ]
     },
     "execution_count": null,
     "metadata": {},
     "output_type": "execute_result"
    }
   ],
   "source": [
    "show_doc(PadOrCrop, title_level=3)"
   ]
  },
  {
   "cell_type": "code",
   "execution_count": null,
   "metadata": {},
   "outputs": [],
   "source": [
    "#| export\n",
    "def _do_z_normalization(o, masking_method, channel_wise):\n",
    "\n",
    "    z_normalization = tio.ZNormalization(masking_method=masking_method)\n",
    "    normalized_tensor = torch.zeros(o.shape)\n",
    "\n",
    "    if channel_wise:\n",
    "        for idx, c in enumerate(o): \n",
    "            normalized_tensor[idx] = z_normalization(c[None])[0]\n",
    "            \n",
    "    else: normalized_tensor = z_normalization(o)\n",
    "\n",
    "    return normalized_tensor"
   ]
  },
  {
   "cell_type": "code",
   "execution_count": null,
   "metadata": {},
   "outputs": [],
   "source": [
    "#| export\n",
    "class ZNormalization(DisplayedTransform):\n",
    "    '''Apply TorchIO `ZNormalization`.'''\n",
    "\n",
    "    order=0\n",
    "    def __init__(self, masking_method=None, channel_wise=True):\n",
    "        self.masking_method, self.channel_wise = masking_method, channel_wise\n",
    "\n",
    "    def encodes(self, o:(MedImage)): return MedImage.create(_do_z_normalization(o, self.masking_method, self.channel_wise))\n",
    "    def encodes(self, o:(MedMask)):return o"
   ]
  },
  {
   "cell_type": "code",
   "execution_count": null,
   "metadata": {},
   "outputs": [
    {
     "data": {
      "text/markdown": [
       "---\n",
       "\n",
       "[source](https://github.com/MMIV-ML/fastMONAI/blob/master/fastMONAI/vision_augmentation.py#L73){target=\"_blank\" style=\"float:right; font-size:smaller\"}\n",
       "\n",
       "### ZNormalization\n",
       "\n",
       ">      ZNormalization (masking_method=None, channel_wise=True)\n",
       "\n",
       "Apply TorchIO `ZNormalization`."
      ],
      "text/plain": [
       "---\n",
       "\n",
       "[source](https://github.com/MMIV-ML/fastMONAI/blob/master/fastMONAI/vision_augmentation.py#L73){target=\"_blank\" style=\"float:right; font-size:smaller\"}\n",
       "\n",
       "### ZNormalization\n",
       "\n",
       ">      ZNormalization (masking_method=None, channel_wise=True)\n",
       "\n",
       "Apply TorchIO `ZNormalization`."
      ]
     },
     "execution_count": null,
     "metadata": {},
     "output_type": "execute_result"
    }
   ],
   "source": [
    "show_doc(ZNormalization, title_level=3)"
   ]
  },
  {
   "cell_type": "code",
   "execution_count": null,
   "metadata": {},
   "outputs": [],
   "source": [
    "#| export\n",
    "class BraTSMaskConverter(DisplayedTransform):\n",
    "    '''Convert BraTS masks.'''\n",
    "\n",
    "    order=1\n",
    "\n",
    "    def encodes(self, o:(MedImage)): return o\n",
    "\n",
    "    def encodes(self, o:(MedMask)):\n",
    "        o = torch.where(o==4, 3., o)\n",
    "        return MedMask.create(o)"
   ]
  },
  {
   "cell_type": "code",
   "execution_count": null,
   "metadata": {},
   "outputs": [
    {
     "data": {
      "text/markdown": [
       "---\n",
       "\n",
       "[source](https://github.com/MMIV-ML/fastMONAI/blob/master/fastMONAI/vision_augmentation.py#L84){target=\"_blank\" style=\"float:right; font-size:smaller\"}\n",
       "\n",
       "### BraTSMaskConverter\n",
       "\n",
       ">      BraTSMaskConverter (enc=None, dec=None, split_idx=None, order=None)\n",
       "\n",
       "Convert BraTS masks."
      ],
      "text/plain": [
       "---\n",
       "\n",
       "[source](https://github.com/MMIV-ML/fastMONAI/blob/master/fastMONAI/vision_augmentation.py#L84){target=\"_blank\" style=\"float:right; font-size:smaller\"}\n",
       "\n",
       "### BraTSMaskConverter\n",
       "\n",
       ">      BraTSMaskConverter (enc=None, dec=None, split_idx=None, order=None)\n",
       "\n",
       "Convert BraTS masks."
      ]
     },
     "execution_count": null,
     "metadata": {},
     "output_type": "execute_result"
    }
   ],
   "source": [
    "show_doc(BraTSMaskConverter, title_level=3)"
   ]
  },
  {
   "cell_type": "code",
   "execution_count": null,
   "metadata": {},
   "outputs": [],
   "source": [
    "#| export\n",
    "class BinaryConverter(DisplayedTransform):\n",
    "    '''Convert to binary mask.'''\n",
    "\n",
    "    order=1\n",
    "\n",
    "    def encodes(self, o:(MedImage)): return o\n",
    "\n",
    "    def encodes(self, o:(MedMask)):\n",
    "        o = torch.where(o>0, 1., 0)\n",
    "        return MedMask.create(o)"
   ]
  },
  {
   "cell_type": "code",
   "execution_count": null,
   "metadata": {},
   "outputs": [],
   "source": [
    "show_doc(BraTSMaskConverter, title_level=3)"
   ]
  },
  {
   "cell_type": "code",
   "execution_count": null,
   "metadata": {},
   "outputs": [],
   "source": [
    "#| export\n",
    "def _do_rand_ghosting(o, intensity, p):\n",
    "    \n",
    "    add_ghosts = tio.RandomGhosting(intensity=intensity, p=p)\n",
    "    return add_ghosts(o)"
   ]
  },
  {
   "cell_type": "code",
   "execution_count": null,
   "metadata": {},
   "outputs": [],
   "source": [
    "#| export\n",
    "class RandomGhosting(DisplayedTransform):\n",
    "    '''Apply TorchIO `RandomGhosting`.'''\n",
    "\n",
    "    split_idx,order=0,1\n",
    "\n",
    "    def __init__(self, intensity =(0.5, 1), p=0.5):\n",
    "        self.intensity, self.p  = intensity, p\n",
    "\n",
    "    def encodes(self, o:(MedImage)): return MedImage.create(_do_rand_ghosting(o, self.intensity, self.p))\n",
    "    def encodes(self, o:(MedMask)):return o"
   ]
  },
  {
   "cell_type": "code",
   "execution_count": null,
   "metadata": {},
   "outputs": [
    {
     "data": {
      "text/markdown": [
       "---\n",
       "\n",
       "[source](https://github.com/MMIV-ML/fastMONAI/blob/master/fastMONAI/vision_augmentation.py#L102){target=\"_blank\" style=\"float:right; font-size:smaller\"}\n",
       "\n",
       "### RandomGhosting\n",
       "\n",
       ">      RandomGhosting (intensity=(0.5, 1), p=0.5)\n",
       "\n",
       "Apply TorchIO `RandomGhosting`."
      ],
      "text/plain": [
       "---\n",
       "\n",
       "[source](https://github.com/MMIV-ML/fastMONAI/blob/master/fastMONAI/vision_augmentation.py#L102){target=\"_blank\" style=\"float:right; font-size:smaller\"}\n",
       "\n",
       "### RandomGhosting\n",
       "\n",
       ">      RandomGhosting (intensity=(0.5, 1), p=0.5)\n",
       "\n",
       "Apply TorchIO `RandomGhosting`."
      ]
     },
     "execution_count": null,
     "metadata": {},
     "output_type": "execute_result"
    }
   ],
   "source": [
    "show_doc(RandomGhosting, title_level=3)"
   ]
  },
  {
   "cell_type": "code",
   "execution_count": null,
   "metadata": {},
   "outputs": [],
   "source": [
    "#| export\n",
    "def _do_rand_spike(o, num_spikes, intensity, p):\n",
    "\n",
    "    add_spikes = tio.RandomSpike(num_spikes=num_spikes, intensity=intensity, p=p)\n",
    "    return add_spikes(o) #return torch tensor"
   ]
  },
  {
   "cell_type": "code",
   "execution_count": null,
   "metadata": {},
   "outputs": [],
   "source": [
    "#| export\n",
    "class RandomSpike(DisplayedTransform):\n",
    "    '''Apply TorchIO `RandomSpike`.'''\n",
    "    \n",
    "    split_idx,order=0,1\n",
    "\n",
    "    def __init__(self, num_spikes=1, intensity=(1, 3), p=0.5):\n",
    "        self.num_spikes, self.intensity, self.p  = num_spikes, intensity, p\n",
    "\n",
    "    def encodes(self, o:(MedImage)): return MedImage.create(_do_rand_spike(o, self.num_spikes, self.intensity, self.p))\n",
    "    def encodes(self, o:(MedMask)):return o"
   ]
  },
  {
   "cell_type": "code",
   "execution_count": null,
   "metadata": {},
   "outputs": [
    {
     "data": {
      "text/markdown": [
       "---\n",
       "\n",
       "[source](https://github.com/MMIV-ML/fastMONAI/blob/master/fastMONAI/vision_augmentation.py#L120){target=\"_blank\" style=\"float:right; font-size:smaller\"}\n",
       "\n",
       "### RandomSpike\n",
       "\n",
       ">      RandomSpike (num_spikes=1, intensity=(1, 3), p=0.5)\n",
       "\n",
       "Apply TorchIO `RandomSpike`."
      ],
      "text/plain": [
       "---\n",
       "\n",
       "[source](https://github.com/MMIV-ML/fastMONAI/blob/master/fastMONAI/vision_augmentation.py#L120){target=\"_blank\" style=\"float:right; font-size:smaller\"}\n",
       "\n",
       "### RandomSpike\n",
       "\n",
       ">      RandomSpike (num_spikes=1, intensity=(1, 3), p=0.5)\n",
       "\n",
       "Apply TorchIO `RandomSpike`."
      ]
     },
     "execution_count": null,
     "metadata": {},
     "output_type": "execute_result"
    }
   ],
   "source": [
    "show_doc(RandomSpike, title_level=3)"
   ]
  },
  {
   "cell_type": "code",
   "execution_count": null,
   "metadata": {},
   "outputs": [],
   "source": [
    "#| export\n",
    "def _do_rand_noise(o, mean, std, p):\n",
    "\n",
    "    add_noise = tio.RandomNoise(mean=mean, std=std, p=p)\n",
    "    return add_noise(o) #return torch tensor"
   ]
  },
  {
   "cell_type": "code",
   "execution_count": null,
   "metadata": {},
   "outputs": [],
   "source": [
    "#| export\n",
    "class RandomNoise(DisplayedTransform):\n",
    "    '''Apply TorchIO `RandomNoise`.'''\n",
    "\n",
    "    split_idx,order=0,1\n",
    "\n",
    "    def __init__(self, mean=0, std=(0, 0.25), p=0.5):\n",
    "        self.mean, self.std, self.p  = mean, std, p\n",
    "\n",
    "    def encodes(self, o:(MedImage)): return MedImage.create(_do_rand_noise(o, mean=self.mean, std=self.std, p=self.p))\n",
    "    def encodes(self, o:(MedMask)):return o"
   ]
  },
  {
   "cell_type": "code",
   "execution_count": null,
   "metadata": {},
   "outputs": [
    {
     "data": {
      "text/markdown": [
       "---\n",
       "\n",
       "[source](https://github.com/MMIV-ML/fastMONAI/blob/master/fastMONAI/vision_augmentation.py#L138){target=\"_blank\" style=\"float:right; font-size:smaller\"}\n",
       "\n",
       "### RandomNoise\n",
       "\n",
       ">      RandomNoise (mean=0, std=(0, 0.25), p=0.5)\n",
       "\n",
       "Apply TorchIO `RandomNoise`."
      ],
      "text/plain": [
       "---\n",
       "\n",
       "[source](https://github.com/MMIV-ML/fastMONAI/blob/master/fastMONAI/vision_augmentation.py#L138){target=\"_blank\" style=\"float:right; font-size:smaller\"}\n",
       "\n",
       "### RandomNoise\n",
       "\n",
       ">      RandomNoise (mean=0, std=(0, 0.25), p=0.5)\n",
       "\n",
       "Apply TorchIO `RandomNoise`."
      ]
     },
     "execution_count": null,
     "metadata": {},
     "output_type": "execute_result"
    }
   ],
   "source": [
    "show_doc(RandomNoise, title_level=3)"
   ]
  },
  {
   "cell_type": "code",
   "execution_count": null,
   "metadata": {},
   "outputs": [],
   "source": [
    "#| export\n",
    "def _do_rand_biasfield(o, coefficients, order, p):\n",
    "\n",
    "    add_biasfield = tio.RandomBiasField(coefficients=coefficients, order=order, p=p)\n",
    "    return add_biasfield(o) #return torch tensor"
   ]
  },
  {
   "cell_type": "code",
   "execution_count": null,
   "metadata": {},
   "outputs": [],
   "source": [
    "#| export\n",
    "class RandomBiasField(DisplayedTransform):\n",
    "    '''Apply TorchIO `RandomBiasField`.'''\n",
    "\n",
    "    split_idx,order=0,1\n",
    "\n",
    "    def __init__(self, coefficients=0.5, order=3, p=0.5):\n",
    "        self.coefficients, self.order, self.p  = coefficients, order, p\n",
    "\n",
    "    def encodes(self, o:(MedImage)): return MedImage.create(_do_rand_biasfield(o, coefficients=self.coefficients, order=self.order, p=self.p))\n",
    "    def encodes(self, o:(MedMask)):return o"
   ]
  },
  {
   "cell_type": "code",
   "execution_count": null,
   "metadata": {},
   "outputs": [
    {
     "data": {
      "text/markdown": [
       "---\n",
       "\n",
       "[source](https://github.com/MMIV-ML/fastMONAI/blob/master/fastMONAI/vision_augmentation.py#L156){target=\"_blank\" style=\"float:right; font-size:smaller\"}\n",
       "\n",
       "### RandomBiasField\n",
       "\n",
       ">      RandomBiasField (coefficients=0.5, order=3, p=0.5)\n",
       "\n",
       "Apply TorchIO `RandomBiasField`."
      ],
      "text/plain": [
       "---\n",
       "\n",
       "[source](https://github.com/MMIV-ML/fastMONAI/blob/master/fastMONAI/vision_augmentation.py#L156){target=\"_blank\" style=\"float:right; font-size:smaller\"}\n",
       "\n",
       "### RandomBiasField\n",
       "\n",
       ">      RandomBiasField (coefficients=0.5, order=3, p=0.5)\n",
       "\n",
       "Apply TorchIO `RandomBiasField`."
      ]
     },
     "execution_count": null,
     "metadata": {},
     "output_type": "execute_result"
    }
   ],
   "source": [
    "show_doc(RandomBiasField, title_level=3)"
   ]
  },
  {
   "cell_type": "code",
   "execution_count": null,
   "metadata": {},
   "outputs": [],
   "source": [
    "#| export\n",
    "def _do_rand_blur(o, std, p):\n",
    "\n",
    "    add_blur = tio.RandomBlur(std=std, p=p)\n",
    "    return add_blur(o) "
   ]
  },
  {
   "cell_type": "code",
   "execution_count": null,
   "metadata": {},
   "outputs": [],
   "source": [
    "#| export\n",
    "class RandomBlur(DisplayedTransform):\n",
    "    '''Apply TorchIO `RandomBiasField`.'''\n",
    "\n",
    "    split_idx,order=0,1\n",
    "\n",
    "    def __init__(self, std=(0, 2), p=0.5):\n",
    "        self.std, self.p  = std, p\n",
    "\n",
    "    def encodes(self, o:(MedImage)): return MedImage.create(_do_rand_blur(o, std=self.std, p=self.p))\n",
    "    def encodes(self, o:(MedMask)):return o"
   ]
  },
  {
   "cell_type": "code",
   "execution_count": null,
   "metadata": {},
   "outputs": [
    {
     "data": {
      "text/markdown": [
       "---\n",
       "\n",
       "[source](https://github.com/MMIV-ML/fastMONAI/blob/master/fastMONAI/vision_augmentation.py#L174){target=\"_blank\" style=\"float:right; font-size:smaller\"}\n",
       "\n",
       "### RandomBlur\n",
       "\n",
       ">      RandomBlur (std=(0, 2), p=0.5)\n",
       "\n",
       "Apply TorchIO `RandomBiasField`."
      ],
      "text/plain": [
       "---\n",
       "\n",
       "[source](https://github.com/MMIV-ML/fastMONAI/blob/master/fastMONAI/vision_augmentation.py#L174){target=\"_blank\" style=\"float:right; font-size:smaller\"}\n",
       "\n",
       "### RandomBlur\n",
       "\n",
       ">      RandomBlur (std=(0, 2), p=0.5)\n",
       "\n",
       "Apply TorchIO `RandomBiasField`."
      ]
     },
     "execution_count": null,
     "metadata": {},
     "output_type": "execute_result"
    }
   ],
   "source": [
    "show_doc(RandomBlur, title_level=3)"
   ]
  },
  {
   "cell_type": "code",
   "execution_count": null,
   "metadata": {},
   "outputs": [],
   "source": [
    "#| export\n",
    "def _do_rand_gamma(o, log_gamma, p):\n",
    "\n",
    "    add_gamma = tio.RandomGamma(log_gamma=log_gamma, p=p)\n",
    "    return add_gamma(o) "
   ]
  },
  {
   "cell_type": "code",
   "execution_count": null,
   "metadata": {},
   "outputs": [],
   "source": [
    "#| export\n",
    "class RandomGamma(DisplayedTransform):\n",
    "    '''Apply TorchIO `RandomGamma`.'''\n",
    "\n",
    "\n",
    "    split_idx,order=0,1\n",
    "\n",
    "    def __init__(self, log_gamma=(-0.3, 0.3), p=0.5):\n",
    "        self.log_gamma, self.p  = log_gamma, p\n",
    "\n",
    "    def encodes(self, o:(MedImage)): return MedImage.create(_do_rand_gamma(o, log_gamma=self.log_gamma, p=self.p))\n",
    "    def encodes(self, o:(MedMask)):return o"
   ]
  },
  {
   "cell_type": "code",
   "execution_count": null,
   "metadata": {},
   "outputs": [
    {
     "data": {
      "text/markdown": [
       "---\n",
       "\n",
       "[source](https://github.com/MMIV-ML/fastMONAI/blob/master/fastMONAI/vision_augmentation.py#L192){target=\"_blank\" style=\"float:right; font-size:smaller\"}\n",
       "\n",
       "### RandomGamma\n",
       "\n",
       ">      RandomGamma (log_gamma=(-0.3, 0.3), p=0.5)\n",
       "\n",
       "Apply TorchIO `RandomGamma`."
      ],
      "text/plain": [
       "---\n",
       "\n",
       "[source](https://github.com/MMIV-ML/fastMONAI/blob/master/fastMONAI/vision_augmentation.py#L192){target=\"_blank\" style=\"float:right; font-size:smaller\"}\n",
       "\n",
       "### RandomGamma\n",
       "\n",
       ">      RandomGamma (log_gamma=(-0.3, 0.3), p=0.5)\n",
       "\n",
       "Apply TorchIO `RandomGamma`."
      ]
     },
     "execution_count": null,
     "metadata": {},
     "output_type": "execute_result"
    }
   ],
   "source": [
    "show_doc(RandomGamma, title_level=3)"
   ]
  },
  {
   "cell_type": "code",
   "execution_count": null,
   "metadata": {},
   "outputs": [],
   "source": [
    "#| export\n",
    "def _do_rand_motion(o, degrees, translation, num_transforms, image_interpolation, p):\n",
    "\n",
    "    add_motion = tio.RandomMotion(degrees=degrees, translation=translation, num_transforms=num_transforms, image_interpolation=image_interpolation, p=p)\n",
    "    return add_motion(o) #return torch tensor"
   ]
  },
  {
   "cell_type": "code",
   "execution_count": null,
   "metadata": {},
   "outputs": [],
   "source": [
    "#| export\n",
    "class RandomMotion(DisplayedTransform):\n",
    "    '''Apply TorchIO `RandomMotion`.'''\n",
    "\n",
    "    split_idx,order=0,1\n",
    "\n",
    "    def __init__(self, degrees=10, translation=10, num_transforms=2, image_interpolation='linear', p=0.5):\n",
    "        self.degrees,self.translation, self.num_transforms, self.image_interpolation, self.p = degrees,translation, num_transforms, image_interpolation, p\n",
    "\n",
    "    def encodes(self, o:(MedImage)): return MedImage.create(_do_rand_motion(o, degrees=self.degrees,translation=self.translation, num_transforms=self.num_transforms, image_interpolation=self.image_interpolation, p=self.p))\n",
    "    def encodes(self, o:(MedMask)):return o"
   ]
  },
  {
   "cell_type": "code",
   "execution_count": null,
   "metadata": {},
   "outputs": [
    {
     "data": {
      "text/markdown": [
       "---\n",
       "\n",
       "[source](https://github.com/MMIV-ML/fastMONAI/blob/master/fastMONAI/vision_augmentation.py#L211){target=\"_blank\" style=\"float:right; font-size:smaller\"}\n",
       "\n",
       "### RandomMotion\n",
       "\n",
       ">      RandomMotion (degrees=10, translation=10, num_transforms=2,\n",
       ">                    image_interpolation='linear', p=0.5)\n",
       "\n",
       "Apply TorchIO `RandomMotion`."
      ],
      "text/plain": [
       "---\n",
       "\n",
       "[source](https://github.com/MMIV-ML/fastMONAI/blob/master/fastMONAI/vision_augmentation.py#L211){target=\"_blank\" style=\"float:right; font-size:smaller\"}\n",
       "\n",
       "### RandomMotion\n",
       "\n",
       ">      RandomMotion (degrees=10, translation=10, num_transforms=2,\n",
       ">                    image_interpolation='linear', p=0.5)\n",
       "\n",
       "Apply TorchIO `RandomMotion`."
      ]
     },
     "execution_count": null,
     "metadata": {},
     "output_type": "execute_result"
    }
   ],
   "source": [
    "show_doc(RandomMotion, title_level=3)"
   ]
  },
  {
   "cell_type": "markdown",
   "metadata": {},
   "source": [
    "## Dictionary transforms "
   ]
  },
  {
   "cell_type": "code",
   "execution_count": null,
   "metadata": {},
   "outputs": [],
   "source": [
    "#| export\n",
    "class RandomElasticDeformation(CustomDictTransform):\n",
    "    '''Apply TorchIO `RandomElasticDeformation`.'''\n",
    "\n",
    "    def __init__(self,num_control_points=7, max_displacement=7.5, image_interpolation='linear', p=0.5): \n",
    "        super().__init__(tio.RandomElasticDeformation(num_control_points=num_control_points, max_displacement=max_displacement, image_interpolation=image_interpolation, p=p))"
   ]
  },
  {
   "cell_type": "code",
   "execution_count": null,
   "metadata": {},
   "outputs": [
    {
     "data": {
      "text/markdown": [
       "---\n",
       "\n",
       "[source](https://github.com/MMIV-ML/fastMONAI/blob/master/fastMONAI/vision_augmentation.py#L223){target=\"_blank\" style=\"float:right; font-size:smaller\"}\n",
       "\n",
       "### RandomElasticDeformation\n",
       "\n",
       ">      RandomElasticDeformation (num_control_points=7, max_displacement=7.5,\n",
       ">                                image_interpolation='linear', p=0.5)\n",
       "\n",
       "Apply TorchIO `RandomElasticDeformation`."
      ],
      "text/plain": [
       "---\n",
       "\n",
       "[source](https://github.com/MMIV-ML/fastMONAI/blob/master/fastMONAI/vision_augmentation.py#L223){target=\"_blank\" style=\"float:right; font-size:smaller\"}\n",
       "\n",
       "### RandomElasticDeformation\n",
       "\n",
       ">      RandomElasticDeformation (num_control_points=7, max_displacement=7.5,\n",
       ">                                image_interpolation='linear', p=0.5)\n",
       "\n",
       "Apply TorchIO `RandomElasticDeformation`."
      ]
     },
     "execution_count": null,
     "metadata": {},
     "output_type": "execute_result"
    }
   ],
   "source": [
    "show_doc(RandomElasticDeformation, title_level=3,)"
   ]
  },
  {
   "cell_type": "code",
   "execution_count": null,
   "metadata": {},
   "outputs": [],
   "source": [
    "#| export        \n",
    "class RandomAffine(CustomDictTransform):\n",
    "    '''Apply TorchIO `RandomAffine`.'''\n",
    "\n",
    "    def __init__(self, scales=0, degrees=10, translation=0, isotropic=False, image_interpolation='linear', default_pad_value=0., p=0.5): \n",
    "        super().__init__(tio.RandomAffine(scales=scales, degrees=degrees, translation=translation, isotropic=isotropic, image_interpolation=image_interpolation, default_pad_value=default_pad_value, p=p))"
   ]
  },
  {
   "cell_type": "code",
   "execution_count": null,
   "metadata": {},
   "outputs": [
    {
     "data": {
      "text/markdown": [
       "---\n",
       "\n",
       "[source](https://github.com/MMIV-ML/fastMONAI/blob/master/fastMONAI/vision_augmentation.py#L230){target=\"_blank\" style=\"float:right; font-size:smaller\"}\n",
       "\n",
       "### RandomAffine\n",
       "\n",
       ">      RandomAffine (scales=0, degrees=10, translation=0, isotropic=False,\n",
       ">                    image_interpolation='linear', default_pad_value=0.0, p=0.5)\n",
       "\n",
       "Apply TorchIO `RandomAffine`."
      ],
      "text/plain": [
       "---\n",
       "\n",
       "[source](https://github.com/MMIV-ML/fastMONAI/blob/master/fastMONAI/vision_augmentation.py#L230){target=\"_blank\" style=\"float:right; font-size:smaller\"}\n",
       "\n",
       "### RandomAffine\n",
       "\n",
       ">      RandomAffine (scales=0, degrees=10, translation=0, isotropic=False,\n",
       ">                    image_interpolation='linear', default_pad_value=0.0, p=0.5)\n",
       "\n",
       "Apply TorchIO `RandomAffine`."
      ]
     },
     "execution_count": null,
     "metadata": {},
     "output_type": "execute_result"
    }
   ],
   "source": [
    "show_doc(RandomAffine, title_level=3)"
   ]
  },
  {
   "cell_type": "code",
   "execution_count": null,
   "metadata": {},
   "outputs": [],
   "source": [
    "#| export       \n",
    "class RandomFlip(CustomDictTransform):\n",
    "    '''Apply TorchIO `RandomFlip`.'''\n",
    "\n",
    "    def __init__(self, axes='LR', p=0.5):\n",
    "        super().__init__(tio.RandomFlip(axes=axes, flip_probability=p))"
   ]
  },
  {
   "cell_type": "code",
   "execution_count": null,
   "metadata": {},
   "outputs": [
    {
     "data": {
      "text/markdown": [
       "---\n",
       "\n",
       "[source](https://github.com/MMIV-ML/fastMONAI/blob/master/fastMONAI/vision_augmentation.py#L237){target=\"_blank\" style=\"float:right; font-size:smaller\"}\n",
       "\n",
       "### RandomFlip\n",
       "\n",
       ">      RandomFlip (axes='LR', p=0.5)\n",
       "\n",
       "Apply TorchIO `RandomFlip`."
      ],
      "text/plain": [
       "---\n",
       "\n",
       "[source](https://github.com/MMIV-ML/fastMONAI/blob/master/fastMONAI/vision_augmentation.py#L237){target=\"_blank\" style=\"float:right; font-size:smaller\"}\n",
       "\n",
       "### RandomFlip\n",
       "\n",
       ">      RandomFlip (axes='LR', p=0.5)\n",
       "\n",
       "Apply TorchIO `RandomFlip`."
      ]
     },
     "execution_count": null,
     "metadata": {},
     "output_type": "execute_result"
    }
   ],
   "source": [
    "show_doc(RandomFlip, title_level=3)"
   ]
  },
  {
   "cell_type": "code",
   "execution_count": null,
   "metadata": {},
   "outputs": [],
   "source": [
    "#| export\n",
    "class OneOf(CustomDictTransform):\n",
    "    '''Apply only one of the given transforms using TorchIO `OneOf`.'''\n",
    "\n",
    "    def __init__(self, transform_dict, p=1):\n",
    "        super().__init__(tio.OneOf(transform_dict, p=p))"
   ]
  },
  {
   "cell_type": "code",
   "execution_count": null,
   "metadata": {},
   "outputs": [
    {
     "data": {
      "text/markdown": [
       "---\n",
       "\n",
       "[source](https://github.com/MMIV-ML/fastMONAI/blob/master/fastMONAI/vision_augmentation.py#L244){target=\"_blank\" style=\"float:right; font-size:smaller\"}\n",
       "\n",
       "### OneOf\n",
       "\n",
       ">      OneOf (transform_dict, p=1)\n",
       "\n",
       "Apply only one of the given transforms using TorchIO `OneOf`."
      ],
      "text/plain": [
       "---\n",
       "\n",
       "[source](https://github.com/MMIV-ML/fastMONAI/blob/master/fastMONAI/vision_augmentation.py#L244){target=\"_blank\" style=\"float:right; font-size:smaller\"}\n",
       "\n",
       "### OneOf\n",
       "\n",
       ">      OneOf (transform_dict, p=1)\n",
       "\n",
       "Apply only one of the given transforms using TorchIO `OneOf`."
      ]
     },
     "execution_count": null,
     "metadata": {},
     "output_type": "execute_result"
    }
   ],
   "source": [
    "show_doc(OneOf, title_level=3)"
   ]
  },
  {
   "cell_type": "code",
   "execution_count": null,
   "metadata": {},
   "outputs": [],
   "source": [
    "#| hide\n",
    "#TorchIO has their own test methods: https://github.com/fepegar/torchio/tree/main/tests"
   ]
  }
 ],
 "metadata": {
  "kernelspec": {
   "display_name": "python3",
   "language": "python",
   "name": "python3"
  }
 },
 "nbformat": 4,
 "nbformat_minor": 4
}
